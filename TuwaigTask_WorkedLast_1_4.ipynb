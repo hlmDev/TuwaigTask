{
  "cells": [
    {
      "cell_type": "markdown",
      "metadata": {
        "id": "7VVmdsAgmuOa"
      },
      "source": [
        "#Data Loading and Exploration"
      ]
    },
    {
      "cell_type": "code",
      "execution_count": 1258,
      "metadata": {
        "id": "qwUErivQ7TlZ",
        "colab": {
          "base_uri": "https://localhost:8080/",
          "height": 1000
        },
        "outputId": "22b3d366-4c28-4faf-99bc-742b06ae994d"
      },
      "outputs": [
        {
          "output_type": "execute_result",
          "data": {
            "text/plain": [
              "                                Student ID   Age Gender   Home Region  \\\n",
              "0     4f14c50d-162e-4a15-9cf0-ec129c33bcf0  37.0    ذكر  منطقة الرياض   \n",
              "1     0599d409-876b-41a5-af05-749ef0e77d32  21.0    ذكر    منطقة عسير   \n",
              "2     38a11c0e-4afc-4261-9c64-e94cc0a272fb  24.0    ذكر  منطقة الرياض   \n",
              "3     1693e85b-f80e-40ce-846f-395ddcece6d3  23.0    ذكر  منطقة الرياض   \n",
              "4     98a0e8d0-5f80-4634-afd8-322aa0902863  23.0    ذكر  منطقة الرياض   \n",
              "...                                    ...   ...    ...           ...   \n",
              "6543  cd196579-9590-441b-8787-41078f3cee25  31.0   أنثى  منطقة الرياض   \n",
              "6544  37bfc11c-ff8c-42dc-9cf9-0d13bb8f7131  27.0   أنثى  منطقة القصيم   \n",
              "6545  fc114302-a79f-439f-a08b-fe0a51cf839e  24.0   أنثى  منطقة الرياض   \n",
              "6546  4b6d9a36-4402-4c75-bc3a-fca927dbaf65  25.0    ذكر  منطقة الرياض   \n",
              "6547  008f3386-0d43-45a4-8372-b282e5a0101a  37.0   أنثى  منطقة الرياض   \n",
              "\n",
              "      Home City                            Program ID  \\\n",
              "0        الرياض  453686d8-4023-4506-b2df-fac8b059ac26   \n",
              "1     خميس مشيط  cc8e4e42-65d5-4fa1-82f9-6c6c2d508b60   \n",
              "2        الرياض  e006900d-05a9-4c2b-a36f-0ffb9fce44cd   \n",
              "3        الرياض  2ec15f6b-233b-428a-b9f5-e40bc8d14cf9   \n",
              "4        الرياض  d32da0e9-1aed-48c3-992d-a22f9ccc741e   \n",
              "...         ...                                   ...   \n",
              "6543     الرياض  4f8c696a-b783-4d40-9776-105f6d3bd624   \n",
              "6544      بريدة  e94942dd-8684-4746-97ae-df567b9b0a4a   \n",
              "6545     الرياض  02ae0b47-64a6-47a1-b3c5-c0e4df393c30   \n",
              "6546     الرياض  9b4cedaa-fac0-4eac-aa4b-b05b6a0c97ff   \n",
              "6547     الرياض  d8fbc53c-e042-4e45-b8c7-42b4ad0528ee   \n",
              "\n",
              "     Program Main Category Code Program Sub Category Code Technology Type  \\\n",
              "0                          PCRF                      PCRF             NaN   \n",
              "1                          APMR                      SWPS             NaN   \n",
              "2                          APMR                       NaN             NaN   \n",
              "3                          TOSL                      TOSL             NaN   \n",
              "4                          CAUF                      SWPS         تقليدية   \n",
              "...                         ...                       ...             ...   \n",
              "6543                       CAUF                      SWPS             NaN   \n",
              "6544                       PCRF                      PCRF             NaN   \n",
              "6545                       PCRF                      PCRF         تقليدية   \n",
              "6546                       PCRF                      PCRF             NaN   \n",
              "6547                       CAUF                       NaN             NaN   \n",
              "\n",
              "     Program Skill Level  ... Completed Degree Level of Education  \\\n",
              "0                    NaN  ...              نعم        البكالوريوس   \n",
              "1                  متوسط  ...              نعم        البكالوريوس   \n",
              "2                  متوسط  ...              نعم        البكالوريوس   \n",
              "3                    NaN  ...              نعم        البكالوريوس   \n",
              "4                  متوسط  ...               لا        البكالوريوس   \n",
              "...                  ...  ...              ...                ...   \n",
              "6543                 NaN  ...              نعم        البكالوريوس   \n",
              "6544               مبتدئ  ...              نعم        البكالوريوس   \n",
              "6545               مبتدئ  ...               لا        البكالوريوس   \n",
              "6546               متوسط  ...              نعم        البكالوريوس   \n",
              "6547               مبتدئ  ...              نعم          الماجستير   \n",
              "\n",
              "                    Education Speaciality                         College  \\\n",
              "0                        هندسة حاسب الالي                             NaN   \n",
              "1              الإذاعة والتلفزيون والفيلم        الفنون والعلوم الإنسانية   \n",
              "2                  Information Technology                             NaN   \n",
              "3     حوسبة تطبيقية - (مسار شبكات الحاسب)                             NaN   \n",
              "4                 نظم المعلومات الحاسوبية  تكنولوجيا الاتصالات والمعلومات   \n",
              "...                                   ...                             ...   \n",
              "6543                      تقنية المعلومات  تكنولوجيا الاتصالات والمعلومات   \n",
              "6544                          علوم الحاسب                             NaN   \n",
              "6545                        نظم المعلومات  تكنولوجيا الاتصالات والمعلومات   \n",
              "6546                      تقنية المعلومات  تكنولوجيا الاتصالات والمعلومات   \n",
              "6547                 دراسات وقضايا معاصرة                             NaN   \n",
              "\n",
              "     University Degree Score University Degree Score System Employment Status  \\\n",
              "0                       2.44                            4.0          غير موظف   \n",
              "1                       5.00                            5.0              طالب   \n",
              "2                       3.50                            5.0              موظف   \n",
              "3                       3.55                            5.0              خريج   \n",
              "4                       4.00                            5.0               NaN   \n",
              "...                      ...                            ...               ...   \n",
              "6543                    4.40                            5.0               NaN   \n",
              "6544                    4.46                            5.0              موظف   \n",
              "6545                    4.93                            5.0              موظف   \n",
              "6546                    4.00                            4.0          غير موظف   \n",
              "6547                    4.32                            5.0              موظف   \n",
              "\n",
              "       Job Type  Still Working  Y  \n",
              "0           NaN            NaN  0  \n",
              "1           NaN            NaN  0  \n",
              "2           NaN            NaN  0  \n",
              "3           NaN            NaN  0  \n",
              "4           NaN            NaN  0  \n",
              "...         ...            ... ..  \n",
              "6543        NaN            NaN  0  \n",
              "6544        NaN            NaN  0  \n",
              "6545  دوام كامل            Yes  1  \n",
              "6546      تدريب             No  0  \n",
              "6547        NaN            NaN  0  \n",
              "\n",
              "[6548 rows x 24 columns]"
            ],
            "text/html": [
              "\n",
              "  <div id=\"df-d1361e86-38e8-4222-b966-9b7d80af2720\" class=\"colab-df-container\">\n",
              "    <div>\n",
              "<style scoped>\n",
              "    .dataframe tbody tr th:only-of-type {\n",
              "        vertical-align: middle;\n",
              "    }\n",
              "\n",
              "    .dataframe tbody tr th {\n",
              "        vertical-align: top;\n",
              "    }\n",
              "\n",
              "    .dataframe thead th {\n",
              "        text-align: right;\n",
              "    }\n",
              "</style>\n",
              "<table border=\"1\" class=\"dataframe\">\n",
              "  <thead>\n",
              "    <tr style=\"text-align: right;\">\n",
              "      <th></th>\n",
              "      <th>Student ID</th>\n",
              "      <th>Age</th>\n",
              "      <th>Gender</th>\n",
              "      <th>Home Region</th>\n",
              "      <th>Home City</th>\n",
              "      <th>Program ID</th>\n",
              "      <th>Program Main Category Code</th>\n",
              "      <th>Program Sub Category Code</th>\n",
              "      <th>Technology Type</th>\n",
              "      <th>Program Skill Level</th>\n",
              "      <th>...</th>\n",
              "      <th>Completed Degree</th>\n",
              "      <th>Level of Education</th>\n",
              "      <th>Education Speaciality</th>\n",
              "      <th>College</th>\n",
              "      <th>University Degree Score</th>\n",
              "      <th>University Degree Score System</th>\n",
              "      <th>Employment Status</th>\n",
              "      <th>Job Type</th>\n",
              "      <th>Still Working</th>\n",
              "      <th>Y</th>\n",
              "    </tr>\n",
              "  </thead>\n",
              "  <tbody>\n",
              "    <tr>\n",
              "      <th>0</th>\n",
              "      <td>4f14c50d-162e-4a15-9cf0-ec129c33bcf0</td>\n",
              "      <td>37.0</td>\n",
              "      <td>ذكر</td>\n",
              "      <td>منطقة الرياض</td>\n",
              "      <td>الرياض</td>\n",
              "      <td>453686d8-4023-4506-b2df-fac8b059ac26</td>\n",
              "      <td>PCRF</td>\n",
              "      <td>PCRF</td>\n",
              "      <td>NaN</td>\n",
              "      <td>NaN</td>\n",
              "      <td>...</td>\n",
              "      <td>نعم</td>\n",
              "      <td>البكالوريوس</td>\n",
              "      <td>هندسة حاسب الالي</td>\n",
              "      <td>NaN</td>\n",
              "      <td>2.44</td>\n",
              "      <td>4.0</td>\n",
              "      <td>غير موظف</td>\n",
              "      <td>NaN</td>\n",
              "      <td>NaN</td>\n",
              "      <td>0</td>\n",
              "    </tr>\n",
              "    <tr>\n",
              "      <th>1</th>\n",
              "      <td>0599d409-876b-41a5-af05-749ef0e77d32</td>\n",
              "      <td>21.0</td>\n",
              "      <td>ذكر</td>\n",
              "      <td>منطقة عسير</td>\n",
              "      <td>خميس مشيط</td>\n",
              "      <td>cc8e4e42-65d5-4fa1-82f9-6c6c2d508b60</td>\n",
              "      <td>APMR</td>\n",
              "      <td>SWPS</td>\n",
              "      <td>NaN</td>\n",
              "      <td>متوسط</td>\n",
              "      <td>...</td>\n",
              "      <td>نعم</td>\n",
              "      <td>البكالوريوس</td>\n",
              "      <td>الإذاعة والتلفزيون والفيلم</td>\n",
              "      <td>الفنون والعلوم الإنسانية</td>\n",
              "      <td>5.00</td>\n",
              "      <td>5.0</td>\n",
              "      <td>طالب</td>\n",
              "      <td>NaN</td>\n",
              "      <td>NaN</td>\n",
              "      <td>0</td>\n",
              "    </tr>\n",
              "    <tr>\n",
              "      <th>2</th>\n",
              "      <td>38a11c0e-4afc-4261-9c64-e94cc0a272fb</td>\n",
              "      <td>24.0</td>\n",
              "      <td>ذكر</td>\n",
              "      <td>منطقة الرياض</td>\n",
              "      <td>الرياض</td>\n",
              "      <td>e006900d-05a9-4c2b-a36f-0ffb9fce44cd</td>\n",
              "      <td>APMR</td>\n",
              "      <td>NaN</td>\n",
              "      <td>NaN</td>\n",
              "      <td>متوسط</td>\n",
              "      <td>...</td>\n",
              "      <td>نعم</td>\n",
              "      <td>البكالوريوس</td>\n",
              "      <td>Information Technology</td>\n",
              "      <td>NaN</td>\n",
              "      <td>3.50</td>\n",
              "      <td>5.0</td>\n",
              "      <td>موظف</td>\n",
              "      <td>NaN</td>\n",
              "      <td>NaN</td>\n",
              "      <td>0</td>\n",
              "    </tr>\n",
              "    <tr>\n",
              "      <th>3</th>\n",
              "      <td>1693e85b-f80e-40ce-846f-395ddcece6d3</td>\n",
              "      <td>23.0</td>\n",
              "      <td>ذكر</td>\n",
              "      <td>منطقة الرياض</td>\n",
              "      <td>الرياض</td>\n",
              "      <td>2ec15f6b-233b-428a-b9f5-e40bc8d14cf9</td>\n",
              "      <td>TOSL</td>\n",
              "      <td>TOSL</td>\n",
              "      <td>NaN</td>\n",
              "      <td>NaN</td>\n",
              "      <td>...</td>\n",
              "      <td>نعم</td>\n",
              "      <td>البكالوريوس</td>\n",
              "      <td>حوسبة تطبيقية - (مسار شبكات الحاسب)</td>\n",
              "      <td>NaN</td>\n",
              "      <td>3.55</td>\n",
              "      <td>5.0</td>\n",
              "      <td>خريج</td>\n",
              "      <td>NaN</td>\n",
              "      <td>NaN</td>\n",
              "      <td>0</td>\n",
              "    </tr>\n",
              "    <tr>\n",
              "      <th>4</th>\n",
              "      <td>98a0e8d0-5f80-4634-afd8-322aa0902863</td>\n",
              "      <td>23.0</td>\n",
              "      <td>ذكر</td>\n",
              "      <td>منطقة الرياض</td>\n",
              "      <td>الرياض</td>\n",
              "      <td>d32da0e9-1aed-48c3-992d-a22f9ccc741e</td>\n",
              "      <td>CAUF</td>\n",
              "      <td>SWPS</td>\n",
              "      <td>تقليدية</td>\n",
              "      <td>متوسط</td>\n",
              "      <td>...</td>\n",
              "      <td>لا</td>\n",
              "      <td>البكالوريوس</td>\n",
              "      <td>نظم المعلومات الحاسوبية</td>\n",
              "      <td>تكنولوجيا الاتصالات والمعلومات</td>\n",
              "      <td>4.00</td>\n",
              "      <td>5.0</td>\n",
              "      <td>NaN</td>\n",
              "      <td>NaN</td>\n",
              "      <td>NaN</td>\n",
              "      <td>0</td>\n",
              "    </tr>\n",
              "    <tr>\n",
              "      <th>...</th>\n",
              "      <td>...</td>\n",
              "      <td>...</td>\n",
              "      <td>...</td>\n",
              "      <td>...</td>\n",
              "      <td>...</td>\n",
              "      <td>...</td>\n",
              "      <td>...</td>\n",
              "      <td>...</td>\n",
              "      <td>...</td>\n",
              "      <td>...</td>\n",
              "      <td>...</td>\n",
              "      <td>...</td>\n",
              "      <td>...</td>\n",
              "      <td>...</td>\n",
              "      <td>...</td>\n",
              "      <td>...</td>\n",
              "      <td>...</td>\n",
              "      <td>...</td>\n",
              "      <td>...</td>\n",
              "      <td>...</td>\n",
              "      <td>...</td>\n",
              "    </tr>\n",
              "    <tr>\n",
              "      <th>6543</th>\n",
              "      <td>cd196579-9590-441b-8787-41078f3cee25</td>\n",
              "      <td>31.0</td>\n",
              "      <td>أنثى</td>\n",
              "      <td>منطقة الرياض</td>\n",
              "      <td>الرياض</td>\n",
              "      <td>4f8c696a-b783-4d40-9776-105f6d3bd624</td>\n",
              "      <td>CAUF</td>\n",
              "      <td>SWPS</td>\n",
              "      <td>NaN</td>\n",
              "      <td>NaN</td>\n",
              "      <td>...</td>\n",
              "      <td>نعم</td>\n",
              "      <td>البكالوريوس</td>\n",
              "      <td>تقنية المعلومات</td>\n",
              "      <td>تكنولوجيا الاتصالات والمعلومات</td>\n",
              "      <td>4.40</td>\n",
              "      <td>5.0</td>\n",
              "      <td>NaN</td>\n",
              "      <td>NaN</td>\n",
              "      <td>NaN</td>\n",
              "      <td>0</td>\n",
              "    </tr>\n",
              "    <tr>\n",
              "      <th>6544</th>\n",
              "      <td>37bfc11c-ff8c-42dc-9cf9-0d13bb8f7131</td>\n",
              "      <td>27.0</td>\n",
              "      <td>أنثى</td>\n",
              "      <td>منطقة القصيم</td>\n",
              "      <td>بريدة</td>\n",
              "      <td>e94942dd-8684-4746-97ae-df567b9b0a4a</td>\n",
              "      <td>PCRF</td>\n",
              "      <td>PCRF</td>\n",
              "      <td>NaN</td>\n",
              "      <td>مبتدئ</td>\n",
              "      <td>...</td>\n",
              "      <td>نعم</td>\n",
              "      <td>البكالوريوس</td>\n",
              "      <td>علوم الحاسب</td>\n",
              "      <td>NaN</td>\n",
              "      <td>4.46</td>\n",
              "      <td>5.0</td>\n",
              "      <td>موظف</td>\n",
              "      <td>NaN</td>\n",
              "      <td>NaN</td>\n",
              "      <td>0</td>\n",
              "    </tr>\n",
              "    <tr>\n",
              "      <th>6545</th>\n",
              "      <td>fc114302-a79f-439f-a08b-fe0a51cf839e</td>\n",
              "      <td>24.0</td>\n",
              "      <td>أنثى</td>\n",
              "      <td>منطقة الرياض</td>\n",
              "      <td>الرياض</td>\n",
              "      <td>02ae0b47-64a6-47a1-b3c5-c0e4df393c30</td>\n",
              "      <td>PCRF</td>\n",
              "      <td>PCRF</td>\n",
              "      <td>تقليدية</td>\n",
              "      <td>مبتدئ</td>\n",
              "      <td>...</td>\n",
              "      <td>لا</td>\n",
              "      <td>البكالوريوس</td>\n",
              "      <td>نظم المعلومات</td>\n",
              "      <td>تكنولوجيا الاتصالات والمعلومات</td>\n",
              "      <td>4.93</td>\n",
              "      <td>5.0</td>\n",
              "      <td>موظف</td>\n",
              "      <td>دوام كامل</td>\n",
              "      <td>Yes</td>\n",
              "      <td>1</td>\n",
              "    </tr>\n",
              "    <tr>\n",
              "      <th>6546</th>\n",
              "      <td>4b6d9a36-4402-4c75-bc3a-fca927dbaf65</td>\n",
              "      <td>25.0</td>\n",
              "      <td>ذكر</td>\n",
              "      <td>منطقة الرياض</td>\n",
              "      <td>الرياض</td>\n",
              "      <td>9b4cedaa-fac0-4eac-aa4b-b05b6a0c97ff</td>\n",
              "      <td>PCRF</td>\n",
              "      <td>PCRF</td>\n",
              "      <td>NaN</td>\n",
              "      <td>متوسط</td>\n",
              "      <td>...</td>\n",
              "      <td>نعم</td>\n",
              "      <td>البكالوريوس</td>\n",
              "      <td>تقنية المعلومات</td>\n",
              "      <td>تكنولوجيا الاتصالات والمعلومات</td>\n",
              "      <td>4.00</td>\n",
              "      <td>4.0</td>\n",
              "      <td>غير موظف</td>\n",
              "      <td>تدريب</td>\n",
              "      <td>No</td>\n",
              "      <td>0</td>\n",
              "    </tr>\n",
              "    <tr>\n",
              "      <th>6547</th>\n",
              "      <td>008f3386-0d43-45a4-8372-b282e5a0101a</td>\n",
              "      <td>37.0</td>\n",
              "      <td>أنثى</td>\n",
              "      <td>منطقة الرياض</td>\n",
              "      <td>الرياض</td>\n",
              "      <td>d8fbc53c-e042-4e45-b8c7-42b4ad0528ee</td>\n",
              "      <td>CAUF</td>\n",
              "      <td>NaN</td>\n",
              "      <td>NaN</td>\n",
              "      <td>مبتدئ</td>\n",
              "      <td>...</td>\n",
              "      <td>نعم</td>\n",
              "      <td>الماجستير</td>\n",
              "      <td>دراسات وقضايا معاصرة</td>\n",
              "      <td>NaN</td>\n",
              "      <td>4.32</td>\n",
              "      <td>5.0</td>\n",
              "      <td>موظف</td>\n",
              "      <td>NaN</td>\n",
              "      <td>NaN</td>\n",
              "      <td>0</td>\n",
              "    </tr>\n",
              "  </tbody>\n",
              "</table>\n",
              "<p>6548 rows × 24 columns</p>\n",
              "</div>\n",
              "    <div class=\"colab-df-buttons\">\n",
              "\n",
              "  <div class=\"colab-df-container\">\n",
              "    <button class=\"colab-df-convert\" onclick=\"convertToInteractive('df-d1361e86-38e8-4222-b966-9b7d80af2720')\"\n",
              "            title=\"Convert this dataframe to an interactive table.\"\n",
              "            style=\"display:none;\">\n",
              "\n",
              "  <svg xmlns=\"http://www.w3.org/2000/svg\" height=\"24px\" viewBox=\"0 -960 960 960\">\n",
              "    <path d=\"M120-120v-720h720v720H120Zm60-500h600v-160H180v160Zm220 220h160v-160H400v160Zm0 220h160v-160H400v160ZM180-400h160v-160H180v160Zm440 0h160v-160H620v160ZM180-180h160v-160H180v160Zm440 0h160v-160H620v160Z\"/>\n",
              "  </svg>\n",
              "    </button>\n",
              "\n",
              "  <style>\n",
              "    .colab-df-container {\n",
              "      display:flex;\n",
              "      gap: 12px;\n",
              "    }\n",
              "\n",
              "    .colab-df-convert {\n",
              "      background-color: #E8F0FE;\n",
              "      border: none;\n",
              "      border-radius: 50%;\n",
              "      cursor: pointer;\n",
              "      display: none;\n",
              "      fill: #1967D2;\n",
              "      height: 32px;\n",
              "      padding: 0 0 0 0;\n",
              "      width: 32px;\n",
              "    }\n",
              "\n",
              "    .colab-df-convert:hover {\n",
              "      background-color: #E2EBFA;\n",
              "      box-shadow: 0px 1px 2px rgba(60, 64, 67, 0.3), 0px 1px 3px 1px rgba(60, 64, 67, 0.15);\n",
              "      fill: #174EA6;\n",
              "    }\n",
              "\n",
              "    .colab-df-buttons div {\n",
              "      margin-bottom: 4px;\n",
              "    }\n",
              "\n",
              "    [theme=dark] .colab-df-convert {\n",
              "      background-color: #3B4455;\n",
              "      fill: #D2E3FC;\n",
              "    }\n",
              "\n",
              "    [theme=dark] .colab-df-convert:hover {\n",
              "      background-color: #434B5C;\n",
              "      box-shadow: 0px 1px 3px 1px rgba(0, 0, 0, 0.15);\n",
              "      filter: drop-shadow(0px 1px 2px rgba(0, 0, 0, 0.3));\n",
              "      fill: #FFFFFF;\n",
              "    }\n",
              "  </style>\n",
              "\n",
              "    <script>\n",
              "      const buttonEl =\n",
              "        document.querySelector('#df-d1361e86-38e8-4222-b966-9b7d80af2720 button.colab-df-convert');\n",
              "      buttonEl.style.display =\n",
              "        google.colab.kernel.accessAllowed ? 'block' : 'none';\n",
              "\n",
              "      async function convertToInteractive(key) {\n",
              "        const element = document.querySelector('#df-d1361e86-38e8-4222-b966-9b7d80af2720');\n",
              "        const dataTable =\n",
              "          await google.colab.kernel.invokeFunction('convertToInteractive',\n",
              "                                                    [key], {});\n",
              "        if (!dataTable) return;\n",
              "\n",
              "        const docLinkHtml = 'Like what you see? Visit the ' +\n",
              "          '<a target=\"_blank\" href=https://colab.research.google.com/notebooks/data_table.ipynb>data table notebook</a>'\n",
              "          + ' to learn more about interactive tables.';\n",
              "        element.innerHTML = '';\n",
              "        dataTable['output_type'] = 'display_data';\n",
              "        await google.colab.output.renderOutput(dataTable, element);\n",
              "        const docLink = document.createElement('div');\n",
              "        docLink.innerHTML = docLinkHtml;\n",
              "        element.appendChild(docLink);\n",
              "      }\n",
              "    </script>\n",
              "  </div>\n",
              "\n",
              "\n",
              "<div id=\"df-d0f7e89c-a0e2-40dd-a3a6-0311d980a8ec\">\n",
              "  <button class=\"colab-df-quickchart\" onclick=\"quickchart('df-d0f7e89c-a0e2-40dd-a3a6-0311d980a8ec')\"\n",
              "            title=\"Suggest charts\"\n",
              "            style=\"display:none;\">\n",
              "\n",
              "<svg xmlns=\"http://www.w3.org/2000/svg\" height=\"24px\"viewBox=\"0 0 24 24\"\n",
              "     width=\"24px\">\n",
              "    <g>\n",
              "        <path d=\"M19 3H5c-1.1 0-2 .9-2 2v14c0 1.1.9 2 2 2h14c1.1 0 2-.9 2-2V5c0-1.1-.9-2-2-2zM9 17H7v-7h2v7zm4 0h-2V7h2v10zm4 0h-2v-4h2v4z\"/>\n",
              "    </g>\n",
              "</svg>\n",
              "  </button>\n",
              "\n",
              "<style>\n",
              "  .colab-df-quickchart {\n",
              "      --bg-color: #E8F0FE;\n",
              "      --fill-color: #1967D2;\n",
              "      --hover-bg-color: #E2EBFA;\n",
              "      --hover-fill-color: #174EA6;\n",
              "      --disabled-fill-color: #AAA;\n",
              "      --disabled-bg-color: #DDD;\n",
              "  }\n",
              "\n",
              "  [theme=dark] .colab-df-quickchart {\n",
              "      --bg-color: #3B4455;\n",
              "      --fill-color: #D2E3FC;\n",
              "      --hover-bg-color: #434B5C;\n",
              "      --hover-fill-color: #FFFFFF;\n",
              "      --disabled-bg-color: #3B4455;\n",
              "      --disabled-fill-color: #666;\n",
              "  }\n",
              "\n",
              "  .colab-df-quickchart {\n",
              "    background-color: var(--bg-color);\n",
              "    border: none;\n",
              "    border-radius: 50%;\n",
              "    cursor: pointer;\n",
              "    display: none;\n",
              "    fill: var(--fill-color);\n",
              "    height: 32px;\n",
              "    padding: 0;\n",
              "    width: 32px;\n",
              "  }\n",
              "\n",
              "  .colab-df-quickchart:hover {\n",
              "    background-color: var(--hover-bg-color);\n",
              "    box-shadow: 0 1px 2px rgba(60, 64, 67, 0.3), 0 1px 3px 1px rgba(60, 64, 67, 0.15);\n",
              "    fill: var(--button-hover-fill-color);\n",
              "  }\n",
              "\n",
              "  .colab-df-quickchart-complete:disabled,\n",
              "  .colab-df-quickchart-complete:disabled:hover {\n",
              "    background-color: var(--disabled-bg-color);\n",
              "    fill: var(--disabled-fill-color);\n",
              "    box-shadow: none;\n",
              "  }\n",
              "\n",
              "  .colab-df-spinner {\n",
              "    border: 2px solid var(--fill-color);\n",
              "    border-color: transparent;\n",
              "    border-bottom-color: var(--fill-color);\n",
              "    animation:\n",
              "      spin 1s steps(1) infinite;\n",
              "  }\n",
              "\n",
              "  @keyframes spin {\n",
              "    0% {\n",
              "      border-color: transparent;\n",
              "      border-bottom-color: var(--fill-color);\n",
              "      border-left-color: var(--fill-color);\n",
              "    }\n",
              "    20% {\n",
              "      border-color: transparent;\n",
              "      border-left-color: var(--fill-color);\n",
              "      border-top-color: var(--fill-color);\n",
              "    }\n",
              "    30% {\n",
              "      border-color: transparent;\n",
              "      border-left-color: var(--fill-color);\n",
              "      border-top-color: var(--fill-color);\n",
              "      border-right-color: var(--fill-color);\n",
              "    }\n",
              "    40% {\n",
              "      border-color: transparent;\n",
              "      border-right-color: var(--fill-color);\n",
              "      border-top-color: var(--fill-color);\n",
              "    }\n",
              "    60% {\n",
              "      border-color: transparent;\n",
              "      border-right-color: var(--fill-color);\n",
              "    }\n",
              "    80% {\n",
              "      border-color: transparent;\n",
              "      border-right-color: var(--fill-color);\n",
              "      border-bottom-color: var(--fill-color);\n",
              "    }\n",
              "    90% {\n",
              "      border-color: transparent;\n",
              "      border-bottom-color: var(--fill-color);\n",
              "    }\n",
              "  }\n",
              "</style>\n",
              "\n",
              "  <script>\n",
              "    async function quickchart(key) {\n",
              "      const quickchartButtonEl =\n",
              "        document.querySelector('#' + key + ' button');\n",
              "      quickchartButtonEl.disabled = true;  // To prevent multiple clicks.\n",
              "      quickchartButtonEl.classList.add('colab-df-spinner');\n",
              "      try {\n",
              "        const charts = await google.colab.kernel.invokeFunction(\n",
              "            'suggestCharts', [key], {});\n",
              "      } catch (error) {\n",
              "        console.error('Error during call to suggestCharts:', error);\n",
              "      }\n",
              "      quickchartButtonEl.classList.remove('colab-df-spinner');\n",
              "      quickchartButtonEl.classList.add('colab-df-quickchart-complete');\n",
              "    }\n",
              "    (() => {\n",
              "      let quickchartButtonEl =\n",
              "        document.querySelector('#df-d0f7e89c-a0e2-40dd-a3a6-0311d980a8ec button');\n",
              "      quickchartButtonEl.style.display =\n",
              "        google.colab.kernel.accessAllowed ? 'block' : 'none';\n",
              "    })();\n",
              "  </script>\n",
              "</div>\n",
              "\n",
              "  <div id=\"id_e522a9ac-b823-4830-9712-fdbb0b8ac7d7\">\n",
              "    <style>\n",
              "      .colab-df-generate {\n",
              "        background-color: #E8F0FE;\n",
              "        border: none;\n",
              "        border-radius: 50%;\n",
              "        cursor: pointer;\n",
              "        display: none;\n",
              "        fill: #1967D2;\n",
              "        height: 32px;\n",
              "        padding: 0 0 0 0;\n",
              "        width: 32px;\n",
              "      }\n",
              "\n",
              "      .colab-df-generate:hover {\n",
              "        background-color: #E2EBFA;\n",
              "        box-shadow: 0px 1px 2px rgba(60, 64, 67, 0.3), 0px 1px 3px 1px rgba(60, 64, 67, 0.15);\n",
              "        fill: #174EA6;\n",
              "      }\n",
              "\n",
              "      [theme=dark] .colab-df-generate {\n",
              "        background-color: #3B4455;\n",
              "        fill: #D2E3FC;\n",
              "      }\n",
              "\n",
              "      [theme=dark] .colab-df-generate:hover {\n",
              "        background-color: #434B5C;\n",
              "        box-shadow: 0px 1px 3px 1px rgba(0, 0, 0, 0.15);\n",
              "        filter: drop-shadow(0px 1px 2px rgba(0, 0, 0, 0.3));\n",
              "        fill: #FFFFFF;\n",
              "      }\n",
              "    </style>\n",
              "    <button class=\"colab-df-generate\" onclick=\"generateWithVariable('df')\"\n",
              "            title=\"Generate code using this dataframe.\"\n",
              "            style=\"display:none;\">\n",
              "\n",
              "  <svg xmlns=\"http://www.w3.org/2000/svg\" height=\"24px\"viewBox=\"0 0 24 24\"\n",
              "       width=\"24px\">\n",
              "    <path d=\"M7,19H8.4L18.45,9,17,7.55,7,17.6ZM5,21V16.75L18.45,3.32a2,2,0,0,1,2.83,0l1.4,1.43a1.91,1.91,0,0,1,.58,1.4,1.91,1.91,0,0,1-.58,1.4L9.25,21ZM18.45,9,17,7.55Zm-12,3A5.31,5.31,0,0,0,4.9,8.1,5.31,5.31,0,0,0,1,6.5,5.31,5.31,0,0,0,4.9,4.9,5.31,5.31,0,0,0,6.5,1,5.31,5.31,0,0,0,8.1,4.9,5.31,5.31,0,0,0,12,6.5,5.46,5.46,0,0,0,6.5,12Z\"/>\n",
              "  </svg>\n",
              "    </button>\n",
              "    <script>\n",
              "      (() => {\n",
              "      const buttonEl =\n",
              "        document.querySelector('#id_e522a9ac-b823-4830-9712-fdbb0b8ac7d7 button.colab-df-generate');\n",
              "      buttonEl.style.display =\n",
              "        google.colab.kernel.accessAllowed ? 'block' : 'none';\n",
              "\n",
              "      buttonEl.onclick = () => {\n",
              "        google.colab.notebook.generateWithVariable('df');\n",
              "      }\n",
              "      })();\n",
              "    </script>\n",
              "  </div>\n",
              "\n",
              "    </div>\n",
              "  </div>\n"
            ],
            "application/vnd.google.colaboratory.intrinsic+json": {
              "type": "dataframe",
              "variable_name": "df"
            }
          },
          "metadata": {},
          "execution_count": 1258
        }
      ],
      "source": [
        "import pandas as pd\n",
        "\n",
        "df = pd.read_csv('/content/train.csv')\n",
        "df"
      ]
    },
    {
      "cell_type": "code",
      "execution_count": 1259,
      "metadata": {
        "id": "WpuL3bA27xSd",
        "colab": {
          "base_uri": "https://localhost:8080/"
        },
        "outputId": "bf13f0a9-0473-4069-81fd-d02ac6eda59e"
      },
      "outputs": [
        {
          "output_type": "execute_result",
          "data": {
            "text/plain": [
              "Index(['Student ID', 'Age', 'Gender', 'Home Region', 'Home City', 'Program ID',\n",
              "       'Program Main Category Code', 'Program Sub Category Code',\n",
              "       'Technology Type', 'Program Skill Level', 'Program Presentation Method',\n",
              "       'Program Start Date', 'Program End Date', 'Program Days',\n",
              "       'Completed Degree', 'Level of Education', 'Education Speaciality',\n",
              "       'College', 'University Degree Score', 'University Degree Score System',\n",
              "       'Employment Status', 'Job Type', 'Still Working', 'Y'],\n",
              "      dtype='object')"
            ]
          },
          "metadata": {},
          "execution_count": 1259
        }
      ],
      "source": [
        "df.columns"
      ]
    },
    {
      "cell_type": "code",
      "execution_count": 1260,
      "metadata": {
        "id": "AEU5VgRe2Vvy",
        "colab": {
          "base_uri": "https://localhost:8080/"
        },
        "outputId": "42e959c7-40d1-4ce7-e33f-015134c843b8"
      },
      "outputs": [
        {
          "output_type": "stream",
          "name": "stdout",
          "text": [
            "<class 'pandas.core.frame.DataFrame'>\n",
            "RangeIndex: 6548 entries, 0 to 6547\n",
            "Data columns (total 24 columns):\n",
            " #   Column                          Non-Null Count  Dtype  \n",
            "---  ------                          --------------  -----  \n",
            " 0   Student ID                      6548 non-null   object \n",
            " 1   Age                             6456 non-null   float64\n",
            " 2   Gender                          6548 non-null   object \n",
            " 3   Home Region                     6546 non-null   object \n",
            " 4   Home City                       6546 non-null   object \n",
            " 5   Program ID                      6548 non-null   object \n",
            " 6   Program Main Category Code      6548 non-null   object \n",
            " 7   Program Sub Category Code       5613 non-null   object \n",
            " 8   Technology Type                 3566 non-null   object \n",
            " 9   Program Skill Level             4902 non-null   object \n",
            " 10  Program Presentation Method     6548 non-null   object \n",
            " 11  Program Start Date              6548 non-null   object \n",
            " 12  Program End Date                6548 non-null   object \n",
            " 13  Program Days                    6548 non-null   int64  \n",
            " 14  Completed Degree                6548 non-null   object \n",
            " 15  Level of Education              6522 non-null   object \n",
            " 16  Education Speaciality           6271 non-null   object \n",
            " 17  College                         2658 non-null   object \n",
            " 18  University Degree Score         6467 non-null   float64\n",
            " 19  University Degree Score System  6467 non-null   float64\n",
            " 20  Employment Status               5982 non-null   object \n",
            " 21  Job Type                        1981 non-null   object \n",
            " 22  Still Working                   1981 non-null   object \n",
            " 23  Y                               6548 non-null   int64  \n",
            "dtypes: float64(3), int64(2), object(19)\n",
            "memory usage: 1.2+ MB\n"
          ]
        }
      ],
      "source": [
        "df.info()"
      ]
    },
    {
      "cell_type": "code",
      "execution_count": 1261,
      "metadata": {
        "id": "3zYv6GYqZ3wM",
        "colab": {
          "base_uri": "https://localhost:8080/",
          "height": 568
        },
        "outputId": "eedafaf1-9a98-42bf-a8f4-62510c9b3785"
      },
      "outputs": [
        {
          "output_type": "execute_result",
          "data": {
            "text/plain": [
              "                             Student ID   Age Gender   Home Region  Home City  \\\n",
              "0  4f14c50d-162e-4a15-9cf0-ec129c33bcf0  37.0    ذكر  منطقة الرياض     الرياض   \n",
              "1  0599d409-876b-41a5-af05-749ef0e77d32  21.0    ذكر    منطقة عسير  خميس مشيط   \n",
              "2  38a11c0e-4afc-4261-9c64-e94cc0a272fb  24.0    ذكر  منطقة الرياض     الرياض   \n",
              "3  1693e85b-f80e-40ce-846f-395ddcece6d3  23.0    ذكر  منطقة الرياض     الرياض   \n",
              "4  98a0e8d0-5f80-4634-afd8-322aa0902863  23.0    ذكر  منطقة الرياض     الرياض   \n",
              "\n",
              "                             Program ID Program Main Category Code  \\\n",
              "0  453686d8-4023-4506-b2df-fac8b059ac26                       PCRF   \n",
              "1  cc8e4e42-65d5-4fa1-82f9-6c6c2d508b60                       APMR   \n",
              "2  e006900d-05a9-4c2b-a36f-0ffb9fce44cd                       APMR   \n",
              "3  2ec15f6b-233b-428a-b9f5-e40bc8d14cf9                       TOSL   \n",
              "4  d32da0e9-1aed-48c3-992d-a22f9ccc741e                       CAUF   \n",
              "\n",
              "  Program Sub Category Code Technology Type Program Skill Level  ...  \\\n",
              "0                      PCRF             NaN                 NaN  ...   \n",
              "1                      SWPS             NaN               متوسط  ...   \n",
              "2                       NaN             NaN               متوسط  ...   \n",
              "3                      TOSL             NaN                 NaN  ...   \n",
              "4                      SWPS         تقليدية               متوسط  ...   \n",
              "\n",
              "  Completed Degree Level of Education                Education Speaciality  \\\n",
              "0              نعم        البكالوريوس                     هندسة حاسب الالي   \n",
              "1              نعم        البكالوريوس           الإذاعة والتلفزيون والفيلم   \n",
              "2              نعم        البكالوريوس               Information Technology   \n",
              "3              نعم        البكالوريوس  حوسبة تطبيقية - (مسار شبكات الحاسب)   \n",
              "4               لا        البكالوريوس              نظم المعلومات الحاسوبية   \n",
              "\n",
              "                          College University Degree Score  \\\n",
              "0                             NaN                    2.44   \n",
              "1        الفنون والعلوم الإنسانية                    5.00   \n",
              "2                             NaN                    3.50   \n",
              "3                             NaN                    3.55   \n",
              "4  تكنولوجيا الاتصالات والمعلومات                    4.00   \n",
              "\n",
              "  University Degree Score System Employment Status Job Type  Still Working  Y  \n",
              "0                            4.0          غير موظف      NaN            NaN  0  \n",
              "1                            5.0              طالب      NaN            NaN  0  \n",
              "2                            5.0              موظف      NaN            NaN  0  \n",
              "3                            5.0              خريج      NaN            NaN  0  \n",
              "4                            5.0               NaN      NaN            NaN  0  \n",
              "\n",
              "[5 rows x 24 columns]"
            ],
            "text/html": [
              "\n",
              "  <div id=\"df-c4600706-8900-496b-800d-931ffacb4d00\" class=\"colab-df-container\">\n",
              "    <div>\n",
              "<style scoped>\n",
              "    .dataframe tbody tr th:only-of-type {\n",
              "        vertical-align: middle;\n",
              "    }\n",
              "\n",
              "    .dataframe tbody tr th {\n",
              "        vertical-align: top;\n",
              "    }\n",
              "\n",
              "    .dataframe thead th {\n",
              "        text-align: right;\n",
              "    }\n",
              "</style>\n",
              "<table border=\"1\" class=\"dataframe\">\n",
              "  <thead>\n",
              "    <tr style=\"text-align: right;\">\n",
              "      <th></th>\n",
              "      <th>Student ID</th>\n",
              "      <th>Age</th>\n",
              "      <th>Gender</th>\n",
              "      <th>Home Region</th>\n",
              "      <th>Home City</th>\n",
              "      <th>Program ID</th>\n",
              "      <th>Program Main Category Code</th>\n",
              "      <th>Program Sub Category Code</th>\n",
              "      <th>Technology Type</th>\n",
              "      <th>Program Skill Level</th>\n",
              "      <th>...</th>\n",
              "      <th>Completed Degree</th>\n",
              "      <th>Level of Education</th>\n",
              "      <th>Education Speaciality</th>\n",
              "      <th>College</th>\n",
              "      <th>University Degree Score</th>\n",
              "      <th>University Degree Score System</th>\n",
              "      <th>Employment Status</th>\n",
              "      <th>Job Type</th>\n",
              "      <th>Still Working</th>\n",
              "      <th>Y</th>\n",
              "    </tr>\n",
              "  </thead>\n",
              "  <tbody>\n",
              "    <tr>\n",
              "      <th>0</th>\n",
              "      <td>4f14c50d-162e-4a15-9cf0-ec129c33bcf0</td>\n",
              "      <td>37.0</td>\n",
              "      <td>ذكر</td>\n",
              "      <td>منطقة الرياض</td>\n",
              "      <td>الرياض</td>\n",
              "      <td>453686d8-4023-4506-b2df-fac8b059ac26</td>\n",
              "      <td>PCRF</td>\n",
              "      <td>PCRF</td>\n",
              "      <td>NaN</td>\n",
              "      <td>NaN</td>\n",
              "      <td>...</td>\n",
              "      <td>نعم</td>\n",
              "      <td>البكالوريوس</td>\n",
              "      <td>هندسة حاسب الالي</td>\n",
              "      <td>NaN</td>\n",
              "      <td>2.44</td>\n",
              "      <td>4.0</td>\n",
              "      <td>غير موظف</td>\n",
              "      <td>NaN</td>\n",
              "      <td>NaN</td>\n",
              "      <td>0</td>\n",
              "    </tr>\n",
              "    <tr>\n",
              "      <th>1</th>\n",
              "      <td>0599d409-876b-41a5-af05-749ef0e77d32</td>\n",
              "      <td>21.0</td>\n",
              "      <td>ذكر</td>\n",
              "      <td>منطقة عسير</td>\n",
              "      <td>خميس مشيط</td>\n",
              "      <td>cc8e4e42-65d5-4fa1-82f9-6c6c2d508b60</td>\n",
              "      <td>APMR</td>\n",
              "      <td>SWPS</td>\n",
              "      <td>NaN</td>\n",
              "      <td>متوسط</td>\n",
              "      <td>...</td>\n",
              "      <td>نعم</td>\n",
              "      <td>البكالوريوس</td>\n",
              "      <td>الإذاعة والتلفزيون والفيلم</td>\n",
              "      <td>الفنون والعلوم الإنسانية</td>\n",
              "      <td>5.00</td>\n",
              "      <td>5.0</td>\n",
              "      <td>طالب</td>\n",
              "      <td>NaN</td>\n",
              "      <td>NaN</td>\n",
              "      <td>0</td>\n",
              "    </tr>\n",
              "    <tr>\n",
              "      <th>2</th>\n",
              "      <td>38a11c0e-4afc-4261-9c64-e94cc0a272fb</td>\n",
              "      <td>24.0</td>\n",
              "      <td>ذكر</td>\n",
              "      <td>منطقة الرياض</td>\n",
              "      <td>الرياض</td>\n",
              "      <td>e006900d-05a9-4c2b-a36f-0ffb9fce44cd</td>\n",
              "      <td>APMR</td>\n",
              "      <td>NaN</td>\n",
              "      <td>NaN</td>\n",
              "      <td>متوسط</td>\n",
              "      <td>...</td>\n",
              "      <td>نعم</td>\n",
              "      <td>البكالوريوس</td>\n",
              "      <td>Information Technology</td>\n",
              "      <td>NaN</td>\n",
              "      <td>3.50</td>\n",
              "      <td>5.0</td>\n",
              "      <td>موظف</td>\n",
              "      <td>NaN</td>\n",
              "      <td>NaN</td>\n",
              "      <td>0</td>\n",
              "    </tr>\n",
              "    <tr>\n",
              "      <th>3</th>\n",
              "      <td>1693e85b-f80e-40ce-846f-395ddcece6d3</td>\n",
              "      <td>23.0</td>\n",
              "      <td>ذكر</td>\n",
              "      <td>منطقة الرياض</td>\n",
              "      <td>الرياض</td>\n",
              "      <td>2ec15f6b-233b-428a-b9f5-e40bc8d14cf9</td>\n",
              "      <td>TOSL</td>\n",
              "      <td>TOSL</td>\n",
              "      <td>NaN</td>\n",
              "      <td>NaN</td>\n",
              "      <td>...</td>\n",
              "      <td>نعم</td>\n",
              "      <td>البكالوريوس</td>\n",
              "      <td>حوسبة تطبيقية - (مسار شبكات الحاسب)</td>\n",
              "      <td>NaN</td>\n",
              "      <td>3.55</td>\n",
              "      <td>5.0</td>\n",
              "      <td>خريج</td>\n",
              "      <td>NaN</td>\n",
              "      <td>NaN</td>\n",
              "      <td>0</td>\n",
              "    </tr>\n",
              "    <tr>\n",
              "      <th>4</th>\n",
              "      <td>98a0e8d0-5f80-4634-afd8-322aa0902863</td>\n",
              "      <td>23.0</td>\n",
              "      <td>ذكر</td>\n",
              "      <td>منطقة الرياض</td>\n",
              "      <td>الرياض</td>\n",
              "      <td>d32da0e9-1aed-48c3-992d-a22f9ccc741e</td>\n",
              "      <td>CAUF</td>\n",
              "      <td>SWPS</td>\n",
              "      <td>تقليدية</td>\n",
              "      <td>متوسط</td>\n",
              "      <td>...</td>\n",
              "      <td>لا</td>\n",
              "      <td>البكالوريوس</td>\n",
              "      <td>نظم المعلومات الحاسوبية</td>\n",
              "      <td>تكنولوجيا الاتصالات والمعلومات</td>\n",
              "      <td>4.00</td>\n",
              "      <td>5.0</td>\n",
              "      <td>NaN</td>\n",
              "      <td>NaN</td>\n",
              "      <td>NaN</td>\n",
              "      <td>0</td>\n",
              "    </tr>\n",
              "  </tbody>\n",
              "</table>\n",
              "<p>5 rows × 24 columns</p>\n",
              "</div>\n",
              "    <div class=\"colab-df-buttons\">\n",
              "\n",
              "  <div class=\"colab-df-container\">\n",
              "    <button class=\"colab-df-convert\" onclick=\"convertToInteractive('df-c4600706-8900-496b-800d-931ffacb4d00')\"\n",
              "            title=\"Convert this dataframe to an interactive table.\"\n",
              "            style=\"display:none;\">\n",
              "\n",
              "  <svg xmlns=\"http://www.w3.org/2000/svg\" height=\"24px\" viewBox=\"0 -960 960 960\">\n",
              "    <path d=\"M120-120v-720h720v720H120Zm60-500h600v-160H180v160Zm220 220h160v-160H400v160Zm0 220h160v-160H400v160ZM180-400h160v-160H180v160Zm440 0h160v-160H620v160ZM180-180h160v-160H180v160Zm440 0h160v-160H620v160Z\"/>\n",
              "  </svg>\n",
              "    </button>\n",
              "\n",
              "  <style>\n",
              "    .colab-df-container {\n",
              "      display:flex;\n",
              "      gap: 12px;\n",
              "    }\n",
              "\n",
              "    .colab-df-convert {\n",
              "      background-color: #E8F0FE;\n",
              "      border: none;\n",
              "      border-radius: 50%;\n",
              "      cursor: pointer;\n",
              "      display: none;\n",
              "      fill: #1967D2;\n",
              "      height: 32px;\n",
              "      padding: 0 0 0 0;\n",
              "      width: 32px;\n",
              "    }\n",
              "\n",
              "    .colab-df-convert:hover {\n",
              "      background-color: #E2EBFA;\n",
              "      box-shadow: 0px 1px 2px rgba(60, 64, 67, 0.3), 0px 1px 3px 1px rgba(60, 64, 67, 0.15);\n",
              "      fill: #174EA6;\n",
              "    }\n",
              "\n",
              "    .colab-df-buttons div {\n",
              "      margin-bottom: 4px;\n",
              "    }\n",
              "\n",
              "    [theme=dark] .colab-df-convert {\n",
              "      background-color: #3B4455;\n",
              "      fill: #D2E3FC;\n",
              "    }\n",
              "\n",
              "    [theme=dark] .colab-df-convert:hover {\n",
              "      background-color: #434B5C;\n",
              "      box-shadow: 0px 1px 3px 1px rgba(0, 0, 0, 0.15);\n",
              "      filter: drop-shadow(0px 1px 2px rgba(0, 0, 0, 0.3));\n",
              "      fill: #FFFFFF;\n",
              "    }\n",
              "  </style>\n",
              "\n",
              "    <script>\n",
              "      const buttonEl =\n",
              "        document.querySelector('#df-c4600706-8900-496b-800d-931ffacb4d00 button.colab-df-convert');\n",
              "      buttonEl.style.display =\n",
              "        google.colab.kernel.accessAllowed ? 'block' : 'none';\n",
              "\n",
              "      async function convertToInteractive(key) {\n",
              "        const element = document.querySelector('#df-c4600706-8900-496b-800d-931ffacb4d00');\n",
              "        const dataTable =\n",
              "          await google.colab.kernel.invokeFunction('convertToInteractive',\n",
              "                                                    [key], {});\n",
              "        if (!dataTable) return;\n",
              "\n",
              "        const docLinkHtml = 'Like what you see? Visit the ' +\n",
              "          '<a target=\"_blank\" href=https://colab.research.google.com/notebooks/data_table.ipynb>data table notebook</a>'\n",
              "          + ' to learn more about interactive tables.';\n",
              "        element.innerHTML = '';\n",
              "        dataTable['output_type'] = 'display_data';\n",
              "        await google.colab.output.renderOutput(dataTable, element);\n",
              "        const docLink = document.createElement('div');\n",
              "        docLink.innerHTML = docLinkHtml;\n",
              "        element.appendChild(docLink);\n",
              "      }\n",
              "    </script>\n",
              "  </div>\n",
              "\n",
              "\n",
              "<div id=\"df-6419994d-f196-4bfd-b60e-ecbf1072d941\">\n",
              "  <button class=\"colab-df-quickchart\" onclick=\"quickchart('df-6419994d-f196-4bfd-b60e-ecbf1072d941')\"\n",
              "            title=\"Suggest charts\"\n",
              "            style=\"display:none;\">\n",
              "\n",
              "<svg xmlns=\"http://www.w3.org/2000/svg\" height=\"24px\"viewBox=\"0 0 24 24\"\n",
              "     width=\"24px\">\n",
              "    <g>\n",
              "        <path d=\"M19 3H5c-1.1 0-2 .9-2 2v14c0 1.1.9 2 2 2h14c1.1 0 2-.9 2-2V5c0-1.1-.9-2-2-2zM9 17H7v-7h2v7zm4 0h-2V7h2v10zm4 0h-2v-4h2v4z\"/>\n",
              "    </g>\n",
              "</svg>\n",
              "  </button>\n",
              "\n",
              "<style>\n",
              "  .colab-df-quickchart {\n",
              "      --bg-color: #E8F0FE;\n",
              "      --fill-color: #1967D2;\n",
              "      --hover-bg-color: #E2EBFA;\n",
              "      --hover-fill-color: #174EA6;\n",
              "      --disabled-fill-color: #AAA;\n",
              "      --disabled-bg-color: #DDD;\n",
              "  }\n",
              "\n",
              "  [theme=dark] .colab-df-quickchart {\n",
              "      --bg-color: #3B4455;\n",
              "      --fill-color: #D2E3FC;\n",
              "      --hover-bg-color: #434B5C;\n",
              "      --hover-fill-color: #FFFFFF;\n",
              "      --disabled-bg-color: #3B4455;\n",
              "      --disabled-fill-color: #666;\n",
              "  }\n",
              "\n",
              "  .colab-df-quickchart {\n",
              "    background-color: var(--bg-color);\n",
              "    border: none;\n",
              "    border-radius: 50%;\n",
              "    cursor: pointer;\n",
              "    display: none;\n",
              "    fill: var(--fill-color);\n",
              "    height: 32px;\n",
              "    padding: 0;\n",
              "    width: 32px;\n",
              "  }\n",
              "\n",
              "  .colab-df-quickchart:hover {\n",
              "    background-color: var(--hover-bg-color);\n",
              "    box-shadow: 0 1px 2px rgba(60, 64, 67, 0.3), 0 1px 3px 1px rgba(60, 64, 67, 0.15);\n",
              "    fill: var(--button-hover-fill-color);\n",
              "  }\n",
              "\n",
              "  .colab-df-quickchart-complete:disabled,\n",
              "  .colab-df-quickchart-complete:disabled:hover {\n",
              "    background-color: var(--disabled-bg-color);\n",
              "    fill: var(--disabled-fill-color);\n",
              "    box-shadow: none;\n",
              "  }\n",
              "\n",
              "  .colab-df-spinner {\n",
              "    border: 2px solid var(--fill-color);\n",
              "    border-color: transparent;\n",
              "    border-bottom-color: var(--fill-color);\n",
              "    animation:\n",
              "      spin 1s steps(1) infinite;\n",
              "  }\n",
              "\n",
              "  @keyframes spin {\n",
              "    0% {\n",
              "      border-color: transparent;\n",
              "      border-bottom-color: var(--fill-color);\n",
              "      border-left-color: var(--fill-color);\n",
              "    }\n",
              "    20% {\n",
              "      border-color: transparent;\n",
              "      border-left-color: var(--fill-color);\n",
              "      border-top-color: var(--fill-color);\n",
              "    }\n",
              "    30% {\n",
              "      border-color: transparent;\n",
              "      border-left-color: var(--fill-color);\n",
              "      border-top-color: var(--fill-color);\n",
              "      border-right-color: var(--fill-color);\n",
              "    }\n",
              "    40% {\n",
              "      border-color: transparent;\n",
              "      border-right-color: var(--fill-color);\n",
              "      border-top-color: var(--fill-color);\n",
              "    }\n",
              "    60% {\n",
              "      border-color: transparent;\n",
              "      border-right-color: var(--fill-color);\n",
              "    }\n",
              "    80% {\n",
              "      border-color: transparent;\n",
              "      border-right-color: var(--fill-color);\n",
              "      border-bottom-color: var(--fill-color);\n",
              "    }\n",
              "    90% {\n",
              "      border-color: transparent;\n",
              "      border-bottom-color: var(--fill-color);\n",
              "    }\n",
              "  }\n",
              "</style>\n",
              "\n",
              "  <script>\n",
              "    async function quickchart(key) {\n",
              "      const quickchartButtonEl =\n",
              "        document.querySelector('#' + key + ' button');\n",
              "      quickchartButtonEl.disabled = true;  // To prevent multiple clicks.\n",
              "      quickchartButtonEl.classList.add('colab-df-spinner');\n",
              "      try {\n",
              "        const charts = await google.colab.kernel.invokeFunction(\n",
              "            'suggestCharts', [key], {});\n",
              "      } catch (error) {\n",
              "        console.error('Error during call to suggestCharts:', error);\n",
              "      }\n",
              "      quickchartButtonEl.classList.remove('colab-df-spinner');\n",
              "      quickchartButtonEl.classList.add('colab-df-quickchart-complete');\n",
              "    }\n",
              "    (() => {\n",
              "      let quickchartButtonEl =\n",
              "        document.querySelector('#df-6419994d-f196-4bfd-b60e-ecbf1072d941 button');\n",
              "      quickchartButtonEl.style.display =\n",
              "        google.colab.kernel.accessAllowed ? 'block' : 'none';\n",
              "    })();\n",
              "  </script>\n",
              "</div>\n",
              "\n",
              "    </div>\n",
              "  </div>\n"
            ],
            "application/vnd.google.colaboratory.intrinsic+json": {
              "type": "dataframe",
              "variable_name": "df"
            }
          },
          "metadata": {},
          "execution_count": 1261
        }
      ],
      "source": [
        "df.head()"
      ]
    },
    {
      "cell_type": "code",
      "execution_count": 1262,
      "metadata": {
        "id": "LMHSPKR-75L_",
        "colab": {
          "base_uri": "https://localhost:8080/"
        },
        "outputId": "cd721cf4-771f-4d79-a276-f742e278fb2f"
      },
      "outputs": [
        {
          "output_type": "execute_result",
          "data": {
            "text/plain": [
              "Gender\n",
              "أنثى    3664\n",
              "ذكر     2884\n",
              "Name: count, dtype: int64"
            ]
          },
          "metadata": {},
          "execution_count": 1262
        }
      ],
      "source": [
        "df['Gender'].value_counts(dropna=False)"
      ]
    },
    {
      "cell_type": "code",
      "execution_count": 1263,
      "metadata": {
        "id": "wuxJXulH9QIh",
        "colab": {
          "base_uri": "https://localhost:8080/"
        },
        "outputId": "52cccfc6-e145-460f-c228-fe5c0ef061a9"
      },
      "outputs": [
        {
          "output_type": "execute_result",
          "data": {
            "text/plain": [
              "Home Region\n",
              "منطقة الرياض             4783\n",
              "منطقة مكة المكرمة         598\n",
              "المنطقة الشرقية           450\n",
              "منطقة المدينة المنورة     177\n",
              "منطقة عسير                172\n",
              "منطقة القصيم              103\n",
              "منطقة جازان                59\n",
              "منطقة تبوك                 50\n",
              "منطقة الباحة               47\n",
              "منطقة حائل                 36\n",
              "منطقة نجران                29\n",
              "منطقة الحدود الشمالية      21\n",
              "منطقة الجوف                21\n",
              "NaN                         2\n",
              "Name: count, dtype: int64"
            ]
          },
          "metadata": {},
          "execution_count": 1263
        }
      ],
      "source": [
        "df['Home Region']#check datatype\n",
        "df['Home Region'].value_counts(dropna=False)#check coulmn values"
      ]
    },
    {
      "cell_type": "code",
      "execution_count": 1264,
      "metadata": {
        "id": "RFnRRIqF9wTg",
        "colab": {
          "base_uri": "https://localhost:8080/"
        },
        "outputId": "91d1ad4f-baaf-4b8e-c4c1-1e635b5cfaf7"
      },
      "outputs": [
        {
          "output_type": "execute_result",
          "data": {
            "text/plain": [
              "Program Presentation Method\n",
              "حضوري     4964\n",
              "عن بعد    1584\n",
              "Name: count, dtype: int64"
            ]
          },
          "metadata": {},
          "execution_count": 1264
        }
      ],
      "source": [
        "df['Program Presentation Method']#check datatype\n",
        "df['Program Presentation Method'].value_counts(dropna=False)#check coulmn values"
      ]
    },
    {
      "cell_type": "code",
      "execution_count": 1265,
      "metadata": {
        "id": "7wKbXwLz-Xe-",
        "colab": {
          "base_uri": "https://localhost:8080/"
        },
        "outputId": "40c47137-2cb8-45c9-ffa7-5869843aa6db"
      },
      "outputs": [
        {
          "output_type": "execute_result",
          "data": {
            "text/plain": [
              "Program Skill Level\n",
              "متوسط    2134\n",
              "مبتدئ    2060\n",
              "NaN      1646\n",
              "متقدم     708\n",
              "Name: count, dtype: int64"
            ]
          },
          "metadata": {},
          "execution_count": 1265
        }
      ],
      "source": [
        "df['Program Skill Level']#check datatype\n",
        "df['Program Skill Level'].value_counts(dropna=False)#check coulmn values"
      ]
    },
    {
      "cell_type": "code",
      "execution_count": 1266,
      "metadata": {
        "id": "ksETsRsZrkQX"
      },
      "outputs": [],
      "source": [
        "from datetime import date"
      ]
    },
    {
      "cell_type": "code",
      "execution_count": 1267,
      "metadata": {
        "id": "xgamaDZumuOj",
        "colab": {
          "base_uri": "https://localhost:8080/"
        },
        "outputId": "158a2b87-16ed-4ca2-b1d9-b53eaff91c7e"
      },
      "outputs": [
        {
          "output_type": "execute_result",
          "data": {
            "text/plain": [
              "Program Start Date\n",
              "2023-04-02    345\n",
              "2023-07-23    298\n",
              "2023-07-16    267\n",
              "2023-05-14    265\n",
              "2023-03-05    246\n",
              "             ... \n",
              "2023-12-17     16\n",
              "2022-08-28     16\n",
              "2022-09-18     16\n",
              "2022-09-21     15\n",
              "2024-01-15     15\n",
              "Name: count, Length: 77, dtype: int64"
            ]
          },
          "metadata": {},
          "execution_count": 1267
        }
      ],
      "source": [
        "df['Program Start Date']#check datatype\n",
        "df['Program Start Date'].value_counts(dropna=False) #check coulmn values"
      ]
    },
    {
      "cell_type": "code",
      "execution_count": 1268,
      "metadata": {
        "id": "36jMIpKObEBH"
      },
      "outputs": [],
      "source": [
        "# need to change it place\n",
        "df['Program Start Date'] = pd.to_datetime(df['Program Start Date'])"
      ]
    },
    {
      "cell_type": "code",
      "execution_count": 1269,
      "metadata": {
        "id": "RXN4CDA7r5b9",
        "colab": {
          "base_uri": "https://localhost:8080/"
        },
        "outputId": "6c7a202d-a275-4bfb-bfff-6ba7a372acf3"
      },
      "outputs": [
        {
          "output_type": "execute_result",
          "data": {
            "text/plain": [
              "0      2023-05-28\n",
              "1      2023-04-02\n",
              "2      2023-07-23\n",
              "3      2023-07-23\n",
              "4      2023-04-30\n",
              "          ...    \n",
              "6543   2023-04-02\n",
              "6544   2023-05-14\n",
              "6545   2023-07-16\n",
              "6546   2024-01-07\n",
              "6547   2023-03-19\n",
              "Name: Program Start Date, Length: 6548, dtype: datetime64[ns]"
            ]
          },
          "metadata": {},
          "execution_count": 1269
        }
      ],
      "source": [
        "df['Program Start Date']"
      ]
    },
    {
      "cell_type": "code",
      "execution_count": 1270,
      "metadata": {
        "id": "yM04sOl-muOj",
        "colab": {
          "base_uri": "https://localhost:8080/"
        },
        "outputId": "9dd978dc-0931-4427-e6ef-db6860809c44"
      },
      "outputs": [
        {
          "output_type": "execute_result",
          "data": {
            "text/plain": [
              "Program End Date\n",
              "2023-03-02    326\n",
              "2023-04-06    324\n",
              "2023-03-16    270\n",
              "2023-09-14    263\n",
              "2023-06-22    225\n",
              "             ... \n",
              "2022-12-05     15\n",
              "2023-05-01     15\n",
              "2022-12-07     13\n",
              "2022-12-15      9\n",
              "2023-12-07      8\n",
              "Name: count, Length: 88, dtype: int64"
            ]
          },
          "metadata": {},
          "execution_count": 1270
        }
      ],
      "source": [
        "df['Program End Date']#check datatype\n",
        "df['Program End Date'].value_counts(dropna=False)#check coulmn values"
      ]
    },
    {
      "cell_type": "code",
      "execution_count": 1271,
      "metadata": {
        "id": "OyoeAn2kk0AF"
      },
      "outputs": [],
      "source": [
        "# need to change it place\n",
        "df['Program End Date'] = pd.to_datetime(df['Program End Date'])"
      ]
    },
    {
      "cell_type": "code",
      "execution_count": 1272,
      "metadata": {
        "id": "9Q7p4X3MsEsy",
        "colab": {
          "base_uri": "https://localhost:8080/"
        },
        "outputId": "010d4067-b656-453a-c2a5-31e5c893e48b"
      },
      "outputs": [
        {
          "output_type": "execute_result",
          "data": {
            "text/plain": [
              "0      2023-06-08\n",
              "1      2023-04-06\n",
              "2      2023-09-14\n",
              "3      2023-08-24\n",
              "4      2023-06-22\n",
              "          ...    \n",
              "6543   2023-06-06\n",
              "6544   2023-05-25\n",
              "6545   2023-07-20\n",
              "6546   2024-01-18\n",
              "6547   2023-03-23\n",
              "Name: Program End Date, Length: 6548, dtype: datetime64[ns]"
            ]
          },
          "metadata": {},
          "execution_count": 1272
        }
      ],
      "source": [
        "df['Program End Date']"
      ]
    },
    {
      "cell_type": "code",
      "execution_count": 1273,
      "metadata": {
        "id": "pyJW5rWLmuOk",
        "colab": {
          "base_uri": "https://localhost:8080/"
        },
        "outputId": "d2cda92d-243e-48c2-ae49-d0c3a726df43"
      },
      "outputs": [
        {
          "output_type": "execute_result",
          "data": {
            "text/plain": [
              "Program Days\n",
              "5      2902\n",
              "12     1566\n",
              "54      531\n",
              "19      374\n",
              "26      311\n",
              "33      125\n",
              "4       113\n",
              "40       99\n",
              "173      80\n",
              "44       77\n",
              "59       60\n",
              "3        37\n",
              "9        35\n",
              "10       32\n",
              "80       28\n",
              "292      25\n",
              "47       22\n",
              "66       21\n",
              "25       19\n",
              "21       18\n",
              "248      18\n",
              "96       17\n",
              "20       15\n",
              "135      15\n",
              "61        8\n",
              "Name: count, dtype: int64"
            ]
          },
          "metadata": {},
          "execution_count": 1273
        }
      ],
      "source": [
        "df['Program Days']#check datatype\n",
        "df['Program Days'].value_counts(dropna=False)#check coulmn values"
      ]
    },
    {
      "cell_type": "code",
      "execution_count": 1274,
      "metadata": {
        "id": "-dKr5MgPmuOl",
        "colab": {
          "base_uri": "https://localhost:8080/"
        },
        "outputId": "52577f66-0088-4221-978c-47026853a2e2"
      },
      "outputs": [
        {
          "output_type": "execute_result",
          "data": {
            "text/plain": [
              "Completed Degree\n",
              "نعم    5206\n",
              "لا     1342\n",
              "Name: count, dtype: int64"
            ]
          },
          "metadata": {},
          "execution_count": 1274
        }
      ],
      "source": [
        "df['Completed Degree']#check datatype\n",
        "df['Completed Degree'].value_counts(dropna=False)#check coulmn values"
      ]
    },
    {
      "cell_type": "code",
      "execution_count": 1275,
      "metadata": {
        "id": "_rRYa21LcwBc"
      },
      "outputs": [],
      "source": [
        "# need to change it place\n",
        "df['Completed Degree']=df['Completed Degree'].astype(object)"
      ]
    },
    {
      "cell_type": "code",
      "execution_count": 1276,
      "metadata": {
        "id": "RJ0nLIfDmuOl",
        "colab": {
          "base_uri": "https://localhost:8080/"
        },
        "outputId": "d826af4d-9aa8-4e72-8734-db9d85bbd4cf"
      },
      "outputs": [
        {
          "output_type": "execute_result",
          "data": {
            "text/plain": [
              "Level of Education\n",
              "البكالوريوس    5429\n",
              "الماجستير       485\n",
              "الدبلوم         310\n",
              "ثانوي           268\n",
              "الدكتوراه        30\n",
              "NaN              26\n",
              "Name: count, dtype: int64"
            ]
          },
          "metadata": {},
          "execution_count": 1276
        }
      ],
      "source": [
        "df['Level of Education']\n",
        "df['Level of Education'].value_counts(dropna=False)#check coulmn values"
      ]
    },
    {
      "cell_type": "code",
      "execution_count": 1277,
      "metadata": {
        "id": "5ZxSw_e5muOl",
        "colab": {
          "base_uri": "https://localhost:8080/"
        },
        "outputId": "1d0bf714-d564-4cb6-f5aa-a533eb21654d"
      },
      "outputs": [
        {
          "output_type": "execute_result",
          "data": {
            "text/plain": [
              "Education Speaciality\n",
              "علوم الحاسبات                               1067\n",
              "تقنية المعلومات                              712\n",
              "نظم المعلومات                                457\n",
              "علوم حاسب                                    349\n",
              "NaN                                          277\n",
              "                                            ... \n",
              "Chemistry                                      1\n",
              "تقنية ميكانيكية - تكييف وتبريد                 1\n",
              "تقنية المعلومات - مسار علم البيانات والذ       1\n",
              "برمجه وتطوير الويب                             1\n",
              "دراسات وقضايا معاصرة                           1\n",
              "Name: count, Length: 872, dtype: int64"
            ]
          },
          "metadata": {},
          "execution_count": 1277
        }
      ],
      "source": [
        "df['Education Speaciality']#check datatype\n",
        "df['Education Speaciality'].value_counts(dropna=False)#check coulmn values"
      ]
    },
    {
      "cell_type": "code",
      "execution_count": 1278,
      "metadata": {
        "id": "DajvSPHtmuOm",
        "colab": {
          "base_uri": "https://localhost:8080/"
        },
        "outputId": "cf52b71d-9045-47e1-cc40-7237e4fa8023"
      },
      "outputs": [
        {
          "output_type": "execute_result",
          "data": {
            "text/plain": [
              "College\n",
              "NaN                                    3890\n",
              "تكنولوجيا الاتصالات والمعلومات         2312\n",
              "الأعمال والإدارة والقانون               153\n",
              "العلوم الطبيعية والرياضيات والإحصاء      62\n",
              "الهندسة والتصنيع والبناء                 43\n",
              "الفنون والعلوم الإنسانية                 38\n",
              "العلوم الاجتماعية والصحافة والإعلام      25\n",
              "التعليم                                  19\n",
              "الصحة والرفاة                             4\n",
              "البرامج والمؤهلات العامة                  2\n",
              "Name: count, dtype: int64"
            ]
          },
          "metadata": {},
          "execution_count": 1278
        }
      ],
      "source": [
        "df['College']#check datatype\n",
        "df['College'].value_counts(dropna=False)#check coulmn values"
      ]
    },
    {
      "cell_type": "code",
      "execution_count": 1279,
      "metadata": {
        "id": "uK6Ga0ssmuOm",
        "colab": {
          "base_uri": "https://localhost:8080/"
        },
        "outputId": "453d6bb7-a530-4a75-c281-3245da5754fb"
      },
      "outputs": [
        {
          "output_type": "execute_result",
          "data": {
            "text/plain": [
              "University Degree Score\n",
              "4.00     844\n",
              "3.00     583\n",
              "5.00     207\n",
              "2.00     136\n",
              "4.50     109\n",
              "        ... \n",
              "2.03       1\n",
              "82.24      1\n",
              "91.95      1\n",
              "93.95      1\n",
              "1.80       1\n",
              "Name: count, Length: 436, dtype: int64"
            ]
          },
          "metadata": {},
          "execution_count": 1279
        }
      ],
      "source": [
        "df['University Degree Score']#check datatype\n",
        "df['University Degree Score'].value_counts(dropna=False)#check coulmn values"
      ]
    },
    {
      "cell_type": "code",
      "execution_count": 1280,
      "metadata": {
        "id": "6fwyPj1zmuOm",
        "colab": {
          "base_uri": "https://localhost:8080/"
        },
        "outputId": "ded44905-b562-4e7e-bd2d-d92fbf35a657"
      },
      "outputs": [
        {
          "output_type": "execute_result",
          "data": {
            "text/plain": [
              "University Degree Score System\n",
              "5.0      4700\n",
              "4.0      1427\n",
              "100.0     340\n",
              "NaN        81\n",
              "Name: count, dtype: int64"
            ]
          },
          "metadata": {},
          "execution_count": 1280
        }
      ],
      "source": [
        "df['University Degree Score System']#check datatype\n",
        "df['University Degree Score System'].value_counts(dropna=False)#check coulmn values"
      ]
    },
    {
      "cell_type": "code",
      "execution_count": 1281,
      "metadata": {
        "id": "SOnyEjlzmuOm",
        "colab": {
          "base_uri": "https://localhost:8080/"
        },
        "outputId": "8d6433a0-4271-4e66-af6b-828225a93a75"
      },
      "outputs": [
        {
          "output_type": "execute_result",
          "data": {
            "text/plain": [
              "Employment Status\n",
              "موظف           2801\n",
              "غير موظف       1116\n",
              "طالب            957\n",
              "خريج            952\n",
              "NaN             566\n",
              "موظف - طالب      88\n",
              "عمل حر           68\n",
              "Name: count, dtype: int64"
            ]
          },
          "metadata": {},
          "execution_count": 1281
        }
      ],
      "source": [
        "df['Employment Status']#check datatype\n",
        "df['Employment Status'].value_counts(dropna=False)#check column values"
      ]
    },
    {
      "cell_type": "code",
      "execution_count": 1282,
      "metadata": {
        "id": "6MmieqF5muOm",
        "colab": {
          "base_uri": "https://localhost:8080/"
        },
        "outputId": "afa4cc19-a43d-4db7-97e5-c0efff966662"
      },
      "outputs": [
        {
          "output_type": "execute_result",
          "data": {
            "text/plain": [
              "Job Type\n",
              "NaN          4567\n",
              "دوام كامل    1398\n",
              "تدريب         478\n",
              "دوام جزئي      61\n",
              "تطوع           44\n",
              "Name: count, dtype: int64"
            ]
          },
          "metadata": {},
          "execution_count": 1282
        }
      ],
      "source": [
        "df['Job Type']#check datatype\n",
        "df['Job Type'].value_counts(dropna=False)#check column values"
      ]
    },
    {
      "cell_type": "code",
      "execution_count": 1283,
      "metadata": {
        "id": "fkezlCJTmuOm",
        "colab": {
          "base_uri": "https://localhost:8080/"
        },
        "outputId": "affa18d9-b1da-43be-8144-4dbdc2e8c8be"
      },
      "outputs": [
        {
          "output_type": "execute_result",
          "data": {
            "text/plain": [
              "Still Working\n",
              "NaN    4567\n",
              "Yes    1246\n",
              "No      735\n",
              "Name: count, dtype: int64"
            ]
          },
          "metadata": {},
          "execution_count": 1283
        }
      ],
      "source": [
        "df['Still Working']#check datatype\n",
        "df['Still Working'].value_counts(dropna=False)#check column values"
      ]
    },
    {
      "cell_type": "code",
      "execution_count": 1284,
      "metadata": {
        "id": "ZkbnDRfamuOn",
        "colab": {
          "base_uri": "https://localhost:8080/"
        },
        "outputId": "19fb73f5-06cb-4bc1-e9dc-f9b1fd83a59e"
      },
      "outputs": [
        {
          "output_type": "execute_result",
          "data": {
            "text/plain": [
              "Y\n",
              "0    5509\n",
              "1    1039\n",
              "Name: count, dtype: int64"
            ]
          },
          "metadata": {},
          "execution_count": 1284
        }
      ],
      "source": [
        "df['Y']#check datatype\n",
        "df['Y'].value_counts(dropna=False)#check column values"
      ]
    },
    {
      "cell_type": "markdown",
      "source": [
        "#Data Cleaning"
      ],
      "metadata": {
        "id": "lpxHuzNkNuzC"
      }
    },
    {
      "cell_type": "markdown",
      "source": [
        "##Handling Missing Values and Duplicates"
      ],
      "metadata": {
        "id": "WplcS5ZIOWYW"
      }
    },
    {
      "cell_type": "code",
      "execution_count": 1285,
      "metadata": {
        "id": "TZDMYdSR8lxO",
        "colab": {
          "base_uri": "https://localhost:8080/"
        },
        "outputId": "83a74983-e7a4-4edc-ae79-b3b68c2d50cd"
      },
      "outputs": [
        {
          "output_type": "execute_result",
          "data": {
            "text/plain": [
              "Student ID                           0\n",
              "Age                                 92\n",
              "Gender                               0\n",
              "Home Region                          2\n",
              "Home City                            2\n",
              "Program ID                           0\n",
              "Program Main Category Code           0\n",
              "Program Sub Category Code          935\n",
              "Technology Type                   2982\n",
              "Program Skill Level               1646\n",
              "Program Presentation Method          0\n",
              "Program Start Date                   0\n",
              "Program End Date                     0\n",
              "Program Days                         0\n",
              "Completed Degree                     0\n",
              "Level of Education                  26\n",
              "Education Speaciality              277\n",
              "College                           3890\n",
              "University Degree Score             81\n",
              "University Degree Score System      81\n",
              "Employment Status                  566\n",
              "Job Type                          4567\n",
              "Still Working                     4567\n",
              "Y                                    0\n",
              "dtype: int64"
            ]
          },
          "metadata": {},
          "execution_count": 1285
        }
      ],
      "source": [
        "df.isna().sum()"
      ]
    },
    {
      "cell_type": "code",
      "source": [
        "df.describe(include='number')"
      ],
      "metadata": {
        "colab": {
          "base_uri": "https://localhost:8080/",
          "height": 300
        },
        "id": "y49yZFmeWAXa",
        "outputId": "e32e69b1-87c7-41fd-c15b-6aa46c787349"
      },
      "execution_count": 1286,
      "outputs": [
        {
          "output_type": "execute_result",
          "data": {
            "text/plain": [
              "               Age  Program Days  University Degree Score  \\\n",
              "count  6456.000000   6548.000000              6467.000000   \n",
              "mean     26.831165     19.691662                 8.224432   \n",
              "std       5.535967     32.112061                19.120384   \n",
              "min      18.000000      3.000000                 0.000000   \n",
              "25%      23.000000      5.000000                 3.300000   \n",
              "50%      25.000000     12.000000                 4.000000   \n",
              "75%      29.000000     19.000000                 4.510000   \n",
              "max      57.000000    292.000000               100.000000   \n",
              "\n",
              "       University Degree Score System            Y  \n",
              "count                     6467.000000  6548.000000  \n",
              "mean                         9.773929     0.158674  \n",
              "std                         21.259962     0.365400  \n",
              "min                          4.000000     0.000000  \n",
              "25%                          5.000000     0.000000  \n",
              "50%                          5.000000     0.000000  \n",
              "75%                          5.000000     0.000000  \n",
              "max                        100.000000     1.000000  "
            ],
            "text/html": [
              "\n",
              "  <div id=\"df-8c370b17-47ec-4eeb-9ebd-fc05bf5190d8\" class=\"colab-df-container\">\n",
              "    <div>\n",
              "<style scoped>\n",
              "    .dataframe tbody tr th:only-of-type {\n",
              "        vertical-align: middle;\n",
              "    }\n",
              "\n",
              "    .dataframe tbody tr th {\n",
              "        vertical-align: top;\n",
              "    }\n",
              "\n",
              "    .dataframe thead th {\n",
              "        text-align: right;\n",
              "    }\n",
              "</style>\n",
              "<table border=\"1\" class=\"dataframe\">\n",
              "  <thead>\n",
              "    <tr style=\"text-align: right;\">\n",
              "      <th></th>\n",
              "      <th>Age</th>\n",
              "      <th>Program Days</th>\n",
              "      <th>University Degree Score</th>\n",
              "      <th>University Degree Score System</th>\n",
              "      <th>Y</th>\n",
              "    </tr>\n",
              "  </thead>\n",
              "  <tbody>\n",
              "    <tr>\n",
              "      <th>count</th>\n",
              "      <td>6456.000000</td>\n",
              "      <td>6548.000000</td>\n",
              "      <td>6467.000000</td>\n",
              "      <td>6467.000000</td>\n",
              "      <td>6548.000000</td>\n",
              "    </tr>\n",
              "    <tr>\n",
              "      <th>mean</th>\n",
              "      <td>26.831165</td>\n",
              "      <td>19.691662</td>\n",
              "      <td>8.224432</td>\n",
              "      <td>9.773929</td>\n",
              "      <td>0.158674</td>\n",
              "    </tr>\n",
              "    <tr>\n",
              "      <th>std</th>\n",
              "      <td>5.535967</td>\n",
              "      <td>32.112061</td>\n",
              "      <td>19.120384</td>\n",
              "      <td>21.259962</td>\n",
              "      <td>0.365400</td>\n",
              "    </tr>\n",
              "    <tr>\n",
              "      <th>min</th>\n",
              "      <td>18.000000</td>\n",
              "      <td>3.000000</td>\n",
              "      <td>0.000000</td>\n",
              "      <td>4.000000</td>\n",
              "      <td>0.000000</td>\n",
              "    </tr>\n",
              "    <tr>\n",
              "      <th>25%</th>\n",
              "      <td>23.000000</td>\n",
              "      <td>5.000000</td>\n",
              "      <td>3.300000</td>\n",
              "      <td>5.000000</td>\n",
              "      <td>0.000000</td>\n",
              "    </tr>\n",
              "    <tr>\n",
              "      <th>50%</th>\n",
              "      <td>25.000000</td>\n",
              "      <td>12.000000</td>\n",
              "      <td>4.000000</td>\n",
              "      <td>5.000000</td>\n",
              "      <td>0.000000</td>\n",
              "    </tr>\n",
              "    <tr>\n",
              "      <th>75%</th>\n",
              "      <td>29.000000</td>\n",
              "      <td>19.000000</td>\n",
              "      <td>4.510000</td>\n",
              "      <td>5.000000</td>\n",
              "      <td>0.000000</td>\n",
              "    </tr>\n",
              "    <tr>\n",
              "      <th>max</th>\n",
              "      <td>57.000000</td>\n",
              "      <td>292.000000</td>\n",
              "      <td>100.000000</td>\n",
              "      <td>100.000000</td>\n",
              "      <td>1.000000</td>\n",
              "    </tr>\n",
              "  </tbody>\n",
              "</table>\n",
              "</div>\n",
              "    <div class=\"colab-df-buttons\">\n",
              "\n",
              "  <div class=\"colab-df-container\">\n",
              "    <button class=\"colab-df-convert\" onclick=\"convertToInteractive('df-8c370b17-47ec-4eeb-9ebd-fc05bf5190d8')\"\n",
              "            title=\"Convert this dataframe to an interactive table.\"\n",
              "            style=\"display:none;\">\n",
              "\n",
              "  <svg xmlns=\"http://www.w3.org/2000/svg\" height=\"24px\" viewBox=\"0 -960 960 960\">\n",
              "    <path d=\"M120-120v-720h720v720H120Zm60-500h600v-160H180v160Zm220 220h160v-160H400v160Zm0 220h160v-160H400v160ZM180-400h160v-160H180v160Zm440 0h160v-160H620v160ZM180-180h160v-160H180v160Zm440 0h160v-160H620v160Z\"/>\n",
              "  </svg>\n",
              "    </button>\n",
              "\n",
              "  <style>\n",
              "    .colab-df-container {\n",
              "      display:flex;\n",
              "      gap: 12px;\n",
              "    }\n",
              "\n",
              "    .colab-df-convert {\n",
              "      background-color: #E8F0FE;\n",
              "      border: none;\n",
              "      border-radius: 50%;\n",
              "      cursor: pointer;\n",
              "      display: none;\n",
              "      fill: #1967D2;\n",
              "      height: 32px;\n",
              "      padding: 0 0 0 0;\n",
              "      width: 32px;\n",
              "    }\n",
              "\n",
              "    .colab-df-convert:hover {\n",
              "      background-color: #E2EBFA;\n",
              "      box-shadow: 0px 1px 2px rgba(60, 64, 67, 0.3), 0px 1px 3px 1px rgba(60, 64, 67, 0.15);\n",
              "      fill: #174EA6;\n",
              "    }\n",
              "\n",
              "    .colab-df-buttons div {\n",
              "      margin-bottom: 4px;\n",
              "    }\n",
              "\n",
              "    [theme=dark] .colab-df-convert {\n",
              "      background-color: #3B4455;\n",
              "      fill: #D2E3FC;\n",
              "    }\n",
              "\n",
              "    [theme=dark] .colab-df-convert:hover {\n",
              "      background-color: #434B5C;\n",
              "      box-shadow: 0px 1px 3px 1px rgba(0, 0, 0, 0.15);\n",
              "      filter: drop-shadow(0px 1px 2px rgba(0, 0, 0, 0.3));\n",
              "      fill: #FFFFFF;\n",
              "    }\n",
              "  </style>\n",
              "\n",
              "    <script>\n",
              "      const buttonEl =\n",
              "        document.querySelector('#df-8c370b17-47ec-4eeb-9ebd-fc05bf5190d8 button.colab-df-convert');\n",
              "      buttonEl.style.display =\n",
              "        google.colab.kernel.accessAllowed ? 'block' : 'none';\n",
              "\n",
              "      async function convertToInteractive(key) {\n",
              "        const element = document.querySelector('#df-8c370b17-47ec-4eeb-9ebd-fc05bf5190d8');\n",
              "        const dataTable =\n",
              "          await google.colab.kernel.invokeFunction('convertToInteractive',\n",
              "                                                    [key], {});\n",
              "        if (!dataTable) return;\n",
              "\n",
              "        const docLinkHtml = 'Like what you see? Visit the ' +\n",
              "          '<a target=\"_blank\" href=https://colab.research.google.com/notebooks/data_table.ipynb>data table notebook</a>'\n",
              "          + ' to learn more about interactive tables.';\n",
              "        element.innerHTML = '';\n",
              "        dataTable['output_type'] = 'display_data';\n",
              "        await google.colab.output.renderOutput(dataTable, element);\n",
              "        const docLink = document.createElement('div');\n",
              "        docLink.innerHTML = docLinkHtml;\n",
              "        element.appendChild(docLink);\n",
              "      }\n",
              "    </script>\n",
              "  </div>\n",
              "\n",
              "\n",
              "<div id=\"df-b2d12b1e-cb23-4751-9ac4-e22873cea93b\">\n",
              "  <button class=\"colab-df-quickchart\" onclick=\"quickchart('df-b2d12b1e-cb23-4751-9ac4-e22873cea93b')\"\n",
              "            title=\"Suggest charts\"\n",
              "            style=\"display:none;\">\n",
              "\n",
              "<svg xmlns=\"http://www.w3.org/2000/svg\" height=\"24px\"viewBox=\"0 0 24 24\"\n",
              "     width=\"24px\">\n",
              "    <g>\n",
              "        <path d=\"M19 3H5c-1.1 0-2 .9-2 2v14c0 1.1.9 2 2 2h14c1.1 0 2-.9 2-2V5c0-1.1-.9-2-2-2zM9 17H7v-7h2v7zm4 0h-2V7h2v10zm4 0h-2v-4h2v4z\"/>\n",
              "    </g>\n",
              "</svg>\n",
              "  </button>\n",
              "\n",
              "<style>\n",
              "  .colab-df-quickchart {\n",
              "      --bg-color: #E8F0FE;\n",
              "      --fill-color: #1967D2;\n",
              "      --hover-bg-color: #E2EBFA;\n",
              "      --hover-fill-color: #174EA6;\n",
              "      --disabled-fill-color: #AAA;\n",
              "      --disabled-bg-color: #DDD;\n",
              "  }\n",
              "\n",
              "  [theme=dark] .colab-df-quickchart {\n",
              "      --bg-color: #3B4455;\n",
              "      --fill-color: #D2E3FC;\n",
              "      --hover-bg-color: #434B5C;\n",
              "      --hover-fill-color: #FFFFFF;\n",
              "      --disabled-bg-color: #3B4455;\n",
              "      --disabled-fill-color: #666;\n",
              "  }\n",
              "\n",
              "  .colab-df-quickchart {\n",
              "    background-color: var(--bg-color);\n",
              "    border: none;\n",
              "    border-radius: 50%;\n",
              "    cursor: pointer;\n",
              "    display: none;\n",
              "    fill: var(--fill-color);\n",
              "    height: 32px;\n",
              "    padding: 0;\n",
              "    width: 32px;\n",
              "  }\n",
              "\n",
              "  .colab-df-quickchart:hover {\n",
              "    background-color: var(--hover-bg-color);\n",
              "    box-shadow: 0 1px 2px rgba(60, 64, 67, 0.3), 0 1px 3px 1px rgba(60, 64, 67, 0.15);\n",
              "    fill: var(--button-hover-fill-color);\n",
              "  }\n",
              "\n",
              "  .colab-df-quickchart-complete:disabled,\n",
              "  .colab-df-quickchart-complete:disabled:hover {\n",
              "    background-color: var(--disabled-bg-color);\n",
              "    fill: var(--disabled-fill-color);\n",
              "    box-shadow: none;\n",
              "  }\n",
              "\n",
              "  .colab-df-spinner {\n",
              "    border: 2px solid var(--fill-color);\n",
              "    border-color: transparent;\n",
              "    border-bottom-color: var(--fill-color);\n",
              "    animation:\n",
              "      spin 1s steps(1) infinite;\n",
              "  }\n",
              "\n",
              "  @keyframes spin {\n",
              "    0% {\n",
              "      border-color: transparent;\n",
              "      border-bottom-color: var(--fill-color);\n",
              "      border-left-color: var(--fill-color);\n",
              "    }\n",
              "    20% {\n",
              "      border-color: transparent;\n",
              "      border-left-color: var(--fill-color);\n",
              "      border-top-color: var(--fill-color);\n",
              "    }\n",
              "    30% {\n",
              "      border-color: transparent;\n",
              "      border-left-color: var(--fill-color);\n",
              "      border-top-color: var(--fill-color);\n",
              "      border-right-color: var(--fill-color);\n",
              "    }\n",
              "    40% {\n",
              "      border-color: transparent;\n",
              "      border-right-color: var(--fill-color);\n",
              "      border-top-color: var(--fill-color);\n",
              "    }\n",
              "    60% {\n",
              "      border-color: transparent;\n",
              "      border-right-color: var(--fill-color);\n",
              "    }\n",
              "    80% {\n",
              "      border-color: transparent;\n",
              "      border-right-color: var(--fill-color);\n",
              "      border-bottom-color: var(--fill-color);\n",
              "    }\n",
              "    90% {\n",
              "      border-color: transparent;\n",
              "      border-bottom-color: var(--fill-color);\n",
              "    }\n",
              "  }\n",
              "</style>\n",
              "\n",
              "  <script>\n",
              "    async function quickchart(key) {\n",
              "      const quickchartButtonEl =\n",
              "        document.querySelector('#' + key + ' button');\n",
              "      quickchartButtonEl.disabled = true;  // To prevent multiple clicks.\n",
              "      quickchartButtonEl.classList.add('colab-df-spinner');\n",
              "      try {\n",
              "        const charts = await google.colab.kernel.invokeFunction(\n",
              "            'suggestCharts', [key], {});\n",
              "      } catch (error) {\n",
              "        console.error('Error during call to suggestCharts:', error);\n",
              "      }\n",
              "      quickchartButtonEl.classList.remove('colab-df-spinner');\n",
              "      quickchartButtonEl.classList.add('colab-df-quickchart-complete');\n",
              "    }\n",
              "    (() => {\n",
              "      let quickchartButtonEl =\n",
              "        document.querySelector('#df-b2d12b1e-cb23-4751-9ac4-e22873cea93b button');\n",
              "      quickchartButtonEl.style.display =\n",
              "        google.colab.kernel.accessAllowed ? 'block' : 'none';\n",
              "    })();\n",
              "  </script>\n",
              "</div>\n",
              "\n",
              "    </div>\n",
              "  </div>\n"
            ],
            "application/vnd.google.colaboratory.intrinsic+json": {
              "type": "dataframe",
              "summary": "{\n  \"name\": \"df\",\n  \"rows\": 8,\n  \"fields\": [\n    {\n      \"column\": \"Age\",\n      \"properties\": {\n        \"dtype\": \"number\",\n        \"std\": 2273.2747022094213,\n        \"min\": 5.535967454120554,\n        \"max\": 6456.0,\n        \"num_unique_values\": 8,\n        \"samples\": [\n          26.83116480793061,\n          25.0,\n          6456.0\n        ],\n        \"semantic_type\": \"\",\n        \"description\": \"\"\n      }\n    },\n    {\n      \"column\": \"Program Days\",\n      \"properties\": {\n        \"dtype\": \"number\",\n        \"std\": 2297.794623319895,\n        \"min\": 3.0,\n        \"max\": 6548.0,\n        \"num_unique_values\": 8,\n        \"samples\": [\n          19.691661576053757,\n          12.0,\n          6548.0\n        ],\n        \"semantic_type\": \"\",\n        \"description\": \"\"\n      }\n    },\n    {\n      \"column\": \"University Degree Score\",\n      \"properties\": {\n        \"dtype\": \"number\",\n        \"std\": 2279.6431198607756,\n        \"min\": 0.0,\n        \"max\": 6467.0,\n        \"num_unique_values\": 8,\n        \"samples\": [\n          8.224432348847998,\n          4.0,\n          6467.0\n        ],\n        \"semantic_type\": \"\",\n        \"description\": \"\"\n      }\n    },\n    {\n      \"column\": \"University Degree Score System\",\n      \"properties\": {\n        \"dtype\": \"number\",\n        \"std\": 2279.0845695273174,\n        \"min\": 4.0,\n        \"max\": 6467.0,\n        \"num_unique_values\": 6,\n        \"samples\": [\n          6467.0,\n          9.773929178908304,\n          100.0\n        ],\n        \"semantic_type\": \"\",\n        \"description\": \"\"\n      }\n    },\n    {\n      \"column\": \"Y\",\n      \"properties\": {\n        \"dtype\": \"number\",\n        \"std\": 2314.9906497309275,\n        \"min\": 0.0,\n        \"max\": 6548.0,\n        \"num_unique_values\": 5,\n        \"samples\": [\n          0.15867440439828956,\n          1.0,\n          0.3654000934905779\n        ],\n        \"semantic_type\": \"\",\n        \"description\": \"\"\n      }\n    }\n  ]\n}"
            }
          },
          "metadata": {},
          "execution_count": 1286
        }
      ]
    },
    {
      "cell_type": "code",
      "execution_count": 1287,
      "metadata": {
        "id": "mH1tb3nQIU3R"
      },
      "outputs": [],
      "source": [
        "Avg_Age=df['Age'].mean()\n",
        "df['Age'].fillna(Avg_Age,inplace=True)"
      ]
    },
    {
      "cell_type": "code",
      "execution_count": 1288,
      "metadata": {
        "id": "bh5OLwJjaGNU"
      },
      "outputs": [],
      "source": [
        "df['Age']=df['Age'].astype(int)# change type to int"
      ]
    },
    {
      "cell_type": "code",
      "source": [
        "df.isna().sum()"
      ],
      "metadata": {
        "colab": {
          "base_uri": "https://localhost:8080/"
        },
        "id": "p9bCVz-iP0O2",
        "outputId": "181eba61-5017-488a-810a-a60d26588bb9"
      },
      "execution_count": 1289,
      "outputs": [
        {
          "output_type": "execute_result",
          "data": {
            "text/plain": [
              "Student ID                           0\n",
              "Age                                  0\n",
              "Gender                               0\n",
              "Home Region                          2\n",
              "Home City                            2\n",
              "Program ID                           0\n",
              "Program Main Category Code           0\n",
              "Program Sub Category Code          935\n",
              "Technology Type                   2982\n",
              "Program Skill Level               1646\n",
              "Program Presentation Method          0\n",
              "Program Start Date                   0\n",
              "Program End Date                     0\n",
              "Program Days                         0\n",
              "Completed Degree                     0\n",
              "Level of Education                  26\n",
              "Education Speaciality              277\n",
              "College                           3890\n",
              "University Degree Score             81\n",
              "University Degree Score System      81\n",
              "Employment Status                  566\n",
              "Job Type                          4567\n",
              "Still Working                     4567\n",
              "Y                                    0\n",
              "dtype: int64"
            ]
          },
          "metadata": {},
          "execution_count": 1289
        }
      ]
    },
    {
      "cell_type": "code",
      "source": [
        "mod_val=df[['Home Region','Home City']].mode().iloc[0]\n",
        "df[['Home Region', 'Home City']] =df[['Home Region','Home City']].fillna(mod_val)"
      ],
      "metadata": {
        "id": "2v4sxJ01QZuU"
      },
      "execution_count": 1290,
      "outputs": []
    },
    {
      "cell_type": "code",
      "source": [
        "indices_to_present = [0, 1864, 3292]# check here to find if the Home Region is filled instead of Home City or vise versa to fill it with.\n",
        "selected_rows_df = df.loc[indices_to_present]\n",
        "selected_rows_df"
      ],
      "metadata": {
        "colab": {
          "base_uri": "https://localhost:8080/",
          "height": 401
        },
        "id": "ePVHxxeTQ2rI",
        "outputId": "7c261071-567d-4c32-d8a9-87f4156bb23b"
      },
      "execution_count": 1291,
      "outputs": [
        {
          "output_type": "execute_result",
          "data": {
            "text/plain": [
              "                                Student ID  Age Gender   Home Region  \\\n",
              "0     4f14c50d-162e-4a15-9cf0-ec129c33bcf0   37    ذكر  منطقة الرياض   \n",
              "1864  cc394a25-74ed-43f9-92bc-e0021fc969c5   45    ذكر  منطقة الرياض   \n",
              "3292  55b23798-369d-4698-8cb9-f8d1684bf1f8   26    ذكر  منطقة الرياض   \n",
              "\n",
              "     Home City                            Program ID  \\\n",
              "0       الرياض  453686d8-4023-4506-b2df-fac8b059ac26   \n",
              "1864    الرياض  ce3562c8-8d27-4ffb-8dfc-e1dd4527b32a   \n",
              "3292    الرياض  899795e1-7bf3-46d0-a58e-824d4033f6da   \n",
              "\n",
              "     Program Main Category Code Program Sub Category Code Technology Type  \\\n",
              "0                          PCRF                      PCRF             NaN   \n",
              "1864                       PCRF                      PCRF         تقليدية   \n",
              "3292                       PCRF                      PCRF         تقليدية   \n",
              "\n",
              "     Program Skill Level  ... Completed Degree Level of Education  \\\n",
              "0                    NaN  ...              نعم        البكالوريوس   \n",
              "1864               مبتدئ  ...              نعم          الماجستير   \n",
              "3292               متوسط  ...              نعم                NaN   \n",
              "\n",
              "       Education Speaciality                    College  \\\n",
              "0           هندسة حاسب الالي                        NaN   \n",
              "1864  نظم المعلومات الإدارية  الأعمال والإدارة والقانون   \n",
              "3292                     NaN                        NaN   \n",
              "\n",
              "     University Degree Score University Degree Score System Employment Status  \\\n",
              "0                       2.44                            4.0          غير موظف   \n",
              "1864                    4.00                            5.0              موظف   \n",
              "3292                     NaN                            NaN               NaN   \n",
              "\n",
              "       Job Type  Still Working  Y  \n",
              "0           NaN            NaN  0  \n",
              "1864  دوام كامل            Yes  0  \n",
              "3292        NaN            NaN  0  \n",
              "\n",
              "[3 rows x 24 columns]"
            ],
            "text/html": [
              "\n",
              "  <div id=\"df-2e6173b6-7cfc-4267-b0dc-c3785a0b379f\" class=\"colab-df-container\">\n",
              "    <div>\n",
              "<style scoped>\n",
              "    .dataframe tbody tr th:only-of-type {\n",
              "        vertical-align: middle;\n",
              "    }\n",
              "\n",
              "    .dataframe tbody tr th {\n",
              "        vertical-align: top;\n",
              "    }\n",
              "\n",
              "    .dataframe thead th {\n",
              "        text-align: right;\n",
              "    }\n",
              "</style>\n",
              "<table border=\"1\" class=\"dataframe\">\n",
              "  <thead>\n",
              "    <tr style=\"text-align: right;\">\n",
              "      <th></th>\n",
              "      <th>Student ID</th>\n",
              "      <th>Age</th>\n",
              "      <th>Gender</th>\n",
              "      <th>Home Region</th>\n",
              "      <th>Home City</th>\n",
              "      <th>Program ID</th>\n",
              "      <th>Program Main Category Code</th>\n",
              "      <th>Program Sub Category Code</th>\n",
              "      <th>Technology Type</th>\n",
              "      <th>Program Skill Level</th>\n",
              "      <th>...</th>\n",
              "      <th>Completed Degree</th>\n",
              "      <th>Level of Education</th>\n",
              "      <th>Education Speaciality</th>\n",
              "      <th>College</th>\n",
              "      <th>University Degree Score</th>\n",
              "      <th>University Degree Score System</th>\n",
              "      <th>Employment Status</th>\n",
              "      <th>Job Type</th>\n",
              "      <th>Still Working</th>\n",
              "      <th>Y</th>\n",
              "    </tr>\n",
              "  </thead>\n",
              "  <tbody>\n",
              "    <tr>\n",
              "      <th>0</th>\n",
              "      <td>4f14c50d-162e-4a15-9cf0-ec129c33bcf0</td>\n",
              "      <td>37</td>\n",
              "      <td>ذكر</td>\n",
              "      <td>منطقة الرياض</td>\n",
              "      <td>الرياض</td>\n",
              "      <td>453686d8-4023-4506-b2df-fac8b059ac26</td>\n",
              "      <td>PCRF</td>\n",
              "      <td>PCRF</td>\n",
              "      <td>NaN</td>\n",
              "      <td>NaN</td>\n",
              "      <td>...</td>\n",
              "      <td>نعم</td>\n",
              "      <td>البكالوريوس</td>\n",
              "      <td>هندسة حاسب الالي</td>\n",
              "      <td>NaN</td>\n",
              "      <td>2.44</td>\n",
              "      <td>4.0</td>\n",
              "      <td>غير موظف</td>\n",
              "      <td>NaN</td>\n",
              "      <td>NaN</td>\n",
              "      <td>0</td>\n",
              "    </tr>\n",
              "    <tr>\n",
              "      <th>1864</th>\n",
              "      <td>cc394a25-74ed-43f9-92bc-e0021fc969c5</td>\n",
              "      <td>45</td>\n",
              "      <td>ذكر</td>\n",
              "      <td>منطقة الرياض</td>\n",
              "      <td>الرياض</td>\n",
              "      <td>ce3562c8-8d27-4ffb-8dfc-e1dd4527b32a</td>\n",
              "      <td>PCRF</td>\n",
              "      <td>PCRF</td>\n",
              "      <td>تقليدية</td>\n",
              "      <td>مبتدئ</td>\n",
              "      <td>...</td>\n",
              "      <td>نعم</td>\n",
              "      <td>الماجستير</td>\n",
              "      <td>نظم المعلومات الإدارية</td>\n",
              "      <td>الأعمال والإدارة والقانون</td>\n",
              "      <td>4.00</td>\n",
              "      <td>5.0</td>\n",
              "      <td>موظف</td>\n",
              "      <td>دوام كامل</td>\n",
              "      <td>Yes</td>\n",
              "      <td>0</td>\n",
              "    </tr>\n",
              "    <tr>\n",
              "      <th>3292</th>\n",
              "      <td>55b23798-369d-4698-8cb9-f8d1684bf1f8</td>\n",
              "      <td>26</td>\n",
              "      <td>ذكر</td>\n",
              "      <td>منطقة الرياض</td>\n",
              "      <td>الرياض</td>\n",
              "      <td>899795e1-7bf3-46d0-a58e-824d4033f6da</td>\n",
              "      <td>PCRF</td>\n",
              "      <td>PCRF</td>\n",
              "      <td>تقليدية</td>\n",
              "      <td>متوسط</td>\n",
              "      <td>...</td>\n",
              "      <td>نعم</td>\n",
              "      <td>NaN</td>\n",
              "      <td>NaN</td>\n",
              "      <td>NaN</td>\n",
              "      <td>NaN</td>\n",
              "      <td>NaN</td>\n",
              "      <td>NaN</td>\n",
              "      <td>NaN</td>\n",
              "      <td>NaN</td>\n",
              "      <td>0</td>\n",
              "    </tr>\n",
              "  </tbody>\n",
              "</table>\n",
              "<p>3 rows × 24 columns</p>\n",
              "</div>\n",
              "    <div class=\"colab-df-buttons\">\n",
              "\n",
              "  <div class=\"colab-df-container\">\n",
              "    <button class=\"colab-df-convert\" onclick=\"convertToInteractive('df-2e6173b6-7cfc-4267-b0dc-c3785a0b379f')\"\n",
              "            title=\"Convert this dataframe to an interactive table.\"\n",
              "            style=\"display:none;\">\n",
              "\n",
              "  <svg xmlns=\"http://www.w3.org/2000/svg\" height=\"24px\" viewBox=\"0 -960 960 960\">\n",
              "    <path d=\"M120-120v-720h720v720H120Zm60-500h600v-160H180v160Zm220 220h160v-160H400v160Zm0 220h160v-160H400v160ZM180-400h160v-160H180v160Zm440 0h160v-160H620v160ZM180-180h160v-160H180v160Zm440 0h160v-160H620v160Z\"/>\n",
              "  </svg>\n",
              "    </button>\n",
              "\n",
              "  <style>\n",
              "    .colab-df-container {\n",
              "      display:flex;\n",
              "      gap: 12px;\n",
              "    }\n",
              "\n",
              "    .colab-df-convert {\n",
              "      background-color: #E8F0FE;\n",
              "      border: none;\n",
              "      border-radius: 50%;\n",
              "      cursor: pointer;\n",
              "      display: none;\n",
              "      fill: #1967D2;\n",
              "      height: 32px;\n",
              "      padding: 0 0 0 0;\n",
              "      width: 32px;\n",
              "    }\n",
              "\n",
              "    .colab-df-convert:hover {\n",
              "      background-color: #E2EBFA;\n",
              "      box-shadow: 0px 1px 2px rgba(60, 64, 67, 0.3), 0px 1px 3px 1px rgba(60, 64, 67, 0.15);\n",
              "      fill: #174EA6;\n",
              "    }\n",
              "\n",
              "    .colab-df-buttons div {\n",
              "      margin-bottom: 4px;\n",
              "    }\n",
              "\n",
              "    [theme=dark] .colab-df-convert {\n",
              "      background-color: #3B4455;\n",
              "      fill: #D2E3FC;\n",
              "    }\n",
              "\n",
              "    [theme=dark] .colab-df-convert:hover {\n",
              "      background-color: #434B5C;\n",
              "      box-shadow: 0px 1px 3px 1px rgba(0, 0, 0, 0.15);\n",
              "      filter: drop-shadow(0px 1px 2px rgba(0, 0, 0, 0.3));\n",
              "      fill: #FFFFFF;\n",
              "    }\n",
              "  </style>\n",
              "\n",
              "    <script>\n",
              "      const buttonEl =\n",
              "        document.querySelector('#df-2e6173b6-7cfc-4267-b0dc-c3785a0b379f button.colab-df-convert');\n",
              "      buttonEl.style.display =\n",
              "        google.colab.kernel.accessAllowed ? 'block' : 'none';\n",
              "\n",
              "      async function convertToInteractive(key) {\n",
              "        const element = document.querySelector('#df-2e6173b6-7cfc-4267-b0dc-c3785a0b379f');\n",
              "        const dataTable =\n",
              "          await google.colab.kernel.invokeFunction('convertToInteractive',\n",
              "                                                    [key], {});\n",
              "        if (!dataTable) return;\n",
              "\n",
              "        const docLinkHtml = 'Like what you see? Visit the ' +\n",
              "          '<a target=\"_blank\" href=https://colab.research.google.com/notebooks/data_table.ipynb>data table notebook</a>'\n",
              "          + ' to learn more about interactive tables.';\n",
              "        element.innerHTML = '';\n",
              "        dataTable['output_type'] = 'display_data';\n",
              "        await google.colab.output.renderOutput(dataTable, element);\n",
              "        const docLink = document.createElement('div');\n",
              "        docLink.innerHTML = docLinkHtml;\n",
              "        element.appendChild(docLink);\n",
              "      }\n",
              "    </script>\n",
              "  </div>\n",
              "\n",
              "\n",
              "<div id=\"df-07d30d6b-cae3-4002-9270-5d31c337f18f\">\n",
              "  <button class=\"colab-df-quickchart\" onclick=\"quickchart('df-07d30d6b-cae3-4002-9270-5d31c337f18f')\"\n",
              "            title=\"Suggest charts\"\n",
              "            style=\"display:none;\">\n",
              "\n",
              "<svg xmlns=\"http://www.w3.org/2000/svg\" height=\"24px\"viewBox=\"0 0 24 24\"\n",
              "     width=\"24px\">\n",
              "    <g>\n",
              "        <path d=\"M19 3H5c-1.1 0-2 .9-2 2v14c0 1.1.9 2 2 2h14c1.1 0 2-.9 2-2V5c0-1.1-.9-2-2-2zM9 17H7v-7h2v7zm4 0h-2V7h2v10zm4 0h-2v-4h2v4z\"/>\n",
              "    </g>\n",
              "</svg>\n",
              "  </button>\n",
              "\n",
              "<style>\n",
              "  .colab-df-quickchart {\n",
              "      --bg-color: #E8F0FE;\n",
              "      --fill-color: #1967D2;\n",
              "      --hover-bg-color: #E2EBFA;\n",
              "      --hover-fill-color: #174EA6;\n",
              "      --disabled-fill-color: #AAA;\n",
              "      --disabled-bg-color: #DDD;\n",
              "  }\n",
              "\n",
              "  [theme=dark] .colab-df-quickchart {\n",
              "      --bg-color: #3B4455;\n",
              "      --fill-color: #D2E3FC;\n",
              "      --hover-bg-color: #434B5C;\n",
              "      --hover-fill-color: #FFFFFF;\n",
              "      --disabled-bg-color: #3B4455;\n",
              "      --disabled-fill-color: #666;\n",
              "  }\n",
              "\n",
              "  .colab-df-quickchart {\n",
              "    background-color: var(--bg-color);\n",
              "    border: none;\n",
              "    border-radius: 50%;\n",
              "    cursor: pointer;\n",
              "    display: none;\n",
              "    fill: var(--fill-color);\n",
              "    height: 32px;\n",
              "    padding: 0;\n",
              "    width: 32px;\n",
              "  }\n",
              "\n",
              "  .colab-df-quickchart:hover {\n",
              "    background-color: var(--hover-bg-color);\n",
              "    box-shadow: 0 1px 2px rgba(60, 64, 67, 0.3), 0 1px 3px 1px rgba(60, 64, 67, 0.15);\n",
              "    fill: var(--button-hover-fill-color);\n",
              "  }\n",
              "\n",
              "  .colab-df-quickchart-complete:disabled,\n",
              "  .colab-df-quickchart-complete:disabled:hover {\n",
              "    background-color: var(--disabled-bg-color);\n",
              "    fill: var(--disabled-fill-color);\n",
              "    box-shadow: none;\n",
              "  }\n",
              "\n",
              "  .colab-df-spinner {\n",
              "    border: 2px solid var(--fill-color);\n",
              "    border-color: transparent;\n",
              "    border-bottom-color: var(--fill-color);\n",
              "    animation:\n",
              "      spin 1s steps(1) infinite;\n",
              "  }\n",
              "\n",
              "  @keyframes spin {\n",
              "    0% {\n",
              "      border-color: transparent;\n",
              "      border-bottom-color: var(--fill-color);\n",
              "      border-left-color: var(--fill-color);\n",
              "    }\n",
              "    20% {\n",
              "      border-color: transparent;\n",
              "      border-left-color: var(--fill-color);\n",
              "      border-top-color: var(--fill-color);\n",
              "    }\n",
              "    30% {\n",
              "      border-color: transparent;\n",
              "      border-left-color: var(--fill-color);\n",
              "      border-top-color: var(--fill-color);\n",
              "      border-right-color: var(--fill-color);\n",
              "    }\n",
              "    40% {\n",
              "      border-color: transparent;\n",
              "      border-right-color: var(--fill-color);\n",
              "      border-top-color: var(--fill-color);\n",
              "    }\n",
              "    60% {\n",
              "      border-color: transparent;\n",
              "      border-right-color: var(--fill-color);\n",
              "    }\n",
              "    80% {\n",
              "      border-color: transparent;\n",
              "      border-right-color: var(--fill-color);\n",
              "      border-bottom-color: var(--fill-color);\n",
              "    }\n",
              "    90% {\n",
              "      border-color: transparent;\n",
              "      border-bottom-color: var(--fill-color);\n",
              "    }\n",
              "  }\n",
              "</style>\n",
              "\n",
              "  <script>\n",
              "    async function quickchart(key) {\n",
              "      const quickchartButtonEl =\n",
              "        document.querySelector('#' + key + ' button');\n",
              "      quickchartButtonEl.disabled = true;  // To prevent multiple clicks.\n",
              "      quickchartButtonEl.classList.add('colab-df-spinner');\n",
              "      try {\n",
              "        const charts = await google.colab.kernel.invokeFunction(\n",
              "            'suggestCharts', [key], {});\n",
              "      } catch (error) {\n",
              "        console.error('Error during call to suggestCharts:', error);\n",
              "      }\n",
              "      quickchartButtonEl.classList.remove('colab-df-spinner');\n",
              "      quickchartButtonEl.classList.add('colab-df-quickchart-complete');\n",
              "    }\n",
              "    (() => {\n",
              "      let quickchartButtonEl =\n",
              "        document.querySelector('#df-07d30d6b-cae3-4002-9270-5d31c337f18f button');\n",
              "      quickchartButtonEl.style.display =\n",
              "        google.colab.kernel.accessAllowed ? 'block' : 'none';\n",
              "    })();\n",
              "  </script>\n",
              "</div>\n",
              "\n",
              "  <div id=\"id_c2a41b84-669f-4d33-babd-b4d2d9264d59\">\n",
              "    <style>\n",
              "      .colab-df-generate {\n",
              "        background-color: #E8F0FE;\n",
              "        border: none;\n",
              "        border-radius: 50%;\n",
              "        cursor: pointer;\n",
              "        display: none;\n",
              "        fill: #1967D2;\n",
              "        height: 32px;\n",
              "        padding: 0 0 0 0;\n",
              "        width: 32px;\n",
              "      }\n",
              "\n",
              "      .colab-df-generate:hover {\n",
              "        background-color: #E2EBFA;\n",
              "        box-shadow: 0px 1px 2px rgba(60, 64, 67, 0.3), 0px 1px 3px 1px rgba(60, 64, 67, 0.15);\n",
              "        fill: #174EA6;\n",
              "      }\n",
              "\n",
              "      [theme=dark] .colab-df-generate {\n",
              "        background-color: #3B4455;\n",
              "        fill: #D2E3FC;\n",
              "      }\n",
              "\n",
              "      [theme=dark] .colab-df-generate:hover {\n",
              "        background-color: #434B5C;\n",
              "        box-shadow: 0px 1px 3px 1px rgba(0, 0, 0, 0.15);\n",
              "        filter: drop-shadow(0px 1px 2px rgba(0, 0, 0, 0.3));\n",
              "        fill: #FFFFFF;\n",
              "      }\n",
              "    </style>\n",
              "    <button class=\"colab-df-generate\" onclick=\"generateWithVariable('selected_rows_df')\"\n",
              "            title=\"Generate code using this dataframe.\"\n",
              "            style=\"display:none;\">\n",
              "\n",
              "  <svg xmlns=\"http://www.w3.org/2000/svg\" height=\"24px\"viewBox=\"0 0 24 24\"\n",
              "       width=\"24px\">\n",
              "    <path d=\"M7,19H8.4L18.45,9,17,7.55,7,17.6ZM5,21V16.75L18.45,3.32a2,2,0,0,1,2.83,0l1.4,1.43a1.91,1.91,0,0,1,.58,1.4,1.91,1.91,0,0,1-.58,1.4L9.25,21ZM18.45,9,17,7.55Zm-12,3A5.31,5.31,0,0,0,4.9,8.1,5.31,5.31,0,0,0,1,6.5,5.31,5.31,0,0,0,4.9,4.9,5.31,5.31,0,0,0,6.5,1,5.31,5.31,0,0,0,8.1,4.9,5.31,5.31,0,0,0,12,6.5,5.46,5.46,0,0,0,6.5,12Z\"/>\n",
              "  </svg>\n",
              "    </button>\n",
              "    <script>\n",
              "      (() => {\n",
              "      const buttonEl =\n",
              "        document.querySelector('#id_c2a41b84-669f-4d33-babd-b4d2d9264d59 button.colab-df-generate');\n",
              "      buttonEl.style.display =\n",
              "        google.colab.kernel.accessAllowed ? 'block' : 'none';\n",
              "\n",
              "      buttonEl.onclick = () => {\n",
              "        google.colab.notebook.generateWithVariable('selected_rows_df');\n",
              "      }\n",
              "      })();\n",
              "    </script>\n",
              "  </div>\n",
              "\n",
              "    </div>\n",
              "  </div>\n"
            ],
            "application/vnd.google.colaboratory.intrinsic+json": {
              "type": "dataframe",
              "variable_name": "selected_rows_df"
            }
          },
          "metadata": {},
          "execution_count": 1291
        }
      ]
    },
    {
      "cell_type": "code",
      "source": [
        "null_index_labels = df.index[df.isnull().any(axis=1)]\n",
        "null_index_labels"
      ],
      "metadata": {
        "colab": {
          "base_uri": "https://localhost:8080/"
        },
        "id": "JJMofL438kQ2",
        "outputId": "33425fd9-10d3-4122-be58-c1df81aae9e4"
      },
      "execution_count": 1292,
      "outputs": [
        {
          "output_type": "execute_result",
          "data": {
            "text/plain": [
              "Index([   0,    1,    2,    3,    4,    5,    6,    7,    8,   10,\n",
              "       ...\n",
              "       6537, 6538, 6539, 6540, 6541, 6542, 6543, 6544, 6546, 6547],\n",
              "      dtype='int64', length=5556)"
            ]
          },
          "metadata": {},
          "execution_count": 1292
        }
      ]
    },
    {
      "cell_type": "code",
      "source": [
        "df.isna().sum()"
      ],
      "metadata": {
        "colab": {
          "base_uri": "https://localhost:8080/"
        },
        "id": "f6Mh2M-UQcL7",
        "outputId": "78e3b4a2-608c-4f69-de9b-dd5e187ff37e"
      },
      "execution_count": 1293,
      "outputs": [
        {
          "output_type": "execute_result",
          "data": {
            "text/plain": [
              "Student ID                           0\n",
              "Age                                  0\n",
              "Gender                               0\n",
              "Home Region                          0\n",
              "Home City                            0\n",
              "Program ID                           0\n",
              "Program Main Category Code           0\n",
              "Program Sub Category Code          935\n",
              "Technology Type                   2982\n",
              "Program Skill Level               1646\n",
              "Program Presentation Method          0\n",
              "Program Start Date                   0\n",
              "Program End Date                     0\n",
              "Program Days                         0\n",
              "Completed Degree                     0\n",
              "Level of Education                  26\n",
              "Education Speaciality              277\n",
              "College                           3890\n",
              "University Degree Score             81\n",
              "University Degree Score System      81\n",
              "Employment Status                  566\n",
              "Job Type                          4567\n",
              "Still Working                     4567\n",
              "Y                                    0\n",
              "dtype: int64"
            ]
          },
          "metadata": {},
          "execution_count": 1293
        }
      ]
    },
    {
      "cell_type": "code",
      "source": [
        "df.dropna(subset=['Program Sub Category Code'],inplace=True)"
      ],
      "metadata": {
        "id": "8--QNxCEQeol"
      },
      "execution_count": 1294,
      "outputs": []
    },
    {
      "cell_type": "code",
      "source": [
        "df.isna().sum()"
      ],
      "metadata": {
        "colab": {
          "base_uri": "https://localhost:8080/"
        },
        "id": "j0_sEuTnQwuI",
        "outputId": "83fdae44-7a35-4d18-d9f9-3ba752f57003"
      },
      "execution_count": 1295,
      "outputs": [
        {
          "output_type": "execute_result",
          "data": {
            "text/plain": [
              "Student ID                           0\n",
              "Age                                  0\n",
              "Gender                               0\n",
              "Home Region                          0\n",
              "Home City                            0\n",
              "Program ID                           0\n",
              "Program Main Category Code           0\n",
              "Program Sub Category Code            0\n",
              "Technology Type                   2315\n",
              "Program Skill Level               1631\n",
              "Program Presentation Method          0\n",
              "Program Start Date                   0\n",
              "Program End Date                     0\n",
              "Program Days                         0\n",
              "Completed Degree                     0\n",
              "Level of Education                  26\n",
              "Education Speaciality              234\n",
              "College                           3351\n",
              "University Degree Score             66\n",
              "University Degree Score System      66\n",
              "Employment Status                  466\n",
              "Job Type                          3918\n",
              "Still Working                     3918\n",
              "Y                                    0\n",
              "dtype: int64"
            ]
          },
          "metadata": {},
          "execution_count": 1295
        }
      ]
    },
    {
      "cell_type": "code",
      "execution_count": 1296,
      "metadata": {
        "id": "Lz9J2y-NNbaq"
      },
      "outputs": [],
      "source": [
        "df['Technology Type'].fillna('غير معرف',inplace=True)"
      ]
    },
    {
      "cell_type": "code",
      "source": [
        "df.isna().sum()"
      ],
      "metadata": {
        "colab": {
          "base_uri": "https://localhost:8080/"
        },
        "id": "GPfTiaRJRmck",
        "outputId": "fa345ec1-b940-44d3-d5ac-63cc2d5b542b"
      },
      "execution_count": 1297,
      "outputs": [
        {
          "output_type": "execute_result",
          "data": {
            "text/plain": [
              "Student ID                           0\n",
              "Age                                  0\n",
              "Gender                               0\n",
              "Home Region                          0\n",
              "Home City                            0\n",
              "Program ID                           0\n",
              "Program Main Category Code           0\n",
              "Program Sub Category Code            0\n",
              "Technology Type                      0\n",
              "Program Skill Level               1631\n",
              "Program Presentation Method          0\n",
              "Program Start Date                   0\n",
              "Program End Date                     0\n",
              "Program Days                         0\n",
              "Completed Degree                     0\n",
              "Level of Education                  26\n",
              "Education Speaciality              234\n",
              "College                           3351\n",
              "University Degree Score             66\n",
              "University Degree Score System      66\n",
              "Employment Status                  466\n",
              "Job Type                          3918\n",
              "Still Working                     3918\n",
              "Y                                    0\n",
              "dtype: int64"
            ]
          },
          "metadata": {},
          "execution_count": 1297
        }
      ]
    },
    {
      "cell_type": "code",
      "source": [
        "df['Program Skill Level'].fillna(method='ffill', inplace=True)#forward\n",
        "df['Program Skill Level'].fillna(method='bfill', inplace=True)# i backward becase i have nan in 0 index"
      ],
      "metadata": {
        "id": "IIfoVU6dRqN3"
      },
      "execution_count": 1298,
      "outputs": []
    },
    {
      "cell_type": "code",
      "source": [
        "df.isna().sum()"
      ],
      "metadata": {
        "colab": {
          "base_uri": "https://localhost:8080/"
        },
        "id": "6B7iBRGuSCpM",
        "outputId": "d25c35d6-23e2-4637-b569-aac3e5f89820"
      },
      "execution_count": 1299,
      "outputs": [
        {
          "output_type": "execute_result",
          "data": {
            "text/plain": [
              "Student ID                           0\n",
              "Age                                  0\n",
              "Gender                               0\n",
              "Home Region                          0\n",
              "Home City                            0\n",
              "Program ID                           0\n",
              "Program Main Category Code           0\n",
              "Program Sub Category Code            0\n",
              "Technology Type                      0\n",
              "Program Skill Level                  0\n",
              "Program Presentation Method          0\n",
              "Program Start Date                   0\n",
              "Program End Date                     0\n",
              "Program Days                         0\n",
              "Completed Degree                     0\n",
              "Level of Education                  26\n",
              "Education Speaciality              234\n",
              "College                           3351\n",
              "University Degree Score             66\n",
              "University Degree Score System      66\n",
              "Employment Status                  466\n",
              "Job Type                          3918\n",
              "Still Working                     3918\n",
              "Y                                    0\n",
              "dtype: int64"
            ]
          },
          "metadata": {},
          "execution_count": 1299
        }
      ]
    },
    {
      "cell_type": "code",
      "source": [
        "df.describe(include='object').T"
      ],
      "metadata": {
        "colab": {
          "base_uri": "https://localhost:8080/",
          "height": 582
        },
        "id": "p6nxn8D3S0aA",
        "outputId": "8f5290e7-f0f8-4f71-dea3-4b4c37ea9541"
      },
      "execution_count": 1300,
      "outputs": [
        {
          "output_type": "execute_result",
          "data": {
            "text/plain": [
              "                            count unique  \\\n",
              "Student ID                   5613   4549   \n",
              "Gender                       5613      2   \n",
              "Home Region                  5613     13   \n",
              "Home City                    5613     85   \n",
              "Program ID                   5613    192   \n",
              "Program Main Category Code   5613      8   \n",
              "Program Sub Category Code    5613     11   \n",
              "Technology Type              5613      4   \n",
              "Program Skill Level          5613      3   \n",
              "Program Presentation Method  5613      2   \n",
              "Completed Degree             5613      2   \n",
              "Level of Education           5587      5   \n",
              "Education Speaciality        5379    800   \n",
              "College                      2262      9   \n",
              "Employment Status            5147      6   \n",
              "Job Type                     1695      4   \n",
              "Still Working                1695      2   \n",
              "\n",
              "                                                              top  freq  \n",
              "Student ID                   415cfcb1-8dfa-459d-b719-d942cc5e19e1     7  \n",
              "Gender                                                       أنثى  3127  \n",
              "Home Region                                          منطقة الرياض  4098  \n",
              "Home City                                                  الرياض  4048  \n",
              "Program ID                   ab263106-20a8-42aa-9626-278e62ae3a49   134  \n",
              "Program Main Category Code                                   CAUF  2073  \n",
              "Program Sub Category Code                                    SWPS  1788  \n",
              "Technology Type                                           تقليدية  2582  \n",
              "Program Skill Level                                         متوسط  2454  \n",
              "Program Presentation Method                                 حضوري  4291  \n",
              "Completed Degree                                              نعم  4480  \n",
              "Level of Education                                    البكالوريوس  4649  \n",
              "Education Speaciality                               علوم الحاسبات   896  \n",
              "College                            تكنولوجيا الاتصالات والمعلومات  1956  \n",
              "Employment Status                                            موظف  2453  \n",
              "Job Type                                                دوام كامل  1214  \n",
              "Still Working                                                 Yes  1079  "
            ],
            "text/html": [
              "\n",
              "  <div id=\"df-fdefb5c8-2ec9-4165-a46e-8f9e65df1f1c\" class=\"colab-df-container\">\n",
              "    <div>\n",
              "<style scoped>\n",
              "    .dataframe tbody tr th:only-of-type {\n",
              "        vertical-align: middle;\n",
              "    }\n",
              "\n",
              "    .dataframe tbody tr th {\n",
              "        vertical-align: top;\n",
              "    }\n",
              "\n",
              "    .dataframe thead th {\n",
              "        text-align: right;\n",
              "    }\n",
              "</style>\n",
              "<table border=\"1\" class=\"dataframe\">\n",
              "  <thead>\n",
              "    <tr style=\"text-align: right;\">\n",
              "      <th></th>\n",
              "      <th>count</th>\n",
              "      <th>unique</th>\n",
              "      <th>top</th>\n",
              "      <th>freq</th>\n",
              "    </tr>\n",
              "  </thead>\n",
              "  <tbody>\n",
              "    <tr>\n",
              "      <th>Student ID</th>\n",
              "      <td>5613</td>\n",
              "      <td>4549</td>\n",
              "      <td>415cfcb1-8dfa-459d-b719-d942cc5e19e1</td>\n",
              "      <td>7</td>\n",
              "    </tr>\n",
              "    <tr>\n",
              "      <th>Gender</th>\n",
              "      <td>5613</td>\n",
              "      <td>2</td>\n",
              "      <td>أنثى</td>\n",
              "      <td>3127</td>\n",
              "    </tr>\n",
              "    <tr>\n",
              "      <th>Home Region</th>\n",
              "      <td>5613</td>\n",
              "      <td>13</td>\n",
              "      <td>منطقة الرياض</td>\n",
              "      <td>4098</td>\n",
              "    </tr>\n",
              "    <tr>\n",
              "      <th>Home City</th>\n",
              "      <td>5613</td>\n",
              "      <td>85</td>\n",
              "      <td>الرياض</td>\n",
              "      <td>4048</td>\n",
              "    </tr>\n",
              "    <tr>\n",
              "      <th>Program ID</th>\n",
              "      <td>5613</td>\n",
              "      <td>192</td>\n",
              "      <td>ab263106-20a8-42aa-9626-278e62ae3a49</td>\n",
              "      <td>134</td>\n",
              "    </tr>\n",
              "    <tr>\n",
              "      <th>Program Main Category Code</th>\n",
              "      <td>5613</td>\n",
              "      <td>8</td>\n",
              "      <td>CAUF</td>\n",
              "      <td>2073</td>\n",
              "    </tr>\n",
              "    <tr>\n",
              "      <th>Program Sub Category Code</th>\n",
              "      <td>5613</td>\n",
              "      <td>11</td>\n",
              "      <td>SWPS</td>\n",
              "      <td>1788</td>\n",
              "    </tr>\n",
              "    <tr>\n",
              "      <th>Technology Type</th>\n",
              "      <td>5613</td>\n",
              "      <td>4</td>\n",
              "      <td>تقليدية</td>\n",
              "      <td>2582</td>\n",
              "    </tr>\n",
              "    <tr>\n",
              "      <th>Program Skill Level</th>\n",
              "      <td>5613</td>\n",
              "      <td>3</td>\n",
              "      <td>متوسط</td>\n",
              "      <td>2454</td>\n",
              "    </tr>\n",
              "    <tr>\n",
              "      <th>Program Presentation Method</th>\n",
              "      <td>5613</td>\n",
              "      <td>2</td>\n",
              "      <td>حضوري</td>\n",
              "      <td>4291</td>\n",
              "    </tr>\n",
              "    <tr>\n",
              "      <th>Completed Degree</th>\n",
              "      <td>5613</td>\n",
              "      <td>2</td>\n",
              "      <td>نعم</td>\n",
              "      <td>4480</td>\n",
              "    </tr>\n",
              "    <tr>\n",
              "      <th>Level of Education</th>\n",
              "      <td>5587</td>\n",
              "      <td>5</td>\n",
              "      <td>البكالوريوس</td>\n",
              "      <td>4649</td>\n",
              "    </tr>\n",
              "    <tr>\n",
              "      <th>Education Speaciality</th>\n",
              "      <td>5379</td>\n",
              "      <td>800</td>\n",
              "      <td>علوم الحاسبات</td>\n",
              "      <td>896</td>\n",
              "    </tr>\n",
              "    <tr>\n",
              "      <th>College</th>\n",
              "      <td>2262</td>\n",
              "      <td>9</td>\n",
              "      <td>تكنولوجيا الاتصالات والمعلومات</td>\n",
              "      <td>1956</td>\n",
              "    </tr>\n",
              "    <tr>\n",
              "      <th>Employment Status</th>\n",
              "      <td>5147</td>\n",
              "      <td>6</td>\n",
              "      <td>موظف</td>\n",
              "      <td>2453</td>\n",
              "    </tr>\n",
              "    <tr>\n",
              "      <th>Job Type</th>\n",
              "      <td>1695</td>\n",
              "      <td>4</td>\n",
              "      <td>دوام كامل</td>\n",
              "      <td>1214</td>\n",
              "    </tr>\n",
              "    <tr>\n",
              "      <th>Still Working</th>\n",
              "      <td>1695</td>\n",
              "      <td>2</td>\n",
              "      <td>Yes</td>\n",
              "      <td>1079</td>\n",
              "    </tr>\n",
              "  </tbody>\n",
              "</table>\n",
              "</div>\n",
              "    <div class=\"colab-df-buttons\">\n",
              "\n",
              "  <div class=\"colab-df-container\">\n",
              "    <button class=\"colab-df-convert\" onclick=\"convertToInteractive('df-fdefb5c8-2ec9-4165-a46e-8f9e65df1f1c')\"\n",
              "            title=\"Convert this dataframe to an interactive table.\"\n",
              "            style=\"display:none;\">\n",
              "\n",
              "  <svg xmlns=\"http://www.w3.org/2000/svg\" height=\"24px\" viewBox=\"0 -960 960 960\">\n",
              "    <path d=\"M120-120v-720h720v720H120Zm60-500h600v-160H180v160Zm220 220h160v-160H400v160Zm0 220h160v-160H400v160ZM180-400h160v-160H180v160Zm440 0h160v-160H620v160ZM180-180h160v-160H180v160Zm440 0h160v-160H620v160Z\"/>\n",
              "  </svg>\n",
              "    </button>\n",
              "\n",
              "  <style>\n",
              "    .colab-df-container {\n",
              "      display:flex;\n",
              "      gap: 12px;\n",
              "    }\n",
              "\n",
              "    .colab-df-convert {\n",
              "      background-color: #E8F0FE;\n",
              "      border: none;\n",
              "      border-radius: 50%;\n",
              "      cursor: pointer;\n",
              "      display: none;\n",
              "      fill: #1967D2;\n",
              "      height: 32px;\n",
              "      padding: 0 0 0 0;\n",
              "      width: 32px;\n",
              "    }\n",
              "\n",
              "    .colab-df-convert:hover {\n",
              "      background-color: #E2EBFA;\n",
              "      box-shadow: 0px 1px 2px rgba(60, 64, 67, 0.3), 0px 1px 3px 1px rgba(60, 64, 67, 0.15);\n",
              "      fill: #174EA6;\n",
              "    }\n",
              "\n",
              "    .colab-df-buttons div {\n",
              "      margin-bottom: 4px;\n",
              "    }\n",
              "\n",
              "    [theme=dark] .colab-df-convert {\n",
              "      background-color: #3B4455;\n",
              "      fill: #D2E3FC;\n",
              "    }\n",
              "\n",
              "    [theme=dark] .colab-df-convert:hover {\n",
              "      background-color: #434B5C;\n",
              "      box-shadow: 0px 1px 3px 1px rgba(0, 0, 0, 0.15);\n",
              "      filter: drop-shadow(0px 1px 2px rgba(0, 0, 0, 0.3));\n",
              "      fill: #FFFFFF;\n",
              "    }\n",
              "  </style>\n",
              "\n",
              "    <script>\n",
              "      const buttonEl =\n",
              "        document.querySelector('#df-fdefb5c8-2ec9-4165-a46e-8f9e65df1f1c button.colab-df-convert');\n",
              "      buttonEl.style.display =\n",
              "        google.colab.kernel.accessAllowed ? 'block' : 'none';\n",
              "\n",
              "      async function convertToInteractive(key) {\n",
              "        const element = document.querySelector('#df-fdefb5c8-2ec9-4165-a46e-8f9e65df1f1c');\n",
              "        const dataTable =\n",
              "          await google.colab.kernel.invokeFunction('convertToInteractive',\n",
              "                                                    [key], {});\n",
              "        if (!dataTable) return;\n",
              "\n",
              "        const docLinkHtml = 'Like what you see? Visit the ' +\n",
              "          '<a target=\"_blank\" href=https://colab.research.google.com/notebooks/data_table.ipynb>data table notebook</a>'\n",
              "          + ' to learn more about interactive tables.';\n",
              "        element.innerHTML = '';\n",
              "        dataTable['output_type'] = 'display_data';\n",
              "        await google.colab.output.renderOutput(dataTable, element);\n",
              "        const docLink = document.createElement('div');\n",
              "        docLink.innerHTML = docLinkHtml;\n",
              "        element.appendChild(docLink);\n",
              "      }\n",
              "    </script>\n",
              "  </div>\n",
              "\n",
              "\n",
              "<div id=\"df-f219d550-5e22-48e1-be7c-fc0b60210ead\">\n",
              "  <button class=\"colab-df-quickchart\" onclick=\"quickchart('df-f219d550-5e22-48e1-be7c-fc0b60210ead')\"\n",
              "            title=\"Suggest charts\"\n",
              "            style=\"display:none;\">\n",
              "\n",
              "<svg xmlns=\"http://www.w3.org/2000/svg\" height=\"24px\"viewBox=\"0 0 24 24\"\n",
              "     width=\"24px\">\n",
              "    <g>\n",
              "        <path d=\"M19 3H5c-1.1 0-2 .9-2 2v14c0 1.1.9 2 2 2h14c1.1 0 2-.9 2-2V5c0-1.1-.9-2-2-2zM9 17H7v-7h2v7zm4 0h-2V7h2v10zm4 0h-2v-4h2v4z\"/>\n",
              "    </g>\n",
              "</svg>\n",
              "  </button>\n",
              "\n",
              "<style>\n",
              "  .colab-df-quickchart {\n",
              "      --bg-color: #E8F0FE;\n",
              "      --fill-color: #1967D2;\n",
              "      --hover-bg-color: #E2EBFA;\n",
              "      --hover-fill-color: #174EA6;\n",
              "      --disabled-fill-color: #AAA;\n",
              "      --disabled-bg-color: #DDD;\n",
              "  }\n",
              "\n",
              "  [theme=dark] .colab-df-quickchart {\n",
              "      --bg-color: #3B4455;\n",
              "      --fill-color: #D2E3FC;\n",
              "      --hover-bg-color: #434B5C;\n",
              "      --hover-fill-color: #FFFFFF;\n",
              "      --disabled-bg-color: #3B4455;\n",
              "      --disabled-fill-color: #666;\n",
              "  }\n",
              "\n",
              "  .colab-df-quickchart {\n",
              "    background-color: var(--bg-color);\n",
              "    border: none;\n",
              "    border-radius: 50%;\n",
              "    cursor: pointer;\n",
              "    display: none;\n",
              "    fill: var(--fill-color);\n",
              "    height: 32px;\n",
              "    padding: 0;\n",
              "    width: 32px;\n",
              "  }\n",
              "\n",
              "  .colab-df-quickchart:hover {\n",
              "    background-color: var(--hover-bg-color);\n",
              "    box-shadow: 0 1px 2px rgba(60, 64, 67, 0.3), 0 1px 3px 1px rgba(60, 64, 67, 0.15);\n",
              "    fill: var(--button-hover-fill-color);\n",
              "  }\n",
              "\n",
              "  .colab-df-quickchart-complete:disabled,\n",
              "  .colab-df-quickchart-complete:disabled:hover {\n",
              "    background-color: var(--disabled-bg-color);\n",
              "    fill: var(--disabled-fill-color);\n",
              "    box-shadow: none;\n",
              "  }\n",
              "\n",
              "  .colab-df-spinner {\n",
              "    border: 2px solid var(--fill-color);\n",
              "    border-color: transparent;\n",
              "    border-bottom-color: var(--fill-color);\n",
              "    animation:\n",
              "      spin 1s steps(1) infinite;\n",
              "  }\n",
              "\n",
              "  @keyframes spin {\n",
              "    0% {\n",
              "      border-color: transparent;\n",
              "      border-bottom-color: var(--fill-color);\n",
              "      border-left-color: var(--fill-color);\n",
              "    }\n",
              "    20% {\n",
              "      border-color: transparent;\n",
              "      border-left-color: var(--fill-color);\n",
              "      border-top-color: var(--fill-color);\n",
              "    }\n",
              "    30% {\n",
              "      border-color: transparent;\n",
              "      border-left-color: var(--fill-color);\n",
              "      border-top-color: var(--fill-color);\n",
              "      border-right-color: var(--fill-color);\n",
              "    }\n",
              "    40% {\n",
              "      border-color: transparent;\n",
              "      border-right-color: var(--fill-color);\n",
              "      border-top-color: var(--fill-color);\n",
              "    }\n",
              "    60% {\n",
              "      border-color: transparent;\n",
              "      border-right-color: var(--fill-color);\n",
              "    }\n",
              "    80% {\n",
              "      border-color: transparent;\n",
              "      border-right-color: var(--fill-color);\n",
              "      border-bottom-color: var(--fill-color);\n",
              "    }\n",
              "    90% {\n",
              "      border-color: transparent;\n",
              "      border-bottom-color: var(--fill-color);\n",
              "    }\n",
              "  }\n",
              "</style>\n",
              "\n",
              "  <script>\n",
              "    async function quickchart(key) {\n",
              "      const quickchartButtonEl =\n",
              "        document.querySelector('#' + key + ' button');\n",
              "      quickchartButtonEl.disabled = true;  // To prevent multiple clicks.\n",
              "      quickchartButtonEl.classList.add('colab-df-spinner');\n",
              "      try {\n",
              "        const charts = await google.colab.kernel.invokeFunction(\n",
              "            'suggestCharts', [key], {});\n",
              "      } catch (error) {\n",
              "        console.error('Error during call to suggestCharts:', error);\n",
              "      }\n",
              "      quickchartButtonEl.classList.remove('colab-df-spinner');\n",
              "      quickchartButtonEl.classList.add('colab-df-quickchart-complete');\n",
              "    }\n",
              "    (() => {\n",
              "      let quickchartButtonEl =\n",
              "        document.querySelector('#df-f219d550-5e22-48e1-be7c-fc0b60210ead button');\n",
              "      quickchartButtonEl.style.display =\n",
              "        google.colab.kernel.accessAllowed ? 'block' : 'none';\n",
              "    })();\n",
              "  </script>\n",
              "</div>\n",
              "\n",
              "    </div>\n",
              "  </div>\n"
            ],
            "application/vnd.google.colaboratory.intrinsic+json": {
              "type": "dataframe",
              "summary": "{\n  \"name\": \"df\",\n  \"rows\": 17,\n  \"fields\": [\n    {\n      \"column\": \"count\",\n      \"properties\": {\n        \"dtype\": \"date\",\n        \"min\": \"1695\",\n        \"max\": \"5613\",\n        \"num_unique_values\": 6,\n        \"samples\": [\n          \"5613\",\n          \"5587\",\n          \"1695\"\n        ],\n        \"semantic_type\": \"\",\n        \"description\": \"\"\n      }\n    },\n    {\n      \"column\": \"unique\",\n      \"properties\": {\n        \"dtype\": \"date\",\n        \"min\": 2,\n        \"max\": 4549,\n        \"num_unique_values\": 13,\n        \"samples\": [\n          9,\n          5,\n          4549\n        ],\n        \"semantic_type\": \"\",\n        \"description\": \"\"\n      }\n    },\n    {\n      \"column\": \"top\",\n      \"properties\": {\n        \"dtype\": \"string\",\n        \"num_unique_values\": 17,\n        \"samples\": [\n          \"415cfcb1-8dfa-459d-b719-d942cc5e19e1\",\n          \"\\u0623\\u0646\\u062b\\u0649\",\n          \"CAUF\"\n        ],\n        \"semantic_type\": \"\",\n        \"description\": \"\"\n      }\n    },\n    {\n      \"column\": \"freq\",\n      \"properties\": {\n        \"dtype\": \"date\",\n        \"min\": \"7\",\n        \"max\": \"4649\",\n        \"num_unique_values\": 17,\n        \"samples\": [\n          \"7\",\n          \"3127\",\n          \"2073\"\n        ],\n        \"semantic_type\": \"\",\n        \"description\": \"\"\n      }\n    }\n  ]\n}"
            }
          },
          "metadata": {},
          "execution_count": 1300
        }
      ]
    },
    {
      "cell_type": "markdown",
      "source": [
        "In features Level of Education and Education Speaciality, will fill null values with the top value"
      ],
      "metadata": {
        "id": "mRdryi9lTzeh"
      }
    },
    {
      "cell_type": "code",
      "source": [
        "df['Level of Education']= df['Level of Education'].fillna('البكالوريوس')"
      ],
      "metadata": {
        "id": "6cWyEctUSE-O"
      },
      "execution_count": 1301,
      "outputs": []
    },
    {
      "cell_type": "code",
      "source": [
        "df.isna().sum()"
      ],
      "metadata": {
        "colab": {
          "base_uri": "https://localhost:8080/"
        },
        "id": "oiA_htKxSVOO",
        "outputId": "3b5fbef0-c17a-47d4-cc70-2236a751eea3"
      },
      "execution_count": 1302,
      "outputs": [
        {
          "output_type": "execute_result",
          "data": {
            "text/plain": [
              "Student ID                           0\n",
              "Age                                  0\n",
              "Gender                               0\n",
              "Home Region                          0\n",
              "Home City                            0\n",
              "Program ID                           0\n",
              "Program Main Category Code           0\n",
              "Program Sub Category Code            0\n",
              "Technology Type                      0\n",
              "Program Skill Level                  0\n",
              "Program Presentation Method          0\n",
              "Program Start Date                   0\n",
              "Program End Date                     0\n",
              "Program Days                         0\n",
              "Completed Degree                     0\n",
              "Level of Education                   0\n",
              "Education Speaciality              234\n",
              "College                           3351\n",
              "University Degree Score             66\n",
              "University Degree Score System      66\n",
              "Employment Status                  466\n",
              "Job Type                          3918\n",
              "Still Working                     3918\n",
              "Y                                    0\n",
              "dtype: int64"
            ]
          },
          "metadata": {},
          "execution_count": 1302
        }
      ]
    },
    {
      "cell_type": "code",
      "execution_count": 1303,
      "metadata": {
        "id": "wQpT_OZ-FUEt"
      },
      "outputs": [],
      "source": [
        "df['Education Speaciality']= df['Education Speaciality'].fillna('علوم الحاسبات')"
      ]
    },
    {
      "cell_type": "code",
      "source": [
        "df.isna().sum()"
      ],
      "metadata": {
        "colab": {
          "base_uri": "https://localhost:8080/"
        },
        "id": "D9oiRq6BStas",
        "outputId": "c7add095-b523-498f-f5ac-6dca3bb7c83f"
      },
      "execution_count": 1304,
      "outputs": [
        {
          "output_type": "execute_result",
          "data": {
            "text/plain": [
              "Student ID                           0\n",
              "Age                                  0\n",
              "Gender                               0\n",
              "Home Region                          0\n",
              "Home City                            0\n",
              "Program ID                           0\n",
              "Program Main Category Code           0\n",
              "Program Sub Category Code            0\n",
              "Technology Type                      0\n",
              "Program Skill Level                  0\n",
              "Program Presentation Method          0\n",
              "Program Start Date                   0\n",
              "Program End Date                     0\n",
              "Program Days                         0\n",
              "Completed Degree                     0\n",
              "Level of Education                   0\n",
              "Education Speaciality                0\n",
              "College                           3351\n",
              "University Degree Score             66\n",
              "University Degree Score System      66\n",
              "Employment Status                  466\n",
              "Job Type                          3918\n",
              "Still Working                     3918\n",
              "Y                                    0\n",
              "dtype: int64"
            ]
          },
          "metadata": {},
          "execution_count": 1304
        }
      ]
    },
    {
      "cell_type": "code",
      "source": [
        "\n",
        "df['College']= df['College'].fillna('تكنولوجيا الاتصالات و المعلومات ')"
      ],
      "metadata": {
        "id": "1rgnx_oIS3Jw"
      },
      "execution_count": 1305,
      "outputs": []
    },
    {
      "cell_type": "code",
      "source": [
        "df.isna().sum()"
      ],
      "metadata": {
        "colab": {
          "base_uri": "https://localhost:8080/"
        },
        "id": "nEnT8FLHXVsx",
        "outputId": "0d8aa212-0aaf-4a76-c842-f2b3ae0a6d02"
      },
      "execution_count": 1306,
      "outputs": [
        {
          "output_type": "execute_result",
          "data": {
            "text/plain": [
              "Student ID                           0\n",
              "Age                                  0\n",
              "Gender                               0\n",
              "Home Region                          0\n",
              "Home City                            0\n",
              "Program ID                           0\n",
              "Program Main Category Code           0\n",
              "Program Sub Category Code            0\n",
              "Technology Type                      0\n",
              "Program Skill Level                  0\n",
              "Program Presentation Method          0\n",
              "Program Start Date                   0\n",
              "Program End Date                     0\n",
              "Program Days                         0\n",
              "Completed Degree                     0\n",
              "Level of Education                   0\n",
              "Education Speaciality                0\n",
              "College                              0\n",
              "University Degree Score             66\n",
              "University Degree Score System      66\n",
              "Employment Status                  466\n",
              "Job Type                          3918\n",
              "Still Working                     3918\n",
              "Y                                    0\n",
              "dtype: int64"
            ]
          },
          "metadata": {},
          "execution_count": 1306
        }
      ]
    },
    {
      "cell_type": "markdown",
      "source": [
        "We'll use the common University Degree Score System of 5 and give students their average score."
      ],
      "metadata": {
        "id": "yJVCgM2PVUyu"
      }
    },
    {
      "cell_type": "code",
      "source": [
        "\n",
        "avg_score = df['University Degree Score'].mean()\n",
        "\n",
        "df['University Degree Score System'].fillna(5, inplace=True) #fill with 5 in null value\n",
        "\n",
        "\n",
        "df['University Degree Score'].fillna(avg_score, inplace=True) #fill the nall with avg_score"
      ],
      "metadata": {
        "id": "iqMJxqcmUhkl"
      },
      "execution_count": 1307,
      "outputs": []
    },
    {
      "cell_type": "code",
      "source": [
        "df.isna().sum()"
      ],
      "metadata": {
        "colab": {
          "base_uri": "https://localhost:8080/"
        },
        "id": "XfoiNqmpUp4k",
        "outputId": "53f60afb-56ec-4720-eea8-51ebba301418"
      },
      "execution_count": 1308,
      "outputs": [
        {
          "output_type": "execute_result",
          "data": {
            "text/plain": [
              "Student ID                           0\n",
              "Age                                  0\n",
              "Gender                               0\n",
              "Home Region                          0\n",
              "Home City                            0\n",
              "Program ID                           0\n",
              "Program Main Category Code           0\n",
              "Program Sub Category Code            0\n",
              "Technology Type                      0\n",
              "Program Skill Level                  0\n",
              "Program Presentation Method          0\n",
              "Program Start Date                   0\n",
              "Program End Date                     0\n",
              "Program Days                         0\n",
              "Completed Degree                     0\n",
              "Level of Education                   0\n",
              "Education Speaciality                0\n",
              "College                              0\n",
              "University Degree Score              0\n",
              "University Degree Score System       0\n",
              "Employment Status                  466\n",
              "Job Type                          3918\n",
              "Still Working                     3918\n",
              "Y                                    0\n",
              "dtype: int64"
            ]
          },
          "metadata": {},
          "execution_count": 1308
        }
      ]
    },
    {
      "cell_type": "code",
      "execution_count": 1309,
      "metadata": {
        "id": "gzokanYgmuOn"
      },
      "outputs": [],
      "source": [
        "df['Employment Status'] = df['Employment Status'].fillna('غير معرف')"
      ]
    },
    {
      "cell_type": "code",
      "source": [
        "df.isna().sum()"
      ],
      "metadata": {
        "colab": {
          "base_uri": "https://localhost:8080/"
        },
        "id": "qt0AAkkwUvPZ",
        "outputId": "13d6681c-e95b-43d1-f90d-8b851ae0451a"
      },
      "execution_count": 1310,
      "outputs": [
        {
          "output_type": "execute_result",
          "data": {
            "text/plain": [
              "Student ID                           0\n",
              "Age                                  0\n",
              "Gender                               0\n",
              "Home Region                          0\n",
              "Home City                            0\n",
              "Program ID                           0\n",
              "Program Main Category Code           0\n",
              "Program Sub Category Code            0\n",
              "Technology Type                      0\n",
              "Program Skill Level                  0\n",
              "Program Presentation Method          0\n",
              "Program Start Date                   0\n",
              "Program End Date                     0\n",
              "Program Days                         0\n",
              "Completed Degree                     0\n",
              "Level of Education                   0\n",
              "Education Speaciality                0\n",
              "College                              0\n",
              "University Degree Score              0\n",
              "University Degree Score System       0\n",
              "Employment Status                    0\n",
              "Job Type                          3918\n",
              "Still Working                     3918\n",
              "Y                                    0\n",
              "dtype: int64"
            ]
          },
          "metadata": {},
          "execution_count": 1310
        }
      ]
    },
    {
      "cell_type": "code",
      "source": [
        "df['Job Type'] = df['Job Type'].fillna('غير موظف')"
      ],
      "metadata": {
        "id": "z-r7pPFgUIX7"
      },
      "execution_count": 1311,
      "outputs": []
    },
    {
      "cell_type": "code",
      "source": [
        "df.isna().sum()"
      ],
      "metadata": {
        "colab": {
          "base_uri": "https://localhost:8080/"
        },
        "id": "XXRcjTA_U3q9",
        "outputId": "5143484f-5e21-4ce2-855c-1fb740f75ce9"
      },
      "execution_count": 1312,
      "outputs": [
        {
          "output_type": "execute_result",
          "data": {
            "text/plain": [
              "Student ID                           0\n",
              "Age                                  0\n",
              "Gender                               0\n",
              "Home Region                          0\n",
              "Home City                            0\n",
              "Program ID                           0\n",
              "Program Main Category Code           0\n",
              "Program Sub Category Code            0\n",
              "Technology Type                      0\n",
              "Program Skill Level                  0\n",
              "Program Presentation Method          0\n",
              "Program Start Date                   0\n",
              "Program End Date                     0\n",
              "Program Days                         0\n",
              "Completed Degree                     0\n",
              "Level of Education                   0\n",
              "Education Speaciality                0\n",
              "College                              0\n",
              "University Degree Score              0\n",
              "University Degree Score System       0\n",
              "Employment Status                    0\n",
              "Job Type                             0\n",
              "Still Working                     3918\n",
              "Y                                    0\n",
              "dtype: int64"
            ]
          },
          "metadata": {},
          "execution_count": 1312
        }
      ]
    },
    {
      "cell_type": "code",
      "source": [
        "df['Still Working'] = df['Still Working'].fillna('غير موظف')"
      ],
      "metadata": {
        "id": "CNyyaFbFU96G"
      },
      "execution_count": 1313,
      "outputs": []
    },
    {
      "cell_type": "code",
      "source": [
        "df.isna().sum()"
      ],
      "metadata": {
        "colab": {
          "base_uri": "https://localhost:8080/"
        },
        "id": "LgRvZ0EQVAMR",
        "outputId": "8ad0e5dc-a20a-4ef2-b799-73d6caf623e8"
      },
      "execution_count": 1314,
      "outputs": [
        {
          "output_type": "execute_result",
          "data": {
            "text/plain": [
              "Student ID                        0\n",
              "Age                               0\n",
              "Gender                            0\n",
              "Home Region                       0\n",
              "Home City                         0\n",
              "Program ID                        0\n",
              "Program Main Category Code        0\n",
              "Program Sub Category Code         0\n",
              "Technology Type                   0\n",
              "Program Skill Level               0\n",
              "Program Presentation Method       0\n",
              "Program Start Date                0\n",
              "Program End Date                  0\n",
              "Program Days                      0\n",
              "Completed Degree                  0\n",
              "Level of Education                0\n",
              "Education Speaciality             0\n",
              "College                           0\n",
              "University Degree Score           0\n",
              "University Degree Score System    0\n",
              "Employment Status                 0\n",
              "Job Type                          0\n",
              "Still Working                     0\n",
              "Y                                 0\n",
              "dtype: int64"
            ]
          },
          "metadata": {},
          "execution_count": 1314
        }
      ]
    },
    {
      "cell_type": "markdown",
      "source": [
        "Drop Dublications"
      ],
      "metadata": {
        "id": "7y3Gw_A7XkfY"
      }
    },
    {
      "cell_type": "code",
      "source": [
        "df.drop_duplicates(inplace=True)"
      ],
      "metadata": {
        "id": "25goW83VMOoP"
      },
      "execution_count": 1315,
      "outputs": []
    },
    {
      "cell_type": "markdown",
      "metadata": {
        "id": "B86suiyIkaR4"
      },
      "source": [
        "#Feature Engneering\n"
      ]
    },
    {
      "cell_type": "markdown",
      "source": [
        "Create duration column to indecate the number of days each program take"
      ],
      "metadata": {
        "id": "N6RSDVjFZDHA"
      }
    },
    {
      "cell_type": "code",
      "execution_count": 1316,
      "metadata": {
        "id": "kCtHkZpZkeJE"
      },
      "outputs": [],
      "source": [
        "duration=df['Program End Date']-df['Program Start Date']\n",
        "df['Duration']=duration.dt.days\n"
      ]
    },
    {
      "cell_type": "code",
      "execution_count": 1317,
      "metadata": {
        "id": "tTNA2hTelKrG",
        "colab": {
          "base_uri": "https://localhost:8080/"
        },
        "outputId": "49953a0f-fb2a-4350-81d7-126b947d1d35"
      },
      "outputs": [
        {
          "output_type": "execute_result",
          "data": {
            "text/plain": [
              "0       11\n",
              "1        4\n",
              "3       32\n",
              "4       53\n",
              "5       11\n",
              "        ..\n",
              "6542    20\n",
              "6543    65\n",
              "6544    11\n",
              "6545     4\n",
              "6546    11\n",
              "Name: Duration, Length: 5580, dtype: int64"
            ]
          },
          "metadata": {},
          "execution_count": 1317
        }
      ],
      "source": [
        "df['Duration']"
      ]
    },
    {
      "cell_type": "markdown",
      "source": [
        "Extract year, month, and day for Program Start and End Date"
      ],
      "metadata": {
        "id": "9H3h-SG3ZTAi"
      }
    },
    {
      "cell_type": "code",
      "source": [
        "# Extract year, month, and day for 'Program Start Date'\n",
        "df['Start Year'] = df['Program Start Date'].dt.year\n",
        "df['Start Month'] = df['Program Start Date'].dt.month\n",
        "df['Start Day'] = df['Program Start Date'].dt.day\n",
        "\n",
        "# Extract year, month, and day for 'Program End Date'\n",
        "df['End Year'] = df['Program End Date'].dt.year\n",
        "df['End Month'] = df['Program End Date'].dt.month\n",
        "df['End Day'] = df['Program End Date'].dt.day\n",
        "\n"
      ],
      "metadata": {
        "id": "eSVibjXBxGgH"
      },
      "execution_count": 1318,
      "outputs": []
    },
    {
      "cell_type": "code",
      "execution_count": 1319,
      "metadata": {
        "id": "-BlGCcC0jux0"
      },
      "outputs": [],
      "source": [
        "import re\n",
        "#format\n",
        "def format_education_speciality(text):\n",
        "    text_without_pattern = re.sub(r'\\(.*\\)', '', text)\n",
        "    cleaned_text = text_without_pattern.strip().title().replace(' ', '_').replace('/', '_').replace('-', '_').replace('+', '_').replace('\\\\\\\\', '|').replace('\\\\', '').replace('(', '')\n",
        "    cleaned_text = re.sub(r'_+', '_', cleaned_text)\n",
        "    cleaned_text = cleaned_text.replace('|_|', '_').replace(';', ' ').replace('&', ' ')\n",
        "    cleaned_text = cleaned_text.replace('_', ' ')\n",
        "    cleaned_text = cleaned_text.replace('|', ' ')\n",
        "    cleaned_text = cleaned_text.rstrip('_')\n",
        "    return cleaned_text\n",
        "\n",
        "df['Education Speaciality'] = df['Education Speaciality'].apply(format_education_speciality)"
      ]
    },
    {
      "cell_type": "code",
      "execution_count": 1320,
      "metadata": {
        "id": "gq5NIdX4bF-_",
        "colab": {
          "base_uri": "https://localhost:8080/"
        },
        "outputId": "9829e31a-2424-43fb-9b63-dff56d1d563e"
      },
      "outputs": [
        {
          "output_type": "stream",
          "name": "stdout",
          "text": [
            "['هندسة حاسب الالي' 'الإذاعة والتلفزيون والفيلم' 'حوسبة تطبيقية '\n",
            " 'نظم المعلومات الحاسوبية' 'هندسة حاسب آلي' 'نظم معلومات' 'نظم المعلومات'\n",
            " 'علوم الحاسبات' 'تقنية المعلومات' 'Software Engineering'\n",
            " 'Computer Networking And Cyber Security' 'الجغرافيا البشرية'\n",
            " 'علوم وهندسة الحاسب ذكاء اصطناعي' 'Civil And Environmental Engineering'\n",
            " 'علوم الحاسب الالي' 'أمن المعلومات' 'شبكات الحاسب الآلي' 'علوم الحاسب'\n",
            " 'لغويات تطبيقية' 'علوم حاسب' 'تصميم منتجات' 'Computer Science'\n",
            " 'تاريخ اسلامي' 'هندسة شبكات' 'تطبيقات الحاسب الالي' 'هندسة كهربائية'\n",
            " 'تاريخ' 'علوم حاسب آلي' 'شبكات الحاسب' 'هندسة البرمجيات'\n",
            " 'نظم معلومات حاسوبيه قواعد بيانات' 'Product Design'\n",
            " 'Management Information System' 'Engineer In Marine Technology'\n",
            " 'الهندسة الكهربائية' 'نظم المعلومات الإدارية' 'هندسة الكترونيات'\n",
            " 'Information System' 'الفيزياء' 'نظم معلومات حاسوبية' 'العلوم الإدارية'\n",
            " 'نظم المعلومات الادارية' 'برمجة حاسب هندسة برمجيات' 'تقنية معلومات'\n",
            " 'نظم معلومات حاسب مسار امن سيبراني' 'إدارة أعمال' 'جرافيك ووسائط رقمية'\n",
            " 'هندسة صناعية' 'الجرافيكس والوسائط المتعددة'\n",
            " 'تقنية المعلومات الأمن السيبراني' 'Cybersecurity'\n",
            " 'هندسة الشبكات والاتصالات' 'Cybersecurity Engineering'\n",
            " 'Information Technology' 'Business Administration' 'Information Security'\n",
            " 'حاسب الى تربوي' 'تقنيه معلومات' 'Human Resources' 'برمجة الحاسب الألي'\n",
            " 'فيزياء' 'هندسة برمجيات' 'غير متخصص' 'Is' 'تقنية معلومات امن سيبراني'\n",
            " 'إدارة الشبكات' 'موارد بشرية' 'بكالوريوس تقنية معلومات' 'حاسب آلي'\n",
            " 'علوم الحاسب والمعلومات' 'نظم معلومات اداريه' 'هندسة الحاسب الالي'\n",
            " 'برمجة حاسب' 'تقنية قلب' 'ادارة اعمال' 'تربية خاصه' 'إدارة الأعمال'\n",
            " 'التربية الإسلامية' 'هندسة' 'انجليزي' 'المالية والبنوك'\n",
            " 'برمجه وقواعد بيانات' 'علوم الحاسب وتقنيه المعلومات' 'آداب إنجليزي'\n",
            " 'تصميم الازياء' 'Computer Science And Engineering' 'Software Engineer'\n",
            " 'Cyber Forensics And Information System' 'علوم حاسب الي'\n",
            " 'نظم المعلومات الاداريه' 'Business Management' 'رياض اطفال'\n",
            " 'Industrial Engineer Technology' 'تسويق' 'It' 'الأمن السيبراني'\n",
            " 'تكنولوجيا طبية حيوية' 'هندسة حاسب الي' 'أحياء' 'الجغرافيا'\n",
            " 'نظم معلومات ادارية' 'صيدلة' 'حاسب آلي تقنية شبكات'\n",
            " 'علوم وهندسة الحاسب الالي' 'التصميم الجرافيكي والوسائط المتعددة'\n",
            " 'الرياضيات والاحصاء' 'تحليل البيانات' 'أمن سيبراني'\n",
            " 'حاسب وتقنيه المعلومات' 'بكالوريوس من كلية الإعلام والدعوة' 'الأنظمة'\n",
            " 'هندسة حاسب' 'المحاماة' 'الهندسة الميكانيكية'\n",
            " 'Computer And Information Technology' 'إدارة عامة' 'Network'\n",
            " 'Mechanical Engineer Technology' 'Computer Seince' 'Mis'\n",
            " 'حاسب الي برمجيات' 'كيمياء حيوية' 'Cyber Security'\n",
            " 'هندسة الكترونيات واتصالات' 'العلوم في الرياضيات' 'هندسة الحاسب'\n",
            " 'تصميم المنتجات' 'Mba' 'مالية تطبيقي' 'برمجة' 'علوم تقنية المعلومات'\n",
            " 'تغذية وعلوم اطعمت دبلوم حاسب الي' 'هندسة الكترونيات مركبات'\n",
            " 'نظم معلومات الحاسب' 'Computer Information Systems' 'علوم الحاسب الآلي'\n",
            " 'تقنية المعلومات مسار الامن السيبراني' 'تقنيه المعلومات' 'علوم حاسبات'\n",
            " 'إدارة المعلومات' 'تجارة الكترونية' 'حاسب الي نظم المعلومات'\n",
            " 'حاسب آلي نظم معلومات' 'اكترونيات صناعية وتحكم' 'نظم معلومات علم بيانات'\n",
            " 'Telecommunication And Networking Engineering' 'Space Science'\n",
            " 'لغات وترجمه اللغه الانجليزيه' 'علوم الحاسب و المعلومات'\n",
            " 'الموارد البشرية' 'Computer Systems Engineering' 'Health Informatics'\n",
            " 'اللغات والترجمة' 'Communication And Computer Networks'\n",
            " 'نظم معلومات إدارية' 'Electrical Engineering' 'هندسه حاسب'\n",
            " 'Computer Science And Information' 'برمجة وقواعد بيانات'\n",
            " 'علوم حاسب وتقنية المعلومات' 'علوم وحاسب' 'هندسة الحاسب والشبكات'\n",
            " 'امن سيبراني' 'رياضيات' 'الأحياء' 'Artificial Intelligence'\n",
            " 'Electronics And Control Specialization' 'اتصال استراتيجي'\n",
            " 'برمجة الحاسب المتقدمة' 'أصول التربية' 'احصاء' 'هندسة ميكانيكية تطبيقية'\n",
            " 'نظم المعلومات ادارية' 'English' 'الكيمياء' 'الامن السيبراني والشبكات'\n",
            " 'علوم حاسب الي تطبيقي' 'تسويق ومبيعات' 'حاسب آلي ونظم معلومات'\n",
            " 'المعلوماتية الصحية' 'تقنية معلومات شبكات وانظمة اتصال'\n",
            " 'علوم حاسبات وتقنية معلومات' 'إدارة اعمال' 'Beauty'\n",
            " 'Information System Computing' 'الذكاء الاصطناعي' 'Computer Networks'\n",
            " 'علوم حاسب مسار الامن السيبراني' 'Information Systems' 'مهندس حاسب'\n",
            " 'المناهج وطرق التدريس' 'نظم المعلومات الإدارية Mis' 'برمجيات'\n",
            " 'علم المعلومات' 'نظم معلومات الإدارية' 'إلكترونيات' 'محاسبة'\n",
            " 'تقنية معلومات وحاسوب' 'الطب والجراحة' 'لغة عربية' 'هندسة ذكاء اصطناعي'\n",
            " 'الامن السيبراني والتحري الرقمي' 'جغرافيا'\n",
            " 'هندسة الحاسب الآلي وتقنية المعلومات' 'علوم حاسب الى'\n",
            " 'Computer Engineering' 'شبكات وامن معلومات'\n",
            " 'Long Island University New York' 'تقنية معلومات و حوسبة' 'اللغة العربية'\n",
            " 'الإعاقة العقلية' 'Electronics Engineering Technology'\n",
            " 'Computer Programming' 'الترجمة' 'الكلية التقنية'\n",
            " 'علوم البيانات وتحليلها' 'ادارة المعلومات' 'مالية'\n",
            " 'بكالورويس هندسة شبكات الحاسب الألي' 'هندسة الحاسب الآلي والشبكات'\n",
            " 'تقنية معلومات شبكات وانظمة اتصالات' 'هندسة الشبكات و الاتصالات'\n",
            " 'هندسة حاسبات' 'Cs' 'هندسة الحاسب الالي والشبكات' 'ادارة موارد البشرية'\n",
            " 'معلوماتية صحية' 'هندسة تقنية شبكات' 'فنون بصرية'\n",
            " 'Information Technologies' 'علوم حاسب Computer Science' 'إدارة إعمال'\n",
            " 'اجتماعيات' 'تقنيات التعليم' 'شبكات حاسب' 'اللغة الانجليزية'\n",
            " 'Information Technology Cybersecurity' 'حاسب تقنية معلومات' 'حاسب الي'\n",
            " 'الاستشارات الوراثية' 'Computer Security' 'Computer Scince'\n",
            " 'خدمة اجتماعية' 'علوم وهندسة الحاسب' 'علوم الحاسب الى'\n",
            " 'الدراسات الإسلامية المعاصرة' 'هندسه صناعيه' 'الاعلان والاتصال التسويقي'\n",
            " 'هندسة كهرباء' 'علوم وهندسة الحاسب الآلي' 'علو' 'ادارة الموارد ح'\n",
            " 'حاسب ألي' 'Quantum Computing' 'حاسب الي نظم معلومات'\n",
            " 'هندسة دعم أنظمة شبكات' 'Computer Since' 'الذكاء الإصطناعي' 'اعلام رقمي'\n",
            " 'اشعه تشخيصيه' 'اللغة الانجليزية وادابها' 'الصحة العامة'\n",
            " 'Computer Engineer' 'برمجه' 'نظم معلومات حاسب' 'وسائط متعددة تفاعلية'\n",
            " 'علوم تطبيقية' 'سكرتارية طبية' 'تقنية معلومات It'\n",
            " 'Information Systems With Concentration In Cyber Security Management And Information Assurance'\n",
            " 'الترجمة بلغة الاشارة' 'اللغة الفرنسية والترجمة' 'هندسة حاسب آلي وشبكات'\n",
            " 'تربيه خاصة صعوبات تعلم' 'التقنيه' 'Radiology Technologist'\n",
            " 'أنظمة الاتصالات' 'دراسات اسلاميه' 'تربية فنية' 'الرياضيات التطبيقية'\n",
            " 'Programming' 'هندسة البترول' 'هندسة كهرباء واتصالات' 'هندسة حاسوب'\n",
            " 'إدارة الموارد البشرية' 'نظم معلومات الاداريه' 'اتصلات وتقنية معلومات'\n",
            " 'Art And Design' 'Softeare Engineering'\n",
            " 'كلية الاقتصاد والعلوم الادارية نظم معلومات ادارية'\n",
            " 'الحوسبة التطبيقية مسار امن السيبراني' 'حاسب الي دعم أنظمة شبكات'\n",
            " 'تمويل واستثمار' 'برمجه ونظم معلومات' 'نظم معلومات حاسب آلي'\n",
            " 'نظم نعلومات' 'المحاسبة' 'اداره اعمال' 'رياضيات تطبيقية'\n",
            " 'الامن السيبراني' 'هندسة مدنية' 'Public Relations' 'الإعلام'\n",
            " 'نظم الطاقة و الأستدامة' 'حاسب نظم معلومات' 'It Cyber Security Track'\n",
            " 'هندسة انظمة شبكات الحاسب' 'تربية خاصة' 'لغات وترجمة'\n",
            " 'تكنولوجيا المعلومات' 'حاسب' 'هندسه برمجيات' 'Computer Network'\n",
            " 'دراسات المعلومات' 'هندسة حاسبات آلية' 'حاسب آلي ونظم المعلومات'\n",
            " 'Inter Iot' 'دعم فني' 'آلات دقيقة وتحكم'\n",
            " 'Computer Science Software Engineering' 'الرياضيات' 'Respiratory Care'\n",
            " 'ترجمة' 'Computer Information System' 'الشريعة' 'Computer Of Engineering'\n",
            " 'اقتصاد' 'هندسة ميكانيكية' 'أمن معلومات' 'مهندس انظمة شبكات'\n",
            " 'ادارة موارد بشرية' 'علوم حاسب تطبيقي شبكات' 'لغة انجليزية' 'ادارة مالية'\n",
            " 'Art Education' 'إعلان واتصال تسويقي' 'تصميم' 'دراسات اسلامية'\n",
            " 'صحافة والنشر الإلكتروني' 'Dental Surgery' 'الحاسب وتقنية المعلومات'\n",
            " 'University Of Dubuque' 'علوم الكمبيوتر' 'برمجة حاسب الي'\n",
            " 'Libraries And Information' 'علم البيانات وتحليلها' 'التسويق'\n",
            " 'التقنية معلومات' 'الامن السبراني' 'Data Management' 'تقنية الحاسب الالي'\n",
            " 'Management Information Systmes' 'Pmp' 'Language And Translation'\n",
            " 'Bsc Geology' 'حاسب الي دعم فني' 'دعم أنظمة الشبكات'\n",
            " 'Network Security Engineering' 'طب نووي' 'قيادة ادارية وتسويق'\n",
            " 'علم النفس' 'علوم الاشعه' 'E Business' 'هندسة اتصالات'\n",
            " 'تخصص حاسب آلي قسم نظم المعلومات' 'الطب و الجراحة العامة'\n",
            " 'Mobile Communication And Security' 'Actuarial Science'\n",
            " 'دعم انظمة شبكات الحاسب' 'نظم المعلومات مسار الامن'\n",
            " 'Information Tehnology' 'الادلة الجنائية' 'ادارة شبكات'\n",
            " 'مناهج وطرق تدريس' 'Information Analytics' 'Computer Sciences'\n",
            " 'Graphic Design   Digital Media' 'حاسب آلي \"دراسات معلومات\"'\n",
            " 'شبكات وأمن المعلومات' 'تربيه حاسب الي' 'هندسة كيميائية'\n",
            " 'برمجه وتطوير الويب' 'فيزياء عامة'\n",
            " 'هندسة الاتصالات والشبكات وتقنية المعلومات'\n",
            " 'Advanced Security And Digital Forensic' 'تقنية ميكانيكية تكييف وتبريد'\n",
            " 'هندسة نظم معلومات' 'بحوث العمليات' 'هندسة شبكات الحاسب' 'Chemistry'\n",
            " 'هندسة معمارية' 'تصميم داخلي' 'عمارة' 'تصميم جرافيكي ووسائط متعددة'\n",
            " 'علوم الحاسب Cs' 'امن سيبراني وتحري رقمي' 'Businesses It'\n",
            " 'الهندسة الكيميائية' 'التاريخ' 'هندسه حاسب وشبكات'\n",
            " 'Information Technology  Amp  Computing' 'كلية علوم الحاسب والمعلومات'\n",
            " 'تأمين واداة مخاطر' 'ادب انجليزي' 'ادارة عامة' 'Statistics'\n",
            " 'البرمجة وعلوم الحاسب' 'تقنية هندسة الشبكات' 'إدارة اعمال.'\n",
            " 'العلوم الإنسانية' 'شبكات وعلوم الحاسب الالي' 'اللغويات التطبيقية'\n",
            " 'هندسة حاسب وشبكات' 'هندسة كهربائية تطبيقية' 'Data Science'\n",
            " 'Mathematical' 'Applied Computing Computer Networks Track'\n",
            " 'Management Information Systems' 'تقنية المعلومات والحوسبة'\n",
            " 'دعم أنظمة شبكات الحاسب' 'احصاء تطبيقي'\n",
            " 'Network Telecommunication Systems' 'Products Design'\n",
            " 'Applied Computing Cyber Security Track' 'علوم التغذية' 'Computer'\n",
            " 'تربية فنية دبلوم برمجة الحاسب' 'هندسة الحاسب الآلي' 'حاسب نظم المعلومات'\n",
            " 'تقنية البرمجه' 'نظم المعلومات مسار علم بيانات' 'اعلان واتصال تسويقي'\n",
            " 'تقنية طبية' 'علوم الحاسبب' 'الشبكات وأنظمة المعلومات'\n",
            " 'الهندسة الكهربائية الكترونيات واتصالات' 'Multimedia' 'اللغة الإنجليزية'\n",
            " 'هندسة دعم أنظمة الشبكات' 'إدارة انظمة شبكات' 'برمجة الحاسب الالي'\n",
            " 'هندسة النظم والحاسبات' 'نظم معلومات تطبيقي' 'البرمجة' 'تقنيات تعليم'\n",
            " 'تطوير التطبيقات' 'حاليا طالبة هندسة برمجيات في السنة الرابعة' 'Emba'\n",
            " 'العلوم في الاعمال الالكترونية Ebusiness' 'تحضيري علمي' 'ادارة مكتبية'\n",
            " 'هندسه حاسب الالي' 'علوم حاسب آلي وبرمجه' 'ادارة نظم المعلومات'\n",
            " 'تقنية شبكات' 'هندسة الاتصالات' 'محاسبه' 'Engineering Management'\n",
            " 'اعمل في الحماية والمراقبة الالكترونية الاحوال المدنية تخصص لغات وترجمة'\n",
            " 'علوم الحاشب' 'نظم إدارية' 'إدارة الاعمال التنفيذية'\n",
            " 'نظم المعلومات Information System' 'اداره عامه'\n",
            " 'العقيدة والمذاهب المعاصرة' 'برمجيات الحاسب'\n",
            " 'إدارة اعمال نظم معلومات ادارية' 'اللغات والترجمة اللغة الانجليزيه'\n",
            " 'انظمة' 'الامن السيبراني والادلة الرقمية' 'الحوسبة الكمية' 'ذكاء اصطناعي'\n",
            " 'إداره اعمال نظم معلومات ادارية' 'شبكات'\n",
            " 'Networking And Telecommunication System' 'حاسب الي تقنية المعلومات'\n",
            " 'تقنية وبرمجة الويب' 'Masters In Business Administration'\n",
            " 'حاسب آلي وتقنيات التعليم' 'تقنية برمجة'\n",
            " 'Health Information Management And Technology' 'هندسه شبكات واتصلات'\n",
            " 'Cyber Forensics And Information Security' 'هندسة طبية'\n",
            " 'Human Resources Management' 'Physics' 'إدارة معلومات' 'علوح حاسب'\n",
            " 'اقتصاد كلية الاداره والاعمال' 'منطم معلومات'\n",
            " 'Software System Engineering' 'نظم معلومات جغرافية وخرائط'\n",
            " 'علوم حاسب والمعلومات' 'Web Devolper' 'بكالوريوس في هندسة البرمجيات'\n",
            " 'Accounting' 'هياكل ومحركات' 'هندسة كهربائي' 'هندسة طبية حيوية'\n",
            " 'Business' 'ادارة انظمة الشبكات' 'إدارة الأعمال إدارة العمليات والجودة'\n",
            " 'هندسة كهربائية اتصالات' 'كيمياء' 'هندسة الكترونية جامعة سيري بريطانيا'\n",
            " 'الكترونيات صناعية وتحكم' 'Finance' 'اتصالات' 'ادارة أعمال'\n",
            " 'الاطراف الصناعية والأجهزة المساعدة' 'نظم معلومات حاسوبيه'\n",
            " 'هندسة الشبكات' 'English Language' 'هندسه كهربائية'\n",
            " 'تقنية معلومات مسار امن سيبراني' 'Computer Engineering Technology'\n",
            " 'تقنية و امن معلومات' 'Cybersecurity And Info Assurance'\n",
            " 'الأطراف الصناعية و اجهزة تقويم العظام' 'بكالوريس علوم الحاسب الالي'\n",
            " 'هندسة الالكترونيات والاتصالات' 'تجميل' 'الإدارة والأعمال'\n",
            " 'التمويل والاستثمار' 'مسار علمي' 'الإعلام المتخصص'\n",
            " 'تدريس اللغة الانجليزيه' 'انشاءات معمارية' 'برمجة وتشغيل حاسبات'\n",
            " 'هندسة الحاسوب' 'تقنية معلومات مسار الامن السيبراني' 'تصميم ازياء'\n",
            " 'الحاسب الآلي' 'دبلوم تطبيقات الحاسب' 'العمارة'\n",
            " 'Electronics And Communication' 'نظم معلومات الحاسب الالي'\n",
            " 'كليةالعلوم   فيزياء' 'Network Engineering' 'حاسب الالي' 'علوم حاسب عام'\n",
            " 'Management And Human Resources' 'Mechanical Engieering' 'المواد البشرية'\n",
            " 'تقنيات الحاسب برمجيات' 'Software Development'\n",
            " 'الوسائط المتعددة ورسومات الويب' 'English Literature'\n",
            " 'شبكات الحاسب الالي' 'علم اجتماع' 'علوم المعلومات'\n",
            " 'احصاء رياضيات تطبيقيه' 'شبكات وانظمة اتصالات' 'علىم الحاسب الآلي'\n",
            " 'علم البيانات وتحليها' 'حاسب، نظم المعلومات' 'هندسة شبكات والاتصالات'\n",
            " 'حوسبة تطبيقية مسار الامن السيبراني' 'Database And Programming'\n",
            " 'مختبرات كيميائية' 'Digital Media' 'علم الاجتماع'\n",
            " 'هندسة كهربائية الكترونيات Electrical Engineering'\n",
            " 'حاسب الي و نظم المعلومات' 'الكترونيات' 'Information Technology It'\n",
            " 'إقتصاد' 'علوم الحاسب اللالي' 'البرمجة وقواعد البيانات'\n",
            " 'It Management Bi' 'Sport Management' 'هندسة حاسب ألي وشبكات'\n",
            " 'علوم بيانات' 'مظم معلومات مالية' 'كلية المدربين التقنين' 'تقنية ملعومات'\n",
            " 'لغات وترجمة انجليزي' 'Electrical And Electronics Engineering'\n",
            " 'علم بيانات وتحليلها' 'إدارة عامه' 'Network System Engineer'\n",
            " 'برمجيات حاسب' 'نظم معلومات إداريه' 'شبكات وإدارة نظم'\n",
            " 'تكنولوجيا التعليم' 'Occupational Therapy' 'حقوق'\n",
            " 'علوم الحاسب وتقنية المعلومات' 'هندسة نظم الشبكات'\n",
            " 'نظم معلومات كلية الحاسب' 'جيولوجيا' 'علم البيانات' 'Special Education'\n",
            " 'Business And Adminstration' 'الأمن السيبراني والتحري الرقمي'\n",
            " 'الهندسة الصناعية' 'امن سبراني' 'Data Analytics' 'علوم حاسب ونظم معلومات'\n",
            " 'الأدب' 'هندسة قوى كهربائية' 'نظم معلومات جغرافية'\n",
            " 'هندسة الحاسب الآلي و الشبكات' 'هندسة طيران وفضاء'\n",
            " 'نظم معلومات الحاسب الآلي' 'تقنية المعلومات مسار الأمن السيبراني'\n",
            " 'Network Of Computer' 'الذماء الاصطناعي' 'هندسة الشبكات والإتصالات'\n",
            " 'Computer Scientists' 'هندسة وأمن الشبكات'\n",
            " 'تعليم ماقبل المرحلة الابتدائية' 'العلوم في الذكاء الاصطناعي'\n",
            " 'Health Education' 'Construction Management' 'علوم تطبيقيه'\n",
            " 'Artifical Intellegence' 'هندسة دعم انظمة شبكات' 'ادارة فعاليات'\n",
            " 'Network Engineer' 'Applied Mathematics'\n",
            " 'Networking And Telecommunications Systems' 'علوم حاسب امن سيبراني'\n",
            " 'الحسبة والرقابة' 'لغة انجليزيه وادابها' 'التدخل المبكر'\n",
            " 'Computer And Information Systems' 'تطوير تطبيات' 'علوم أسرية'\n",
            " 'English Language And Literature' 'الاتصال والعلاقات العامة'\n",
            " 'ادارة اعمال تنفيذية' 'علم اجتماع وخدمة مجتمع' 'هندسة كهربائية وحاسبات'\n",
            " 'العلوم في امن المعلومات' 'تقنية معلومات مسار'\n",
            " 'هندسة اتصالات والكترونيات' 'اعلام' 'Islamic Students' 'اصول دين'\n",
            " 'علوم حاسب وأنظمة معلومات' 'حاسب نظم معلومات Cis'\n",
            " 'Networks And Telecommunications' 'الاعمال المصرفية'\n",
            " 'الابتكار و تصميم المنتجات' 'نظم معلومات Information Systems'\n",
            " 'علوم حاسب Cs' 'برمجة وقواعد البيانات' 'التربية الفنية'\n",
            " 'الشبكات وامن البيانات' 'Art And Design Public Relations'\n",
            " 'الشبكات والاتصالات' 'تقنية البرمجة' 'دراسات الإسلاميه'\n",
            " 'شبكات الحاسب و الاتصالات' 'هندسة كهربائية و إلكترونية'\n",
            " 'تطوير المواقع الالكترونية والاجهزة الذكية' 'ادارة الاعمال الالكترونية'\n",
            " 'القرأن الكريم والدراسات الاسلاميه' 'تقنية برمجه' 'Conputer Scince'\n",
            " 'Industrial And System Engineering' 'حاسب تظم معلومات' 'إحصاء'\n",
            " 'تقنية معلومات Information Technology' 'علم بيانات' 'البرمجه'\n",
            " 'مهندس شبكات و إتصالات' 'It Cybersecurity'\n",
            " 'Information Technology And Computing'\n",
            " 'Cs نظم معلومات   Information System'\n",
            " 'تقنية معلومات شبكات وأنظمة اتصالات' 'Computer Information Systym'\n",
            " 'تصميم منتحات' 'حوسبة و ادارة اعمال' 'فيزياء وعلوم فلك' 'قيادة وتخطيط'\n",
            " 'حاسب آلي ، تقنية المعلومات' 'Gis' 'هندسة شبكات وامن معلومات'\n",
            " 'Cybersecurity And Networking' 'التوجية والاصلاح الاسري'\n",
            " 'الحاسب الآلي و طالبة ماجستير حاليا في تخصص الذكاء الاصطناعي في جامعة البحرين'\n",
            " 'تصميم منتجات Product Design' 'Information Systems Cybersecurity'\n",
            " 'السياحة' 'Advanced Computer Science' 'هندسة إلكترونيات' 'نطم المعلومات'\n",
            " 'علاج وظيفي' 'جامعة الملك سعود' 'Public Relation' 'الأدب الإنجليزي'\n",
            " 'It Information Technology' 'هندسة عامة' 'برمجة حاسب ونظم المعلومات'\n",
            " 'علوم وهندسة حاسب الي' 'It Networks And Communications' 'سكرتير تنفيذي'\n",
            " 'الحاسب والمعلومات' 'هندسة حاسب آلي و شبكات' 'نظم المعلومات التطبيقية'\n",
            " 'صيانة الالات الصناعية' 'Ms In Industrial Engineering'\n",
            " 'Engineering Of Computer Network Systems Support' 'حاسب الي تقنية برمجه'\n",
            " 'علم معلومات' 'Information Management' 'علم نفس'\n",
            " 'هندسة تقنية الالكترونيات' 'احياء' 'برمجة حاسب آلي' 'Networking'\n",
            " 'رياضيات مسار إحصاء' 'فيزياء عامه' 'Biology' 'علوم الحاسب امن سيبراني'\n",
            " 'حاسب الي وسكرتارية' 'تصميم مواقع' 'علوم حاسبات هندسة برمجيات'\n",
            " 'تقنية وادارة المعلومات الصحية' 'اداراة اعمال' 'نظم المعلومات Cis'\n",
            " 'علوم حاسب و معلومات' 'It:Health Care Informatics' 'Information Science'\n",
            " 'Public Administration' 'علوم الحاسب لكن خبرتي العمليه ليست قوية'\n",
            " 'حاسب و تقنية معلومات' 'هندسة كهربائية هندسة الكترونيات واتصالات'\n",
            " 'نحت، فنون بصرية' 'Beng Computer Systems Engineering'\n",
            " 'علوم بيانات وتحليلها' 'هندسه ميكانيكية' 'Cis']\n"
          ]
        }
      ],
      "source": [
        "unique_values = df['Education Speaciality'].unique()\n",
        "print(unique_values)"
      ]
    },
    {
      "cell_type": "code",
      "execution_count": 1321,
      "metadata": {
        "id": "oqKdvTRQ3htf"
      },
      "outputs": [],
      "source": [
        "#division of values in Education Speciality into Computer, Engineering, Design Fields, Science Fields.\n",
        "import re\n",
        "\n",
        "def categorize_major(major):\n",
        "    keywords = {\n",
        "        \"Computer\": ['computer', 'iot', 'information technology', 'programming', 'cyber', 'software', 'data', 'cybersecurity', 'networking', 'network', 'networks', 'information', 'intelligence', 'it', 'cs', 'electronics', 'web', 'developer', 'database', 'support','تقنية','حاسب','الحاسب'],\n",
        "        \"Engineering\": ['engineering', 'mechanical', 'civil', 'electrical', 'architecture', 'metallic', 'mechatronics'],\n",
        "        \"Design Fields\": ['design', 'ux', 'ui', 'artificial', 'graphic', 'graphics', 'art', 'visual', 'product', 'industrial', 'user experience', 'user interface'],\n",
        "        \"Science Fields\": ['رياضيات', 'احياء', 'physics', 'احصاء', 'chemistry', 'الكيميائية']\n",
        "    }\n",
        "    for category, keys in keywords.items():\n",
        "        if any(re.search(r'\\b' + re.escape(key) + r'\\b', str(major), re.IGNORECASE) for key in keys):\n",
        "            return category\n",
        "    return \"Another field\"\n",
        "\n",
        "  #new variable to store the categorized values\n",
        "df['specialization'] = df['Education Speaciality'].apply(categorize_major)\n"
      ]
    },
    {
      "cell_type": "code",
      "execution_count": 1322,
      "metadata": {
        "id": "r_-cgYwDAJBi",
        "colab": {
          "base_uri": "https://localhost:8080/"
        },
        "outputId": "f54f8c70-4d7b-4bc1-c1c7-d223359084fa"
      },
      "outputs": [
        {
          "output_type": "execute_result",
          "data": {
            "text/plain": [
              "0            Computer\n",
              "1       Another field\n",
              "3       Another field\n",
              "4       Another field\n",
              "5            Computer\n",
              "            ...      \n",
              "6542         Computer\n",
              "6543         Computer\n",
              "6544         Computer\n",
              "6545    Another field\n",
              "6546         Computer\n",
              "Name: specialization, Length: 5580, dtype: object"
            ]
          },
          "metadata": {},
          "execution_count": 1322
        }
      ],
      "source": [
        "df['specialization']"
      ]
    },
    {
      "cell_type": "code",
      "execution_count": 1323,
      "metadata": {
        "id": "9cLTEE8MBDze",
        "colab": {
          "base_uri": "https://localhost:8080/"
        },
        "outputId": "c2eb62e1-899a-4c59-a334-462cca73b214"
      },
      "outputs": [
        {
          "output_type": "stream",
          "name": "stdout",
          "text": [
            "<class 'pandas.core.frame.DataFrame'>\n",
            "Index: 5580 entries, 0 to 6546\n",
            "Data columns (total 32 columns):\n",
            " #   Column                          Non-Null Count  Dtype         \n",
            "---  ------                          --------------  -----         \n",
            " 0   Student ID                      5580 non-null   object        \n",
            " 1   Age                             5580 non-null   int64         \n",
            " 2   Gender                          5580 non-null   object        \n",
            " 3   Home Region                     5580 non-null   object        \n",
            " 4   Home City                       5580 non-null   object        \n",
            " 5   Program ID                      5580 non-null   object        \n",
            " 6   Program Main Category Code      5580 non-null   object        \n",
            " 7   Program Sub Category Code       5580 non-null   object        \n",
            " 8   Technology Type                 5580 non-null   object        \n",
            " 9   Program Skill Level             5580 non-null   object        \n",
            " 10  Program Presentation Method     5580 non-null   object        \n",
            " 11  Program Start Date              5580 non-null   datetime64[ns]\n",
            " 12  Program End Date                5580 non-null   datetime64[ns]\n",
            " 13  Program Days                    5580 non-null   int64         \n",
            " 14  Completed Degree                5580 non-null   object        \n",
            " 15  Level of Education              5580 non-null   object        \n",
            " 16  Education Speaciality           5580 non-null   object        \n",
            " 17  College                         5580 non-null   object        \n",
            " 18  University Degree Score         5580 non-null   float64       \n",
            " 19  University Degree Score System  5580 non-null   float64       \n",
            " 20  Employment Status               5580 non-null   object        \n",
            " 21  Job Type                        5580 non-null   object        \n",
            " 22  Still Working                   5580 non-null   object        \n",
            " 23  Y                               5580 non-null   int64         \n",
            " 24  Duration                        5580 non-null   int64         \n",
            " 25  Start Year                      5580 non-null   int32         \n",
            " 26  Start Month                     5580 non-null   int32         \n",
            " 27  Start Day                       5580 non-null   int32         \n",
            " 28  End Year                        5580 non-null   int32         \n",
            " 29  End Month                       5580 non-null   int32         \n",
            " 30  End Day                         5580 non-null   int32         \n",
            " 31  specialization                  5580 non-null   object        \n",
            "dtypes: datetime64[ns](2), float64(2), int32(6), int64(4), object(18)\n",
            "memory usage: 1.3+ MB\n"
          ]
        }
      ],
      "source": [
        "df.info()"
      ]
    },
    {
      "cell_type": "code",
      "source": [
        "df.drop(columns=['Program Start Date', 'Program End Date','Program Sub Category Code','Student ID',\n",
        "                 'Program ID','College','Home City','Job Type','Still Working','Employment Status'], inplace=True)\n",
        "\n"
      ],
      "metadata": {
        "id": "1bJPiOXa-HFV"
      },
      "execution_count": 1324,
      "outputs": []
    },
    {
      "cell_type": "markdown",
      "source": [
        "# Data Visulization"
      ],
      "metadata": {
        "id": "8wgG2x6t2pA1"
      }
    },
    {
      "cell_type": "code",
      "source": [
        "import matplotlib.pyplot as plt\n",
        "import seaborn as sns\n",
        "plt.figure(figsize=(10, 6))\n",
        "plt.hist(df['Age'], bins=20, color='orange', edgecolor='black')\n",
        "\n",
        "plt.xlabel('Age')\n",
        "plt.ylabel('Frequency')\n",
        "plt.title('Histogram of Age')\n",
        "\n",
        "plt.show()"
      ],
      "metadata": {
        "colab": {
          "base_uri": "https://localhost:8080/",
          "height": 564
        },
        "id": "NdqtvT7j2n8J",
        "outputId": "518e3eda-deff-4cc9-9b6f-3b0ad4cfdaf5"
      },
      "execution_count": 1325,
      "outputs": [
        {
          "output_type": "display_data",
          "data": {
            "text/plain": [
              "<Figure size 1000x600 with 1 Axes>"
            ],
            "image/png": "[encoded data removed]"
          },
          "metadata": {}
        }
      ]
    },
    {
      "cell_type": "markdown",
      "source": [
        "We observed in Histogram of Age that most of people that attend program is between 21 and 30 and Ages between 45 to 55 is rare"
      ],
      "metadata": {
        "id": "6TabNypa3B4H"
      }
    },
    {
      "cell_type": "code",
      "source": [
        "\n",
        "gender_counts = df['Gender'].value_counts()\n",
        "\n",
        "plt.figure(figsize=(8, 6))\n",
        "plt.pie(gender_counts, labels=gender_counts.index, autopct='%1.1f%%', startangle=140)\n",
        "\n",
        "plt.title('Distribution of Gender')\n",
        "\n",
        "plt.axis('equal')\n",
        "\n",
        "plt.show()"
      ],
      "metadata": {
        "colab": {
          "base_uri": "https://localhost:8080/",
          "height": 521
        },
        "id": "bQ8LUrCk6CxF",
        "outputId": "a7b517c4-e82f-469f-da47-a3949f11b896"
      },
      "execution_count": 1326,
      "outputs": [
        {
          "output_type": "display_data",
          "data": {
            "text/plain": [
              "<Figure size 800x600 with 1 Axes>"
            ],
            "image/png": "[encoded data removed]"
          },
          "metadata": {}
        }
      ]
    },
    {
      "cell_type": "markdown",
      "source": [
        "# in pie chart we observed that Female is more than the Male"
      ],
      "metadata": {
        "id": "qKdecSkd6Ea0"
      }
    },
    {
      "cell_type": "markdown",
      "source": [
        "#  Data Encoding"
      ],
      "metadata": {
        "id": "9lvrb9uIPMDW"
      }
    },
    {
      "cell_type": "markdown",
      "source": [
        "## Label Encoding Columns:"
      ],
      "metadata": {
        "id": "mKM10pFYZ9K2"
      }
    },
    {
      "cell_type": "code",
      "source": [
        "from sklearn.preprocessing import LabelEncoder\n",
        "\n",
        "CD=LabelEncoder()\n",
        "\n",
        "CDC=CD.fit_transform(df['Completed Degree'])\n",
        "df['Completed Degree']=CDC\n",
        "\n",
        "CDH=CD.fit_transform(df['Home Region'])\n",
        "df['Home Region']=CDH"
      ],
      "metadata": {
        "id": "urMrxr74un1W"
      },
      "execution_count": 1327,
      "outputs": []
    },
    {
      "cell_type": "code",
      "execution_count": 1328,
      "metadata": {
        "id": "Aa7x9JCE3dlF"
      },
      "outputs": [],
      "source": [
        "from sklearn.preprocessing import LabelEncoder\n",
        "\n",
        "encoder_gender=LabelEncoder()\n",
        "encoded_gender=encoder_gender.fit_transform(df['Gender'])\n",
        "df['Gender']=encoded_gender"
      ]
    },
    {
      "cell_type": "code",
      "execution_count": 1329,
      "metadata": {
        "id": "LuVXv7O04k2c",
        "colab": {
          "base_uri": "https://localhost:8080/"
        },
        "outputId": "85bd038f-7d6d-44ee-9a48-3c72b99f923c"
      },
      "outputs": [
        {
          "output_type": "execute_result",
          "data": {
            "text/plain": [
              "0       1\n",
              "1       1\n",
              "3       1\n",
              "4       1\n",
              "5       1\n",
              "       ..\n",
              "6542    0\n",
              "6543    0\n",
              "6544    0\n",
              "6545    0\n",
              "6546    1\n",
              "Name: Gender, Length: 5580, dtype: int64"
            ]
          },
          "metadata": {},
          "execution_count": 1329
        }
      ],
      "source": [
        "df['Gender']"
      ]
    },
    {
      "cell_type": "markdown",
      "source": [
        "## One Hot Encoding Columns"
      ],
      "metadata": {
        "id": "rz7qZFbwaNLG"
      }
    },
    {
      "cell_type": "code",
      "execution_count": 1330,
      "metadata": {
        "id": "MZhGp1R3_UI1"
      },
      "outputs": [],
      "source": [
        "# one hot for Education Speaciality\n",
        "df_encoded = pd.get_dummies(df['specialization'], prefix='Specialization')#the prefix give the column  name .\n",
        "\n",
        "df = pd.concat([df, df_encoded], axis=1)\n",
        "\n",
        "df.drop(['Education Speaciality', 'specialization'], axis=1, inplace=True)"
      ]
    },
    {
      "cell_type": "code",
      "execution_count": 1331,
      "metadata": {
        "id": "PQ176PswMwKI"
      },
      "outputs": [],
      "source": [
        "#one hot\n",
        "df_encoded = pd.get_dummies(df[[ 'Program Main Category Code',\n",
        "                                 'Technology Type'#i remove Program_Skill_Level and 'Level of Education' and 'Program Presentation Method', 'Program Sub Category Code','Home Region'\n",
        "                                 ]],\n",
        "                            prefix=[ 'Program_Main_Category',\n",
        "                                    'Technology_Type'# i remove Program_Skill_Level and 'Level of Education' and 'Program Presentation Method', 'Program Sub Category Code','Home Region'\n",
        "                                    ])\n",
        "\n",
        "# if i want to Convert boolean values to 1s and 0s\n",
        "#df_encoded = df_encoded.astype(int)\n",
        "\n",
        "# one-hot encoded columns with the original DataFrame\n",
        "df_encoded_dropped = pd.concat([df.drop([ 'Program Main Category Code',\n",
        "                                         'Technology Type'#i remove Program_Skill_Level and 'Level of Education' and 'Program Presentation Method','Home Region'\n",
        "                                         ], axis=1),\n",
        "                                df_encoded], axis=1)\n",
        "\n",
        "df = df_encoded_dropped"
      ]
    },
    {
      "cell_type": "code",
      "source": [
        "df['Level of Education'].value_counts()"
      ],
      "metadata": {
        "id": "Lv6KctAC3KyZ",
        "colab": {
          "base_uri": "https://localhost:8080/"
        },
        "outputId": "01bcb323-b25b-4c14-de49-2427ee44affb"
      },
      "execution_count": 1332,
      "outputs": [
        {
          "output_type": "execute_result",
          "data": {
            "text/plain": [
              "Level of Education\n",
              "البكالوريوس    4646\n",
              "الماجستير       402\n",
              "الدبلوم         285\n",
              "ثانوي           227\n",
              "الدكتوراه        20\n",
              "Name: count, dtype: int64"
            ]
          },
          "metadata": {},
          "execution_count": 1332
        }
      ]
    },
    {
      "cell_type": "code",
      "source": [
        "def Level_of_Education(Level):\n",
        "    if Level == 'ثانوي':\n",
        "        return 1\n",
        "    if Level == 'الدبلوم':\n",
        "        return 2\n",
        "    if Level=='البكالوريوس':\n",
        "        return 3\n",
        "    if Level=='الماجستير':\n",
        "        return 4\n",
        "    return  5\n",
        "\n",
        "df['Level of Education'] = df['Level of Education'].apply(Level_of_Education)"
      ],
      "metadata": {
        "id": "NT5IMftS3S59"
      },
      "execution_count": 1333,
      "outputs": []
    },
    {
      "cell_type": "code",
      "source": [
        "df['Level of Education'] .value_counts()"
      ],
      "metadata": {
        "id": "4xqT5WWG4Luh",
        "colab": {
          "base_uri": "https://localhost:8080/"
        },
        "outputId": "ec91b8a7-f7d6-4dcc-ef3f-81aa40746731"
      },
      "execution_count": 1334,
      "outputs": [
        {
          "output_type": "execute_result",
          "data": {
            "text/plain": [
              "Level of Education\n",
              "3    4646\n",
              "4     402\n",
              "2     285\n",
              "1     227\n",
              "5      20\n",
              "Name: count, dtype: int64"
            ]
          },
          "metadata": {},
          "execution_count": 1334
        }
      ]
    },
    {
      "cell_type": "code",
      "source": [
        "df['Program Skill Level'].value_counts()"
      ],
      "metadata": {
        "id": "YGIU1hEY2Ero",
        "colab": {
          "base_uri": "https://localhost:8080/"
        },
        "outputId": "55445567-18b7-48b8-9bbe-cf52a955c30e"
      },
      "execution_count": 1335,
      "outputs": [
        {
          "output_type": "execute_result",
          "data": {
            "text/plain": [
              "Program Skill Level\n",
              "متوسط    2438\n",
              "مبتدئ    2282\n",
              "متقدم     860\n",
              "Name: count, dtype: int64"
            ]
          },
          "metadata": {},
          "execution_count": 1335
        }
      ]
    },
    {
      "cell_type": "code",
      "source": [
        "def Program_Skill_Level(Level):\n",
        "    if Level == 'مبتدئ':\n",
        "        return 1\n",
        "    if Level == 'متوسط':\n",
        "        return 2\n",
        "    return 3\n",
        "\n",
        "df['Program Skill Level'] = df['Program Skill Level'].apply(Program_Skill_Level)"
      ],
      "metadata": {
        "id": "KzJ6JJJG0QEK"
      },
      "execution_count": 1336,
      "outputs": []
    },
    {
      "cell_type": "code",
      "source": [
        "df['Program Skill Level'].value_counts()"
      ],
      "metadata": {
        "id": "irsI_cCV2Ref",
        "colab": {
          "base_uri": "https://localhost:8080/"
        },
        "outputId": "dd490984-2c29-4374-a4f2-542ee743bdca"
      },
      "execution_count": 1337,
      "outputs": [
        {
          "output_type": "execute_result",
          "data": {
            "text/plain": [
              "Program Skill Level\n",
              "2    2438\n",
              "1    2282\n",
              "3     860\n",
              "Name: count, dtype: int64"
            ]
          },
          "metadata": {},
          "execution_count": 1337
        }
      ]
    },
    {
      "cell_type": "code",
      "source": [
        "df['Completed Degree'].value_counts()"
      ],
      "metadata": {
        "id": "fmfw8yvzugvx",
        "colab": {
          "base_uri": "https://localhost:8080/"
        },
        "outputId": "e2098eaf-ef1a-4b22-d71c-656f05aa3031"
      },
      "execution_count": 1338,
      "outputs": [
        {
          "output_type": "execute_result",
          "data": {
            "text/plain": [
              "Completed Degree\n",
              "1    4447\n",
              "0    1133\n",
              "Name: count, dtype: int64"
            ]
          },
          "metadata": {},
          "execution_count": 1338
        }
      ]
    },
    {
      "cell_type": "code",
      "source": [
        "df['Program Presentation Method'].value_counts()"
      ],
      "metadata": {
        "id": "G9UVqS1U5saN",
        "colab": {
          "base_uri": "https://localhost:8080/"
        },
        "outputId": "c83d3c3a-4b86-4842-831e-f30e5a1afd7b"
      },
      "execution_count": 1339,
      "outputs": [
        {
          "output_type": "execute_result",
          "data": {
            "text/plain": [
              "Program Presentation Method\n",
              "حضوري     4259\n",
              "عن بعد    1321\n",
              "Name: count, dtype: int64"
            ]
          },
          "metadata": {},
          "execution_count": 1339
        }
      ]
    },
    {
      "cell_type": "code",
      "source": [
        "def Program_Presentation(Level):\n",
        "    if Level == \"حضوري\":\n",
        "        return 1\n",
        "    if Level == \"عن بعد\":\n",
        "        return 2\n",
        "\n",
        "\n",
        "df['Program Presentation Method'] = df['Program Presentation Method'].apply(Program_Presentation)"
      ],
      "metadata": {
        "id": "RK47xdom50Ow"
      },
      "execution_count": 1340,
      "outputs": []
    },
    {
      "cell_type": "markdown",
      "source": [
        "## Scaling Numerical Features"
      ],
      "metadata": {
        "id": "62mVv0jCbmU6"
      }
    },
    {
      "cell_type": "code",
      "execution_count": 1341,
      "metadata": {
        "id": "K3tksbKtYvw_"
      },
      "outputs": [],
      "source": [
        "colum_num = df.select_dtypes(include=['number']).columns\n",
        "colum_num= colum_num.drop('Y')"
      ]
    },
    {
      "cell_type": "code",
      "execution_count": 1342,
      "metadata": {
        "id": "j_Nugl1E0TYC"
      },
      "outputs": [],
      "source": [
        "from sklearn.preprocessing import MinMaxScaler\n",
        "\n",
        "process_scaler=MinMaxScaler()\n",
        "\n",
        "df[colum_num]=process_scaler.fit_transform(df[colum_num])\n"
      ]
    },
    {
      "cell_type": "code",
      "execution_count": 1343,
      "metadata": {
        "id": "hIjyZSex05EK",
        "colab": {
          "base_uri": "https://localhost:8080/",
          "height": 495
        },
        "outputId": "c64e3dba-0c1b-4239-ce8a-4107a7b6673c"
      },
      "outputs": [
        {
          "output_type": "execute_result",
          "data": {
            "text/plain": [
              "           Age  Gender  Home Region  Program Skill Level  \\\n",
              "0     0.487179     1.0     0.333333                  0.5   \n",
              "1     0.076923     1.0     0.833333                  0.5   \n",
              "3     0.128205     1.0     0.333333                  0.5   \n",
              "4     0.128205     1.0     0.333333                  0.5   \n",
              "5     0.307692     1.0     0.333333                  0.0   \n",
              "...        ...     ...          ...                  ...   \n",
              "6542  0.179487     0.0     0.333333                  0.5   \n",
              "6543  0.333333     0.0     0.333333                  0.5   \n",
              "6544  0.230769     0.0     0.416667                  0.0   \n",
              "6545  0.153846     0.0     0.333333                  0.0   \n",
              "6546  0.179487     1.0     0.333333                  0.5   \n",
              "\n",
              "      Program Presentation Method  Program Days  Completed Degree  \\\n",
              "0                             0.0      0.031142               1.0   \n",
              "1                             0.0      0.006920               1.0   \n",
              "3                             0.0      0.103806               1.0   \n",
              "4                             0.0      0.176471               0.0   \n",
              "5                             0.0      0.031142               1.0   \n",
              "...                           ...           ...               ...   \n",
              "6542                          0.0      0.062284               1.0   \n",
              "6543                          0.0      0.217993               1.0   \n",
              "6544                          1.0      0.031142               1.0   \n",
              "6545                          0.0      0.006920               0.0   \n",
              "6546                          0.0      0.031142               1.0   \n",
              "\n",
              "      Level of Education  University Degree Score  \\\n",
              "0                    0.5                   0.0244   \n",
              "1                    0.5                   0.0500   \n",
              "3                    0.5                   0.0355   \n",
              "4                    0.5                   0.0400   \n",
              "5                    0.5                   0.0407   \n",
              "...                  ...                      ...   \n",
              "6542                 0.5                   0.0420   \n",
              "6543                 0.5                   0.0440   \n",
              "6544                 0.5                   0.0446   \n",
              "6545                 0.5                   0.0493   \n",
              "6546                 0.5                   0.0400   \n",
              "\n",
              "      University Degree Score System  Duration  Start Year  Start Month  \\\n",
              "0                           0.000000  0.031142         0.5     0.363636   \n",
              "1                           0.010417  0.006920         0.5     0.272727   \n",
              "3                           0.010417  0.103806         0.5     0.545455   \n",
              "4                           0.010417  0.176471         0.5     0.272727   \n",
              "5                           0.010417  0.031142         0.5     0.363636   \n",
              "...                              ...       ...         ...          ...   \n",
              "6542                        0.010417  0.062284         0.0     0.818182   \n",
              "6543                        0.010417  0.217993         0.5     0.272727   \n",
              "6544                        0.010417  0.031142         0.5     0.363636   \n",
              "6545                        0.010417  0.006920         0.5     0.545455   \n",
              "6546                        0.000000  0.031142         1.0     0.000000   \n",
              "\n",
              "      Start Day  End Year  End Month   End Day  \n",
              "0      0.900000       0.5   0.454545  0.233333  \n",
              "1      0.033333       0.5   0.272727  0.166667  \n",
              "3      0.733333       0.5   0.636364  0.766667  \n",
              "4      0.966667       0.5   0.454545  0.700000  \n",
              "5      0.433333       0.5   0.363636  0.800000  \n",
              "...         ...       ...        ...       ...  \n",
              "6542   0.866667       0.0   0.909091  0.500000  \n",
              "6543   0.033333       0.5   0.454545  0.166667  \n",
              "6544   0.433333       0.5   0.363636  0.800000  \n",
              "6545   0.500000       0.5   0.545455  0.633333  \n",
              "6546   0.200000       1.0   0.000000  0.566667  \n",
              "\n",
              "[5580 rows x 17 columns]"
            ],
            "text/html": [
              "\n",
              "  <div id=\"df-29e31fe4-1971-4513-bf5f-d0b6a43655d1\" class=\"colab-df-container\">\n",
              "    <div>\n",
              "<style scoped>\n",
              "    .dataframe tbody tr th:only-of-type {\n",
              "        vertical-align: middle;\n",
              "    }\n",
              "\n",
              "    .dataframe tbody tr th {\n",
              "        vertical-align: top;\n",
              "    }\n",
              "\n",
              "    .dataframe thead th {\n",
              "        text-align: right;\n",
              "    }\n",
              "</style>\n",
              "<table border=\"1\" class=\"dataframe\">\n",
              "  <thead>\n",
              "    <tr style=\"text-align: right;\">\n",
              "      <th></th>\n",
              "      <th>Age</th>\n",
              "      <th>Gender</th>\n",
              "      <th>Home Region</th>\n",
              "      <th>Program Skill Level</th>\n",
              "      <th>Program Presentation Method</th>\n",
              "      <th>Program Days</th>\n",
              "      <th>Completed Degree</th>\n",
              "      <th>Level of Education</th>\n",
              "      <th>University Degree Score</th>\n",
              "      <th>University Degree Score System</th>\n",
              "      <th>Duration</th>\n",
              "      <th>Start Year</th>\n",
              "      <th>Start Month</th>\n",
              "      <th>Start Day</th>\n",
              "      <th>End Year</th>\n",
              "      <th>End Month</th>\n",
              "      <th>End Day</th>\n",
              "    </tr>\n",
              "  </thead>\n",
              "  <tbody>\n",
              "    <tr>\n",
              "      <th>0</th>\n",
              "      <td>0.487179</td>\n",
              "      <td>1.0</td>\n",
              "      <td>0.333333</td>\n",
              "      <td>0.5</td>\n",
              "      <td>0.0</td>\n",
              "      <td>0.031142</td>\n",
              "      <td>1.0</td>\n",
              "      <td>0.5</td>\n",
              "      <td>0.0244</td>\n",
              "      <td>0.000000</td>\n",
              "      <td>0.031142</td>\n",
              "      <td>0.5</td>\n",
              "      <td>0.363636</td>\n",
              "      <td>0.900000</td>\n",
              "      <td>0.5</td>\n",
              "      <td>0.454545</td>\n",
              "      <td>0.233333</td>\n",
              "    </tr>\n",
              "    <tr>\n",
              "      <th>1</th>\n",
              "      <td>0.076923</td>\n",
              "      <td>1.0</td>\n",
              "      <td>0.833333</td>\n",
              "      <td>0.5</td>\n",
              "      <td>0.0</td>\n",
              "      <td>0.006920</td>\n",
              "      <td>1.0</td>\n",
              "      <td>0.5</td>\n",
              "      <td>0.0500</td>\n",
              "      <td>0.010417</td>\n",
              "      <td>0.006920</td>\n",
              "      <td>0.5</td>\n",
              "      <td>0.272727</td>\n",
              "      <td>0.033333</td>\n",
              "      <td>0.5</td>\n",
              "      <td>0.272727</td>\n",
              "      <td>0.166667</td>\n",
              "    </tr>\n",
              "    <tr>\n",
              "      <th>3</th>\n",
              "      <td>0.128205</td>\n",
              "      <td>1.0</td>\n",
              "      <td>0.333333</td>\n",
              "      <td>0.5</td>\n",
              "      <td>0.0</td>\n",
              "      <td>0.103806</td>\n",
              "      <td>1.0</td>\n",
              "      <td>0.5</td>\n",
              "      <td>0.0355</td>\n",
              "      <td>0.010417</td>\n",
              "      <td>0.103806</td>\n",
              "      <td>0.5</td>\n",
              "      <td>0.545455</td>\n",
              "      <td>0.733333</td>\n",
              "      <td>0.5</td>\n",
              "      <td>0.636364</td>\n",
              "      <td>0.766667</td>\n",
              "    </tr>\n",
              "    <tr>\n",
              "      <th>4</th>\n",
              "      <td>0.128205</td>\n",
              "      <td>1.0</td>\n",
              "      <td>0.333333</td>\n",
              "      <td>0.5</td>\n",
              "      <td>0.0</td>\n",
              "      <td>0.176471</td>\n",
              "      <td>0.0</td>\n",
              "      <td>0.5</td>\n",
              "      <td>0.0400</td>\n",
              "      <td>0.010417</td>\n",
              "      <td>0.176471</td>\n",
              "      <td>0.5</td>\n",
              "      <td>0.272727</td>\n",
              "      <td>0.966667</td>\n",
              "      <td>0.5</td>\n",
              "      <td>0.454545</td>\n",
              "      <td>0.700000</td>\n",
              "    </tr>\n",
              "    <tr>\n",
              "      <th>5</th>\n",
              "      <td>0.307692</td>\n",
              "      <td>1.0</td>\n",
              "      <td>0.333333</td>\n",
              "      <td>0.0</td>\n",
              "      <td>0.0</td>\n",
              "      <td>0.031142</td>\n",
              "      <td>1.0</td>\n",
              "      <td>0.5</td>\n",
              "      <td>0.0407</td>\n",
              "      <td>0.010417</td>\n",
              "      <td>0.031142</td>\n",
              "      <td>0.5</td>\n",
              "      <td>0.363636</td>\n",
              "      <td>0.433333</td>\n",
              "      <td>0.5</td>\n",
              "      <td>0.363636</td>\n",
              "      <td>0.800000</td>\n",
              "    </tr>\n",
              "    <tr>\n",
              "      <th>...</th>\n",
              "      <td>...</td>\n",
              "      <td>...</td>\n",
              "      <td>...</td>\n",
              "      <td>...</td>\n",
              "      <td>...</td>\n",
              "      <td>...</td>\n",
              "      <td>...</td>\n",
              "      <td>...</td>\n",
              "      <td>...</td>\n",
              "      <td>...</td>\n",
              "      <td>...</td>\n",
              "      <td>...</td>\n",
              "      <td>...</td>\n",
              "      <td>...</td>\n",
              "      <td>...</td>\n",
              "      <td>...</td>\n",
              "      <td>...</td>\n",
              "    </tr>\n",
              "    <tr>\n",
              "      <th>6542</th>\n",
              "      <td>0.179487</td>\n",
              "      <td>0.0</td>\n",
              "      <td>0.333333</td>\n",
              "      <td>0.5</td>\n",
              "      <td>0.0</td>\n",
              "      <td>0.062284</td>\n",
              "      <td>1.0</td>\n",
              "      <td>0.5</td>\n",
              "      <td>0.0420</td>\n",
              "      <td>0.010417</td>\n",
              "      <td>0.062284</td>\n",
              "      <td>0.0</td>\n",
              "      <td>0.818182</td>\n",
              "      <td>0.866667</td>\n",
              "      <td>0.0</td>\n",
              "      <td>0.909091</td>\n",
              "      <td>0.500000</td>\n",
              "    </tr>\n",
              "    <tr>\n",
              "      <th>6543</th>\n",
              "      <td>0.333333</td>\n",
              "      <td>0.0</td>\n",
              "      <td>0.333333</td>\n",
              "      <td>0.5</td>\n",
              "      <td>0.0</td>\n",
              "      <td>0.217993</td>\n",
              "      <td>1.0</td>\n",
              "      <td>0.5</td>\n",
              "      <td>0.0440</td>\n",
              "      <td>0.010417</td>\n",
              "      <td>0.217993</td>\n",
              "      <td>0.5</td>\n",
              "      <td>0.272727</td>\n",
              "      <td>0.033333</td>\n",
              "      <td>0.5</td>\n",
              "      <td>0.454545</td>\n",
              "      <td>0.166667</td>\n",
              "    </tr>\n",
              "    <tr>\n",
              "      <th>6544</th>\n",
              "      <td>0.230769</td>\n",
              "      <td>0.0</td>\n",
              "      <td>0.416667</td>\n",
              "      <td>0.0</td>\n",
              "      <td>1.0</td>\n",
              "      <td>0.031142</td>\n",
              "      <td>1.0</td>\n",
              "      <td>0.5</td>\n",
              "      <td>0.0446</td>\n",
              "      <td>0.010417</td>\n",
              "      <td>0.031142</td>\n",
              "      <td>0.5</td>\n",
              "      <td>0.363636</td>\n",
              "      <td>0.433333</td>\n",
              "      <td>0.5</td>\n",
              "      <td>0.363636</td>\n",
              "      <td>0.800000</td>\n",
              "    </tr>\n",
              "    <tr>\n",
              "      <th>6545</th>\n",
              "      <td>0.153846</td>\n",
              "      <td>0.0</td>\n",
              "      <td>0.333333</td>\n",
              "      <td>0.0</td>\n",
              "      <td>0.0</td>\n",
              "      <td>0.006920</td>\n",
              "      <td>0.0</td>\n",
              "      <td>0.5</td>\n",
              "      <td>0.0493</td>\n",
              "      <td>0.010417</td>\n",
              "      <td>0.006920</td>\n",
              "      <td>0.5</td>\n",
              "      <td>0.545455</td>\n",
              "      <td>0.500000</td>\n",
              "      <td>0.5</td>\n",
              "      <td>0.545455</td>\n",
              "      <td>0.633333</td>\n",
              "    </tr>\n",
              "    <tr>\n",
              "      <th>6546</th>\n",
              "      <td>0.179487</td>\n",
              "      <td>1.0</td>\n",
              "      <td>0.333333</td>\n",
              "      <td>0.5</td>\n",
              "      <td>0.0</td>\n",
              "      <td>0.031142</td>\n",
              "      <td>1.0</td>\n",
              "      <td>0.5</td>\n",
              "      <td>0.0400</td>\n",
              "      <td>0.000000</td>\n",
              "      <td>0.031142</td>\n",
              "      <td>1.0</td>\n",
              "      <td>0.000000</td>\n",
              "      <td>0.200000</td>\n",
              "      <td>1.0</td>\n",
              "      <td>0.000000</td>\n",
              "      <td>0.566667</td>\n",
              "    </tr>\n",
              "  </tbody>\n",
              "</table>\n",
              "<p>5580 rows × 17 columns</p>\n",
              "</div>\n",
              "    <div class=\"colab-df-buttons\">\n",
              "\n",
              "  <div class=\"colab-df-container\">\n",
              "    <button class=\"colab-df-convert\" onclick=\"convertToInteractive('df-29e31fe4-1971-4513-bf5f-d0b6a43655d1')\"\n",
              "            title=\"Convert this dataframe to an interactive table.\"\n",
              "            style=\"display:none;\">\n",
              "\n",
              "  <svg xmlns=\"http://www.w3.org/2000/svg\" height=\"24px\" viewBox=\"0 -960 960 960\">\n",
              "    <path d=\"M120-120v-720h720v720H120Zm60-500h600v-160H180v160Zm220 220h160v-160H400v160Zm0 220h160v-160H400v160ZM180-400h160v-160H180v160Zm440 0h160v-160H620v160ZM180-180h160v-160H180v160Zm440 0h160v-160H620v160Z\"/>\n",
              "  </svg>\n",
              "    </button>\n",
              "\n",
              "  <style>\n",
              "    .colab-df-container {\n",
              "      display:flex;\n",
              "      gap: 12px;\n",
              "    }\n",
              "\n",
              "    .colab-df-convert {\n",
              "      background-color: #E8F0FE;\n",
              "      border: none;\n",
              "      border-radius: 50%;\n",
              "      cursor: pointer;\n",
              "      display: none;\n",
              "      fill: #1967D2;\n",
              "      height: 32px;\n",
              "      padding: 0 0 0 0;\n",
              "      width: 32px;\n",
              "    }\n",
              "\n",
              "    .colab-df-convert:hover {\n",
              "      background-color: #E2EBFA;\n",
              "      box-shadow: 0px 1px 2px rgba(60, 64, 67, 0.3), 0px 1px 3px 1px rgba(60, 64, 67, 0.15);\n",
              "      fill: #174EA6;\n",
              "    }\n",
              "\n",
              "    .colab-df-buttons div {\n",
              "      margin-bottom: 4px;\n",
              "    }\n",
              "\n",
              "    [theme=dark] .colab-df-convert {\n",
              "      background-color: #3B4455;\n",
              "      fill: #D2E3FC;\n",
              "    }\n",
              "\n",
              "    [theme=dark] .colab-df-convert:hover {\n",
              "      background-color: #434B5C;\n",
              "      box-shadow: 0px 1px 3px 1px rgba(0, 0, 0, 0.15);\n",
              "      filter: drop-shadow(0px 1px 2px rgba(0, 0, 0, 0.3));\n",
              "      fill: #FFFFFF;\n",
              "    }\n",
              "  </style>\n",
              "\n",
              "    <script>\n",
              "      const buttonEl =\n",
              "        document.querySelector('#df-29e31fe4-1971-4513-bf5f-d0b6a43655d1 button.colab-df-convert');\n",
              "      buttonEl.style.display =\n",
              "        google.colab.kernel.accessAllowed ? 'block' : 'none';\n",
              "\n",
              "      async function convertToInteractive(key) {\n",
              "        const element = document.querySelector('#df-29e31fe4-1971-4513-bf5f-d0b6a43655d1');\n",
              "        const dataTable =\n",
              "          await google.colab.kernel.invokeFunction('convertToInteractive',\n",
              "                                                    [key], {});\n",
              "        if (!dataTable) return;\n",
              "\n",
              "        const docLinkHtml = 'Like what you see? Visit the ' +\n",
              "          '<a target=\"_blank\" href=https://colab.research.google.com/notebooks/data_table.ipynb>data table notebook</a>'\n",
              "          + ' to learn more about interactive tables.';\n",
              "        element.innerHTML = '';\n",
              "        dataTable['output_type'] = 'display_data';\n",
              "        await google.colab.output.renderOutput(dataTable, element);\n",
              "        const docLink = document.createElement('div');\n",
              "        docLink.innerHTML = docLinkHtml;\n",
              "        element.appendChild(docLink);\n",
              "      }\n",
              "    </script>\n",
              "  </div>\n",
              "\n",
              "\n",
              "<div id=\"df-28c362a9-7568-432c-adb3-439840d193ca\">\n",
              "  <button class=\"colab-df-quickchart\" onclick=\"quickchart('df-28c362a9-7568-432c-adb3-439840d193ca')\"\n",
              "            title=\"Suggest charts\"\n",
              "            style=\"display:none;\">\n",
              "\n",
              "<svg xmlns=\"http://www.w3.org/2000/svg\" height=\"24px\"viewBox=\"0 0 24 24\"\n",
              "     width=\"24px\">\n",
              "    <g>\n",
              "        <path d=\"M19 3H5c-1.1 0-2 .9-2 2v14c0 1.1.9 2 2 2h14c1.1 0 2-.9 2-2V5c0-1.1-.9-2-2-2zM9 17H7v-7h2v7zm4 0h-2V7h2v10zm4 0h-2v-4h2v4z\"/>\n",
              "    </g>\n",
              "</svg>\n",
              "  </button>\n",
              "\n",
              "<style>\n",
              "  .colab-df-quickchart {\n",
              "      --bg-color: #E8F0FE;\n",
              "      --fill-color: #1967D2;\n",
              "      --hover-bg-color: #E2EBFA;\n",
              "      --hover-fill-color: #174EA6;\n",
              "      --disabled-fill-color: #AAA;\n",
              "      --disabled-bg-color: #DDD;\n",
              "  }\n",
              "\n",
              "  [theme=dark] .colab-df-quickchart {\n",
              "      --bg-color: #3B4455;\n",
              "      --fill-color: #D2E3FC;\n",
              "      --hover-bg-color: #434B5C;\n",
              "      --hover-fill-color: #FFFFFF;\n",
              "      --disabled-bg-color: #3B4455;\n",
              "      --disabled-fill-color: #666;\n",
              "  }\n",
              "\n",
              "  .colab-df-quickchart {\n",
              "    background-color: var(--bg-color);\n",
              "    border: none;\n",
              "    border-radius: 50%;\n",
              "    cursor: pointer;\n",
              "    display: none;\n",
              "    fill: var(--fill-color);\n",
              "    height: 32px;\n",
              "    padding: 0;\n",
              "    width: 32px;\n",
              "  }\n",
              "\n",
              "  .colab-df-quickchart:hover {\n",
              "    background-color: var(--hover-bg-color);\n",
              "    box-shadow: 0 1px 2px rgba(60, 64, 67, 0.3), 0 1px 3px 1px rgba(60, 64, 67, 0.15);\n",
              "    fill: var(--button-hover-fill-color);\n",
              "  }\n",
              "\n",
              "  .colab-df-quickchart-complete:disabled,\n",
              "  .colab-df-quickchart-complete:disabled:hover {\n",
              "    background-color: var(--disabled-bg-color);\n",
              "    fill: var(--disabled-fill-color);\n",
              "    box-shadow: none;\n",
              "  }\n",
              "\n",
              "  .colab-df-spinner {\n",
              "    border: 2px solid var(--fill-color);\n",
              "    border-color: transparent;\n",
              "    border-bottom-color: var(--fill-color);\n",
              "    animation:\n",
              "      spin 1s steps(1) infinite;\n",
              "  }\n",
              "\n",
              "  @keyframes spin {\n",
              "    0% {\n",
              "      border-color: transparent;\n",
              "      border-bottom-color: var(--fill-color);\n",
              "      border-left-color: var(--fill-color);\n",
              "    }\n",
              "    20% {\n",
              "      border-color: transparent;\n",
              "      border-left-color: var(--fill-color);\n",
              "      border-top-color: var(--fill-color);\n",
              "    }\n",
              "    30% {\n",
              "      border-color: transparent;\n",
              "      border-left-color: var(--fill-color);\n",
              "      border-top-color: var(--fill-color);\n",
              "      border-right-color: var(--fill-color);\n",
              "    }\n",
              "    40% {\n",
              "      border-color: transparent;\n",
              "      border-right-color: var(--fill-color);\n",
              "      border-top-color: var(--fill-color);\n",
              "    }\n",
              "    60% {\n",
              "      border-color: transparent;\n",
              "      border-right-color: var(--fill-color);\n",
              "    }\n",
              "    80% {\n",
              "      border-color: transparent;\n",
              "      border-right-color: var(--fill-color);\n",
              "      border-bottom-color: var(--fill-color);\n",
              "    }\n",
              "    90% {\n",
              "      border-color: transparent;\n",
              "      border-bottom-color: var(--fill-color);\n",
              "    }\n",
              "  }\n",
              "</style>\n",
              "\n",
              "  <script>\n",
              "    async function quickchart(key) {\n",
              "      const quickchartButtonEl =\n",
              "        document.querySelector('#' + key + ' button');\n",
              "      quickchartButtonEl.disabled = true;  // To prevent multiple clicks.\n",
              "      quickchartButtonEl.classList.add('colab-df-spinner');\n",
              "      try {\n",
              "        const charts = await google.colab.kernel.invokeFunction(\n",
              "            'suggestCharts', [key], {});\n",
              "      } catch (error) {\n",
              "        console.error('Error during call to suggestCharts:', error);\n",
              "      }\n",
              "      quickchartButtonEl.classList.remove('colab-df-spinner');\n",
              "      quickchartButtonEl.classList.add('colab-df-quickchart-complete');\n",
              "    }\n",
              "    (() => {\n",
              "      let quickchartButtonEl =\n",
              "        document.querySelector('#df-28c362a9-7568-432c-adb3-439840d193ca button');\n",
              "      quickchartButtonEl.style.display =\n",
              "        google.colab.kernel.accessAllowed ? 'block' : 'none';\n",
              "    })();\n",
              "  </script>\n",
              "</div>\n",
              "\n",
              "    </div>\n",
              "  </div>\n"
            ],
            "application/vnd.google.colaboratory.intrinsic+json": {
              "type": "dataframe",
              "summary": "{\n  \"name\": \"df[colum_num]\",\n  \"rows\": 5580,\n  \"fields\": [\n    {\n      \"column\": \"Age\",\n      \"properties\": {\n        \"dtype\": \"number\",\n        \"std\": 0.14079330132217968,\n        \"min\": 0.0,\n        \"max\": 1.0,\n        \"num_unique_values\": 37,\n        \"samples\": [\n          0.43589743589743585,\n          0.25641025641025644,\n          0.23076923076923078\n        ],\n        \"semantic_type\": \"\",\n        \"description\": \"\"\n      }\n    },\n    {\n      \"column\": \"Gender\",\n      \"properties\": {\n        \"dtype\": \"number\",\n        \"std\": 0.49644874100707537,\n        \"min\": 0.0,\n        \"max\": 1.0,\n        \"num_unique_values\": 2,\n        \"samples\": [\n          0.0,\n          1.0\n        ],\n        \"semantic_type\": \"\",\n        \"description\": \"\"\n      }\n    },\n    {\n      \"column\": \"Home Region\",\n      \"properties\": {\n        \"dtype\": \"number\",\n        \"std\": 0.21976406910408855,\n        \"min\": 0.0,\n        \"max\": 1.0,\n        \"num_unique_values\": 13,\n        \"samples\": [\n          0.75,\n          0.08333333333333333\n        ],\n        \"semantic_type\": \"\",\n        \"description\": \"\"\n      }\n    },\n    {\n      \"column\": \"Program Skill Level\",\n      \"properties\": {\n        \"dtype\": \"number\",\n        \"std\": 0.35292667711211706,\n        \"min\": 0.0,\n        \"max\": 1.0,\n        \"num_unique_values\": 3,\n        \"samples\": [\n          0.5,\n          0.0\n        ],\n        \"semantic_type\": \"\",\n        \"description\": \"\"\n      }\n    },\n    {\n      \"column\": \"Program Presentation Method\",\n      \"properties\": {\n        \"dtype\": \"number\",\n        \"std\": 0.42511844516171154,\n        \"min\": 0.0,\n        \"max\": 1.0,\n        \"num_unique_values\": 2,\n        \"samples\": [\n          1.0,\n          0.0\n        ],\n        \"semantic_type\": \"\",\n        \"description\": \"\"\n      }\n    },\n    {\n      \"column\": \"Program Days\",\n      \"properties\": {\n        \"dtype\": \"number\",\n        \"std\": 0.11629746211497972,\n        \"min\": 0.0,\n        \"max\": 0.9999999999999999,\n        \"num_unique_values\": 24,\n        \"samples\": [\n          0.0034602076124567484,\n          0.07612456747404844\n        ],\n        \"semantic_type\": \"\",\n        \"description\": \"\"\n      }\n    },\n    {\n      \"column\": \"Completed Degree\",\n      \"properties\": {\n        \"dtype\": \"number\",\n        \"std\": 0.4023029706687155,\n        \"min\": 0.0,\n        \"max\": 1.0,\n        \"num_unique_values\": 2,\n        \"samples\": [\n          0.0,\n          1.0\n        ],\n        \"semantic_type\": \"\",\n        \"description\": \"\"\n      }\n    },\n    {\n      \"column\": \"Level of Education\",\n      \"properties\": {\n        \"dtype\": \"number\",\n        \"std\": 0.13633587257270138,\n        \"min\": 0.0,\n        \"max\": 1.0,\n        \"num_unique_values\": 5,\n        \"samples\": [\n          0.75,\n          0.25\n        ],\n        \"semantic_type\": \"\",\n        \"description\": \"\"\n      }\n    },\n    {\n      \"column\": \"University Degree Score\",\n      \"properties\": {\n        \"dtype\": \"number\",\n        \"std\": 0.19104615793537366,\n        \"min\": 0.0,\n        \"max\": 1.0,\n        \"num_unique_values\": 425,\n        \"samples\": [\n          0.0202,\n          0.0451\n        ],\n        \"semantic_type\": \"\",\n        \"description\": \"\"\n      }\n    },\n    {\n      \"column\": \"University Degree Score System\",\n      \"properties\": {\n        \"dtype\": \"number\",\n        \"std\": 0.22274973132839815,\n        \"min\": 0.0,\n        \"max\": 0.9999999999999999,\n        \"num_unique_values\": 3,\n        \"samples\": [\n          0.0,\n          0.010416666666666664\n        ],\n        \"semantic_type\": \"\",\n        \"description\": \"\"\n      }\n    },\n    {\n      \"column\": \"Duration\",\n      \"properties\": {\n        \"dtype\": \"number\",\n        \"std\": 0.11629746211497972,\n        \"min\": 0.0,\n        \"max\": 1.0,\n        \"num_unique_values\": 24,\n        \"samples\": [\n          0.0034602076124567466,\n          0.07612456747404844\n        ],\n        \"semantic_type\": \"\",\n        \"description\": \"\"\n      }\n    },\n    {\n      \"column\": \"Start Year\",\n      \"properties\": {\n        \"dtype\": \"number\",\n        \"std\": 0.22093971631851916,\n        \"min\": 0.0,\n        \"max\": 1.0,\n        \"num_unique_values\": 3,\n        \"samples\": [\n          0.5,\n          0.0\n        ],\n        \"semantic_type\": \"\",\n        \"description\": \"\"\n      }\n    },\n    {\n      \"column\": \"Start Month\",\n      \"properties\": {\n        \"dtype\": \"number\",\n        \"std\": 0.32800728640400945,\n        \"min\": 0.0,\n        \"max\": 0.9999999999999999,\n        \"num_unique_values\": 12,\n        \"samples\": [\n          0.09090909090909091,\n          0.8181818181818182\n        ],\n        \"semantic_type\": \"\",\n        \"description\": \"\"\n      }\n    },\n    {\n      \"column\": \"Start Day\",\n      \"properties\": {\n        \"dtype\": \"number\",\n        \"std\": 0.2995173694229335,\n        \"min\": 0.0,\n        \"max\": 0.9999999999999999,\n        \"num_unique_values\": 31,\n        \"samples\": [\n          0.9333333333333333,\n          0.5666666666666667\n        ],\n        \"semantic_type\": \"\",\n        \"description\": \"\"\n      }\n    },\n    {\n      \"column\": \"End Year\",\n      \"properties\": {\n        \"dtype\": \"number\",\n        \"std\": 0.2282871045645127,\n        \"min\": 0.0,\n        \"max\": 1.0,\n        \"num_unique_values\": 3,\n        \"samples\": [\n          0.5,\n          0.0\n        ],\n        \"semantic_type\": \"\",\n        \"description\": \"\"\n      }\n    },\n    {\n      \"column\": \"End Month\",\n      \"properties\": {\n        \"dtype\": \"number\",\n        \"std\": 0.3260888088497751,\n        \"min\": 0.0,\n        \"max\": 0.9999999999999999,\n        \"num_unique_values\": 12,\n        \"samples\": [\n          0.09090909090909091,\n          0.5454545454545454\n        ],\n        \"semantic_type\": \"\",\n        \"description\": \"\"\n      }\n    },\n    {\n      \"column\": \"End Day\",\n      \"properties\": {\n        \"dtype\": \"number\",\n        \"std\": 0.2830591237880491,\n        \"min\": 0.0,\n        \"max\": 0.9999999999999999,\n        \"num_unique_values\": 31,\n        \"samples\": [\n          0.9666666666666667,\n          0.9999999999999999\n        ],\n        \"semantic_type\": \"\",\n        \"description\": \"\"\n      }\n    }\n  ]\n}"
            }
          },
          "metadata": {},
          "execution_count": 1343
        }
      ],
      "source": [
        "df[colum_num]"
      ]
    },
    {
      "cell_type": "markdown",
      "source": [
        "# Model Building"
      ],
      "metadata": {
        "id": "MIshOqrZb_Ie"
      }
    },
    {
      "cell_type": "code",
      "source": [
        "X = df.drop(columns=['Y'])\n",
        "y = df['Y']"
      ],
      "metadata": {
        "id": "6_NcR3XMuXEX"
      },
      "execution_count": 1344,
      "outputs": []
    },
    {
      "cell_type": "markdown",
      "source": [
        "Split the preprocessed data into training and testing sets."
      ],
      "metadata": {
        "id": "RhrEjrHRdJxA"
      }
    },
    {
      "cell_type": "code",
      "source": [
        "from sklearn.model_selection import train_test_split\n",
        "\n",
        "# Splitting the initial data into training and testing sets\n",
        "X_train, X_test, y_train, y_test = train_test_split(X, y, test_size=0.2, random_state=42)\n",
        "\n",
        "# Splitting the training set further into training and validation sets\n",
        "X_train, X_val, y_train, y_val = train_test_split(X_train, y_train, test_size=0.25, random_state=12)"
      ],
      "metadata": {
        "id": "UhTdLh_x8-Tg"
      },
      "execution_count": 1345,
      "outputs": []
    },
    {
      "cell_type": "markdown",
      "source": [
        "Implement machine learning models and Evaluate the performance of each model"
      ],
      "metadata": {
        "id": "6ivqcnebdR4Q"
      }
    },
    {
      "cell_type": "markdown",
      "source": [
        "## Logistic Regression"
      ],
      "metadata": {
        "id": "gNe1jHDIdThg"
      }
    },
    {
      "cell_type": "code",
      "source": [
        "#Supervised ML\n",
        "from sklearn.linear_model import LogisticRegression\n",
        "from sklearn.metrics import accuracy_score, precision_score, recall_score, f1_score\n",
        "log_reg = LogisticRegression(solver=\"lbfgs\", random_state=42, max_iter=1000)\n",
        "\n",
        "log_reg.fit(X_train,y_train)\n",
        "y_hat=log_reg.predict(X_test)\n",
        "# Performance Evaluation\n",
        "from sklearn.metrics import accuracy_score\n",
        "accuracy=accuracy_score(y_test,y_hat)\n",
        "print(f'The accuracy:{accuracy:.2%}')\n",
        "recall = recall_score(y_test, y_hat, average='weighted')\n",
        "print(f'F1-score: {f1:.2%}')"
      ],
      "metadata": {
        "colab": {
          "base_uri": "https://localhost:8080/"
        },
        "id": "alfByF1VHRa1",
        "outputId": "b47abd44-dbfa-4786-884d-5b7dc6496df8"
      },
      "execution_count": 1346,
      "outputs": [
        {
          "output_type": "stream",
          "name": "stdout",
          "text": [
            "The accuracy:86.56%\n",
            "F1-score: 89.08%\n"
          ]
        }
      ]
    },
    {
      "cell_type": "markdown",
      "source": [
        "## Support Vector Classification (SVC)"
      ],
      "metadata": {
        "id": "HAon6AmFdhGJ"
      }
    },
    {
      "cell_type": "code",
      "source": [
        "from sklearn.svm import SVC\n",
        "from sklearn.metrics import accuracy_score\n",
        "\n",
        "\n",
        "svm_classifier = SVC()\n",
        "\n",
        "svm_classifier.fit(X_train, y_train)\n",
        "y_hat= svm_classifier.predict(X_test)\n",
        "\n",
        "# Performance Evaluation\n",
        "\n",
        "val_accuracy = svm_classifier.score(X_val, y_val)\n",
        "print(f'The Accuracy of The SVC on the Validation Set is: {val_accuracy:.2%}')\n",
        "\n",
        "accuracy = accuracy_score(y_test, y_hat)\n",
        "print(f'The Accuracy of The SVC is: {accuracy:.2%}')\n",
        "\n",
        "from sklearn.model_selection import cross_val_score, KFold\n",
        "\n",
        "score = cross_val_score(svm_classifier, X_train, y_train, cv=5, scoring='f1_weighted').mean()\n",
        "print('Cross Validation  scores are: {}'.format(score))\n",
        "\n",
        "recall = recall_score(y_test, y_hat, average='weighted')\n",
        "print(f'F1-score: {f1:.2%}')"
      ],
      "metadata": {
        "colab": {
          "base_uri": "https://localhost:8080/"
        },
        "id": "H3x6v-yVGsuA",
        "outputId": "e6019c34-51ef-4081-a3d9-e8aba9e70ce2"
      },
      "execution_count": 1347,
      "outputs": [
        {
          "output_type": "stream",
          "name": "stdout",
          "text": [
            "The Accuracy of The SVC on the Validation Set is: 89.87%\n",
            "The Accuracy of The SVC is: 89.07%\n",
            "Cross Validation  scores are: 0.8688840720567879\n",
            "F1-score: 89.08%\n"
          ]
        }
      ]
    },
    {
      "cell_type": "markdown",
      "source": [
        "## Random Forest Classifier"
      ],
      "metadata": {
        "id": "DEWUefYzdmAy"
      }
    },
    {
      "cell_type": "code",
      "source": [
        "from sklearn.ensemble import RandomForestClassifier\n",
        "\n",
        "rf_classifier = RandomForestClassifier()\n",
        "\n",
        "#Train\n",
        "rf_classifier.fit(X_train, y_train)\n",
        "\n",
        "y_hat = rf_classifier.predict(X_test)\n",
        "\n",
        "#Accuracy the model\n",
        "val_accuracy_RF = rf_classifier.score(X_val, y_val)\n",
        "print(f'The accuracy of the  RandomForeston the validation set is: {val_accuracy_RF:.2%}')\n",
        "\n",
        "accuracy_rf = accuracy_score(y_test, y_hat)\n",
        "print(f'The accuracy of the RandomForest is: {accuracy_rf:.2%}')\n",
        "\n",
        "\n",
        "rf = RandomForestClassifier(n_estimators=50, random_state=13)\n",
        "score = cross_val_score(rf, X_train, y_train, cv=5, scoring='f1_weighted').mean()\n",
        "print('Cross Validation  scores are: {}'.format(score))\n",
        "\n",
        "recall = recall_score(y_test, y_hat, average='weighted')\n",
        "print(f'F1-score: {f1:.2%}')\n"
      ],
      "metadata": {
        "colab": {
          "base_uri": "https://localhost:8080/"
        },
        "id": "oqie9tPLHbHU",
        "outputId": "8afffc03-7d2c-4a27-f7b7-b64a1519c916"
      },
      "execution_count": 1348,
      "outputs": [
        {
          "output_type": "stream",
          "name": "stdout",
          "text": [
            "The accuracy of the  RandomForeston the validation set is: 89.25%\n",
            "The accuracy of the RandomForest is: 89.96%\n",
            "Cross Validation  scores are: 0.8574414784423745\n",
            "F1-score: 89.08%\n"
          ]
        }
      ]
    },
    {
      "cell_type": "markdown",
      "source": [
        "## Fine-tune Hyperparameters"
      ],
      "metadata": {
        "id": "xi0a6zJCNJuX"
      }
    },
    {
      "cell_type": "markdown",
      "source": [
        "## Randomized Search CV on SVC"
      ],
      "metadata": {
        "id": "Z_GF_x2feWWs"
      }
    },
    {
      "cell_type": "code",
      "source": [
        "from sklearn.model_selection import RandomizedSearchCV\n",
        "from sklearn.svm import SVC\n",
        "\n",
        "\n",
        "grid = RandomizedSearchCV(\n",
        "    SVC(),\n",
        "    {\n",
        "        'C': [1,3,5,10],\n",
        "        'gamma': [ 0.1, 1, 'scale', 'auto'],\n",
        "        'kernel': ['linear', 'rbf', 'poly', 'sigmoid'],\n",
        "    },\n",
        "    cv=5,\n",
        "    refit=True,\n",
        "    n_iter=2,\n",
        ")\n",
        "\n",
        "\n",
        "grid.fit(X_train, y_train)\n",
        "\n",
        "\n",
        "print(grid.best_params_)\n",
        "print(f'Accuracy = {grid.best_score_:.2%}')\n",
        "\n",
        "\n",
        "svm_classifier = grid.best_estimator_"
      ],
      "metadata": {
        "id": "1cfFMPHn9E1v",
        "colab": {
          "base_uri": "https://localhost:8080/"
        },
        "outputId": "142f0349-2374-4b85-d63d-32647be21520"
      },
      "execution_count": 1349,
      "outputs": [
        {
          "output_type": "stream",
          "name": "stdout",
          "text": [
            "{'kernel': 'rbf', 'gamma': 'scale', 'C': 3}\n",
            "Accuracy = 87.78%\n"
          ]
        }
      ]
    },
    {
      "cell_type": "markdown",
      "source": [
        "## Randomized Search CV on Decision Tree Classifier"
      ],
      "metadata": {
        "id": "2eZkQEsTeZLm"
      }
    },
    {
      "cell_type": "code",
      "source": [
        "from sklearn.tree import DecisionTreeClassifier\n",
        "from sklearn.model_selection import RandomizedSearchCV\n",
        "\n",
        "grid = RandomizedSearchCV(\n",
        "    DecisionTreeClassifier(),\n",
        "    {\n",
        "        'max_depth': [None, 1, 2, 3, 7, 10, 20, 30, 15, 21, 17, 40],\n",
        "        'splitter': ['random', 'best'],\n",
        "    },\n",
        "    cv=5,\n",
        "    refit=True,\n",
        "    n_iter=2,\n",
        ")\n",
        "\n",
        "grid.fit(X_train, y_train)\n",
        "\n",
        "print(grid.best_params_)\n",
        "print(f'Accuracy = {grid.best_score_:.2%}')\n",
        "\n",
        "dt = grid.best_estimator_"
      ],
      "metadata": {
        "colab": {
          "base_uri": "https://localhost:8080/"
        },
        "id": "mHwjTE7rzdXL",
        "outputId": "8da61663-118c-40aa-a32f-d408ae25afd3"
      },
      "execution_count": 1350,
      "outputs": [
        {
          "output_type": "stream",
          "name": "stdout",
          "text": [
            "{'splitter': 'random', 'max_depth': 2}\n",
            "Accuracy = 84.74%\n"
          ]
        }
      ]
    },
    {
      "cell_type": "markdown",
      "source": [
        "## Randomized Search CV on   Random Forest Classifier"
      ],
      "metadata": {
        "id": "-SpJnzpFNdYM"
      }
    },
    {
      "cell_type": "code",
      "source": [
        "from sklearn.model_selection import RandomizedSearchCV\n",
        "from sklearn.ensemble import RandomForestClassifier\n",
        "\n",
        "\n",
        "grid = RandomizedSearchCV(\n",
        "    RandomForestClassifier(),\n",
        "    {\n",
        "       'n_estimators': [1,3,5,10,50, 100, 150],\n",
        "       'criterion': ['gini', 'entropy'],\n",
        "       'max_depth': [None, 10, 20, 30]\n",
        "    },\n",
        "    cv=8,\n",
        "    refit=True,\n",
        "    n_iter=5,\n",
        ")\n",
        "\n",
        "\n",
        "grid.fit(X_train, y_train)\n",
        "\n",
        "\n",
        "print(grid.best_params_)\n",
        "print(f'Accuracy = {grid.best_score_:.2%}')\n",
        "\n",
        "\n",
        "RF_classifier = grid.best_estimator_"
      ],
      "metadata": {
        "colab": {
          "base_uri": "https://localhost:8080/"
        },
        "id": "tBQfzIdk7d-H",
        "outputId": "2d6ddd79-e03d-4a93-da2b-230607f11058"
      },
      "execution_count": 1351,
      "outputs": [
        {
          "output_type": "stream",
          "name": "stdout",
          "text": [
            "{'n_estimators': 100, 'max_depth': None, 'criterion': 'entropy'}\n",
            "Accuracy = 87.22%\n"
          ]
        }
      ]
    },
    {
      "cell_type": "markdown",
      "source": [
        "# Voting Models"
      ],
      "metadata": {
        "id": "QV4KomKZeQuW"
      }
    },
    {
      "cell_type": "code",
      "source": [
        "from sklearn.ensemble import VotingClassifier\n",
        "\n",
        "model = VotingClassifier([\n",
        "    ('svm_classifier', svm_classifier),\n",
        "    ('RF_classifier', RF_classifier),\n",
        "    ('DecisionTreeClassifier', dt),\n",
        "])\n",
        "\n",
        "# Train the model\n",
        "model.fit(X_train, y_train)"
      ],
      "metadata": {
        "colab": {
          "base_uri": "https://localhost:8080/",
          "height": 108
        },
        "id": "a6fJbRsy3zIn",
        "outputId": "c68e7fd6-19a7-4f71-f444-ccb17fd350eb"
      },
      "execution_count": 1352,
      "outputs": [
        {
          "output_type": "execute_result",
          "data": {
            "text/plain": [
              "VotingClassifier(estimators=[('svm_classifier', SVC(C=3)),\n",
              "                             ('RF_classifier',\n",
              "                              RandomForestClassifier(criterion='entropy')),\n",
              "                             ('DecisionTreeClassifier',\n",
              "                              DecisionTreeClassifier(max_depth=2,\n",
              "                                                     splitter='random'))])"
            ],
            "text/html": [
              "<style>#sk-container-id-14 {color: black;background-color: white;}#sk-container-id-14 pre{padding: 0;}#sk-container-id-14 div.sk-toggleable {background-color: white;}#sk-container-id-14 label.sk-toggleable__label {cursor: pointer;display: block;width: 100%;margin-bottom: 0;padding: 0.3em;box-sizing: border-box;text-align: center;}#sk-container-id-14 label.sk-toggleable__label-arrow:before {content: \"▸\";float: left;margin-right: 0.25em;color: #696969;}#sk-container-id-14 label.sk-toggleable__label-arrow:hover:before {color: black;}#sk-container-id-14 div.sk-estimator:hover label.sk-toggleable__label-arrow:before {color: black;}#sk-container-id-14 div.sk-toggleable__content {max-height: 0;max-width: 0;overflow: hidden;text-align: left;background-color: #f0f8ff;}#sk-container-id-14 div.sk-toggleable__content pre {margin: 0.2em;color: black;border-radius: 0.25em;background-color: #f0f8ff;}#sk-container-id-14 input.sk-toggleable__control:checked~div.sk-toggleable__content {max-height: 200px;max-width: 100%;overflow: auto;}#sk-container-id-14 input.sk-toggleable__control:checked~label.sk-toggleable__label-arrow:before {content: \"▾\";}#sk-container-id-14 div.sk-estimator input.sk-toggleable__control:checked~label.sk-toggleable__label {background-color: #d4ebff;}#sk-container-id-14 div.sk-label input.sk-toggleable__control:checked~label.sk-toggleable__label {background-color: #d4ebff;}#sk-container-id-14 input.sk-hidden--visually {border: 0;clip: rect(1px 1px 1px 1px);clip: rect(1px, 1px, 1px, 1px);height: 1px;margin: -1px;overflow: hidden;padding: 0;position: absolute;width: 1px;}#sk-container-id-14 div.sk-estimator {font-family: monospace;background-color: #f0f8ff;border: 1px dotted black;border-radius: 0.25em;box-sizing: border-box;margin-bottom: 0.5em;}#sk-container-id-14 div.sk-estimator:hover {background-color: #d4ebff;}#sk-container-id-14 div.sk-parallel-item::after {content: \"\";width: 100%;border-bottom: 1px solid gray;flex-grow: 1;}#sk-container-id-14 div.sk-label:hover label.sk-toggleable__label {background-color: #d4ebff;}#sk-container-id-14 div.sk-serial::before {content: \"\";position: absolute;border-left: 1px solid gray;box-sizing: border-box;top: 0;bottom: 0;left: 50%;z-index: 0;}#sk-container-id-14 div.sk-serial {display: flex;flex-direction: column;align-items: center;background-color: white;padding-right: 0.2em;padding-left: 0.2em;position: relative;}#sk-container-id-14 div.sk-item {position: relative;z-index: 1;}#sk-container-id-14 div.sk-parallel {display: flex;align-items: stretch;justify-content: center;background-color: white;position: relative;}#sk-container-id-14 div.sk-item::before, #sk-container-id-14 div.sk-parallel-item::before {content: \"\";position: absolute;border-left: 1px solid gray;box-sizing: border-box;top: 0;bottom: 0;left: 50%;z-index: -1;}#sk-container-id-14 div.sk-parallel-item {display: flex;flex-direction: column;z-index: 1;position: relative;background-color: white;}#sk-container-id-14 div.sk-parallel-item:first-child::after {align-self: flex-end;width: 50%;}#sk-container-id-14 div.sk-parallel-item:last-child::after {align-self: flex-start;width: 50%;}#sk-container-id-14 div.sk-parallel-item:only-child::after {width: 0;}#sk-container-id-14 div.sk-dashed-wrapped {border: 1px dashed gray;margin: 0 0.4em 0.5em 0.4em;box-sizing: border-box;padding-bottom: 0.4em;background-color: white;}#sk-container-id-14 div.sk-label label {font-family: monospace;font-weight: bold;display: inline-block;line-height: 1.2em;}#sk-container-id-14 div.sk-label-container {text-align: center;}#sk-container-id-14 div.sk-container {/* jupyter's `normalize.less` sets `[hidden] { display: none; }` but bootstrap.min.css set `[hidden] { display: none !important; }` so we also need the `!important` here to be able to override the default hidden behavior on the sphinx rendered scikit-learn.org. See: https://github.com/scikit-learn/scikit-learn/issues/21755 */display: inline-block !important;position: relative;}#sk-container-id-14 div.sk-text-repr-fallback {display: none;}</style><div id=\"sk-container-id-14\" class=\"sk-top-container\"><div class=\"sk-text-repr-fallback\"><pre>VotingClassifier(estimators=[(&#x27;svm_classifier&#x27;, SVC(C=3)),\n",
              "                             (&#x27;RF_classifier&#x27;,\n",
              "                              RandomForestClassifier(criterion=&#x27;entropy&#x27;)),\n",
              "                             (&#x27;DecisionTreeClassifier&#x27;,\n",
              "                              DecisionTreeClassifier(max_depth=2,\n",
              "                                                     splitter=&#x27;random&#x27;))])</pre><b>In a Jupyter environment, please rerun this cell to show the HTML representation or trust the notebook. <br />On GitHub, the HTML representation is unable to render, please try loading this page with nbviewer.org.</b></div><div class=\"sk-container\" hidden><div class=\"sk-item sk-dashed-wrapped\"><div class=\"sk-label-container\"><div class=\"sk-label sk-toggleable\"><input class=\"sk-toggleable__control sk-hidden--visually\" id=\"sk-estimator-id-53\" type=\"checkbox\" ><label for=\"sk-estimator-id-53\" class=\"sk-toggleable__label sk-toggleable__label-arrow\">VotingClassifier</label><div class=\"sk-toggleable__content\"><pre>VotingClassifier(estimators=[(&#x27;svm_classifier&#x27;, SVC(C=3)),\n",
              "                             (&#x27;RF_classifier&#x27;,\n",
              "                              RandomForestClassifier(criterion=&#x27;entropy&#x27;)),\n",
              "                             (&#x27;DecisionTreeClassifier&#x27;,\n",
              "                              DecisionTreeClassifier(max_depth=2,\n",
              "                                                     splitter=&#x27;random&#x27;))])</pre></div></div></div><div class=\"sk-parallel\"><div class=\"sk-parallel-item\"><div class=\"sk-item\"><div class=\"sk-label-container\"><div class=\"sk-label sk-toggleable\"><label>svm_classifier</label></div></div><div class=\"sk-serial\"><div class=\"sk-item\"><div class=\"sk-estimator sk-toggleable\"><input class=\"sk-toggleable__control sk-hidden--visually\" id=\"sk-estimator-id-54\" type=\"checkbox\" ><label for=\"sk-estimator-id-54\" class=\"sk-toggleable__label sk-toggleable__label-arrow\">SVC</label><div class=\"sk-toggleable__content\"><pre>SVC(C=3)</pre></div></div></div></div></div></div><div class=\"sk-parallel-item\"><div class=\"sk-item\"><div class=\"sk-label-container\"><div class=\"sk-label sk-toggleable\"><label>RF_classifier</label></div></div><div class=\"sk-serial\"><div class=\"sk-item\"><div class=\"sk-estimator sk-toggleable\"><input class=\"sk-toggleable__control sk-hidden--visually\" id=\"sk-estimator-id-55\" type=\"checkbox\" ><label for=\"sk-estimator-id-55\" class=\"sk-toggleable__label sk-toggleable__label-arrow\">RandomForestClassifier</label><div class=\"sk-toggleable__content\"><pre>RandomForestClassifier(criterion=&#x27;entropy&#x27;)</pre></div></div></div></div></div></div><div class=\"sk-parallel-item\"><div class=\"sk-item\"><div class=\"sk-label-container\"><div class=\"sk-label sk-toggleable\"><label>DecisionTreeClassifier</label></div></div><div class=\"sk-serial\"><div class=\"sk-item\"><div class=\"sk-estimator sk-toggleable\"><input class=\"sk-toggleable__control sk-hidden--visually\" id=\"sk-estimator-id-56\" type=\"checkbox\" ><label for=\"sk-estimator-id-56\" class=\"sk-toggleable__label sk-toggleable__label-arrow\">DecisionTreeClassifier</label><div class=\"sk-toggleable__content\"><pre>DecisionTreeClassifier(max_depth=2, splitter=&#x27;random&#x27;)</pre></div></div></div></div></div></div></div></div></div></div>"
            ]
          },
          "metadata": {},
          "execution_count": 1352
        }
      ]
    },
    {
      "cell_type": "code",
      "source": [
        "from sklearn.metrics import accuracy_score, precision_score, recall_score, f1_score\n",
        "\n",
        "accuracy = accuracy_score(y_test, y_hat)\n",
        "precision = precision_score(y_test, y_hat, average='weighted')\n",
        "recall = recall_score(y_test, y_hat, average='weighted')\n",
        "f1 = f1_score(y_test, y_hat, average='weighted')\n",
        "\n",
        "print(f'Accuracy: {accuracy:.2%}')\n",
        "print(f'Precision: {precision:.2%}')\n",
        "print(f'Recall: {recall:.2%}')\n",
        "print(f'F1-score: {f1:.2%}')"
      ],
      "metadata": {
        "colab": {
          "base_uri": "https://localhost:8080/"
        },
        "id": "9gJK5wE66f0i",
        "outputId": "00f54625-c1b4-47dd-fc74-090bb818e3d0"
      },
      "execution_count": 1353,
      "outputs": [
        {
          "output_type": "stream",
          "name": "stdout",
          "text": [
            "Accuracy: 89.96%\n",
            "Precision: 89.33%\n",
            "Recall: 89.96%\n",
            "F1-score: 89.43%\n"
          ]
        }
      ]
    },
    {
      "cell_type": "markdown",
      "source": [],
      "metadata": {
        "id": "_sUtnQ_rL8lc"
      }
    },
    {
      "cell_type": "markdown",
      "source": [
        "# Conclution"
      ],
      "metadata": {
        "id": "uG33Pis1iYN-"
      }
    },
    {
      "cell_type": "markdown",
      "source": [
        "In conclution\n",
        "The Best Models With The Higher Acuuracy Score is Random Forest Classifier with accuracy of the validation  is: 89.70%\n",
        "The accuracy  is: 89.96%\n",
        "Cross Validation scores is: 0.8574414784423745\n",
        "F1-score: 88.84%\n",
        "\n",
        "In the Voting Classifier, combining three base classifiers, performed well with 89.96% accuracy.\n",
        "It achieved 89.33% precision, 89.96% recall, and an 89.43% F1-scor\n",
        "\n",
        "the challenges we faced :\n",
        " in the dataset\n",
        " dealing with null values , encoding , mix arabic and english answers\n",
        "\n"
      ],
      "metadata": {
        "id": "zaxwSrQvie70"
      }
    }
  ],
  "metadata": {
    "colab": {
      "provenance": []
    },
    "kernelspec": {
      "display_name": "Python 3",
      "name": "python3"
    },
    "language_info": {
      "codemirror_mode": {
        "name": "ipython",
        "version": 3
      },
      "file_extension": ".py",
      "mimetype": "text/x-python",
      "name": "python",
      "nbconvert_exporter": "python",
      "pygments_lexer": "ipython3",
      "version": "3.12.2"
    }
  },
  "nbformat": 4,
  "nbformat_minor": 0
}